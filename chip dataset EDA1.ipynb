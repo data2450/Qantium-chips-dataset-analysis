{
  "nbformat": 4,
  "nbformat_minor": 0,
  "metadata": {
    "colab": {
      "name": "my chip dataset.ipynb",
      "provenance": [],
      "collapsed_sections": []
    },
    "kernelspec": {
      "name": "python3",
      "display_name": "Python 3"
    }
  },
  "cells": [
    {
      "cell_type": "code",
      "metadata": {
        "id": "nNxrV2hNq13c",
        "colab_type": "code",
        "colab": {}
      },
      "source": [
        "##our agenda of this project is to help the category manager to to have the right produt at the right shelf\n",
        "#1.planning what brand to stock in what layout ,involving qunatity \n",
        "#2.find out the types of coutmer who purchase chips and their purchasing behavior within the region\n",
        "url1=\"https://insidesherpa.s3.amazonaws.com/vinternships/companyassets/32A6DqtsbF7LbKdcq/QVI_purchase_behaviour.csv\""
      ],
      "execution_count": null,
      "outputs": []
    },
    {
      "cell_type": "code",
      "metadata": {
        "id": "JNRni6oeviNw",
        "colab_type": "code",
        "colab": {}
      },
      "source": [
        "url2=\"https://insidesherpa.s3.amazonaws.com/vinternships/companyassets/32A6DqtsbF7LbKdcq/QVI_transaction_data.xlsx\""
      ],
      "execution_count": null,
      "outputs": []
    },
    {
      "cell_type": "code",
      "metadata": {
        "id": "EU5lacgcuDmW",
        "colab_type": "code",
        "colab": {
          "base_uri": "https://localhost:8080/",
          "height": 54
        },
        "outputId": "3e644394-f28f-4f36-f4e3-f1f34e537528"
      },
      "source": [
        "import pandas as pd\n",
        "import numpy as np\n",
        "import seaborn as sns\n",
        "import matplotlib.pyplot as plt\n",
        "import missingno\n",
        "import datetime\n",
        "from matplotlib.dates import DateFormatter\n",
        "import datetime\n",
        "from matplotlib.dates import DateFormatter\n",
        "\n",
        "# text analysis\n",
        "import nltk\n",
        "nltk.download('punkt')\n",
        "from nltk.tokenize import word_tokenize\n",
        "from nltk.probability import FreqDist as fdist\n",
        "import re\n",
        "\n",
        "# statistical analysis\n",
        "from scipy.stats import ttest_ind\n",
        "\n",
        "# warnings\n",
        "import warnings\n",
        "warnings.filterwarnings('ignore')\n"
      ],
      "execution_count": null,
      "outputs": [
        {
          "output_type": "stream",
          "text": [
            "[nltk_data] Downloading package punkt to /root/nltk_data...\n",
            "[nltk_data]   Package punkt is already up-to-date!\n"
          ],
          "name": "stdout"
        }
      ]
    },
    {
      "cell_type": "code",
      "metadata": {
        "id": "p5r1rUybsai3",
        "colab_type": "code",
        "colab": {}
      },
      "source": [
        "transactiondata=pd.read_excel(url2)\n",
        "customerdata=pd.read_csv(url1)"
      ],
      "execution_count": null,
      "outputs": []
    },
    {
      "cell_type": "code",
      "metadata": {
        "id": "ZyzDsc8-v2L5",
        "colab_type": "code",
        "colab": {
          "base_uri": "https://localhost:8080/",
          "height": 198
        },
        "outputId": "f0aede77-25c5-4ac1-f938-e6387544695d"
      },
      "source": [
        "custozmerdata.head()"
      ],
      "execution_count": null,
      "outputs": [
        {
          "output_type": "execute_result",
          "data": {
            "text/html": [
              "<div>\n",
              "<style scoped>\n",
              "    .dataframe tbody tr th:only-of-type {\n",
              "        vertical-align: middle;\n",
              "    }\n",
              "\n",
              "    .dataframe tbody tr th {\n",
              "        vertical-align: top;\n",
              "    }\n",
              "\n",
              "    .dataframe thead th {\n",
              "        text-align: right;\n",
              "    }\n",
              "</style>\n",
              "<table border=\"1\" class=\"dataframe\">\n",
              "  <thead>\n",
              "    <tr style=\"text-align: right;\">\n",
              "      <th></th>\n",
              "      <th>LYLTY_CARD_NBR</th>\n",
              "      <th>LIFESTAGE</th>\n",
              "      <th>PREMIUM_CUSTOMER</th>\n",
              "    </tr>\n",
              "  </thead>\n",
              "  <tbody>\n",
              "    <tr>\n",
              "      <th>0</th>\n",
              "      <td>1000</td>\n",
              "      <td>YOUNG SINGLES/COUPLES</td>\n",
              "      <td>Premium</td>\n",
              "    </tr>\n",
              "    <tr>\n",
              "      <th>1</th>\n",
              "      <td>1002</td>\n",
              "      <td>YOUNG SINGLES/COUPLES</td>\n",
              "      <td>Mainstream</td>\n",
              "    </tr>\n",
              "    <tr>\n",
              "      <th>2</th>\n",
              "      <td>1003</td>\n",
              "      <td>YOUNG FAMILIES</td>\n",
              "      <td>Budget</td>\n",
              "    </tr>\n",
              "    <tr>\n",
              "      <th>3</th>\n",
              "      <td>1004</td>\n",
              "      <td>OLDER SINGLES/COUPLES</td>\n",
              "      <td>Mainstream</td>\n",
              "    </tr>\n",
              "    <tr>\n",
              "      <th>4</th>\n",
              "      <td>1005</td>\n",
              "      <td>MIDAGE SINGLES/COUPLES</td>\n",
              "      <td>Mainstream</td>\n",
              "    </tr>\n",
              "  </tbody>\n",
              "</table>\n",
              "</div>"
            ],
            "text/plain": [
              "   LYLTY_CARD_NBR               LIFESTAGE PREMIUM_CUSTOMER\n",
              "0            1000   YOUNG SINGLES/COUPLES          Premium\n",
              "1            1002   YOUNG SINGLES/COUPLES       Mainstream\n",
              "2            1003          YOUNG FAMILIES           Budget\n",
              "3            1004   OLDER SINGLES/COUPLES       Mainstream\n",
              "4            1005  MIDAGE SINGLES/COUPLES       Mainstream"
            ]
          },
          "metadata": {
            "tags": []
          },
          "execution_count": 10
        }
      ]
    },
    {
      "cell_type": "code",
      "metadata": {
        "id": "E4Vnd5tsv_EW",
        "colab_type": "code",
        "colab": {}
      },
      "source": [
        "transactiondata.head()"
      ],
      "execution_count": null,
      "outputs": []
    },
    {
      "cell_type": "code",
      "metadata": {
        "id": "jNZx8dCGwzt0",
        "colab_type": "code",
        "colab": {
          "base_uri": "https://localhost:8080/",
          "height": 290
        },
        "outputId": "b19ed5e1-ff59-4fe8-b0d8-810800b25111"
      },
      "source": [
        "transactiondata.info()"
      ],
      "execution_count": null,
      "outputs": [
        {
          "output_type": "stream",
          "text": [
            "<class 'pandas.core.frame.DataFrame'>\n",
            "RangeIndex: 264836 entries, 0 to 264835\n",
            "Data columns (total 8 columns):\n",
            " #   Column          Non-Null Count   Dtype  \n",
            "---  ------          --------------   -----  \n",
            " 0   DATE            264836 non-null  int64  \n",
            " 1   STORE_NBR       264836 non-null  int64  \n",
            " 2   LYLTY_CARD_NBR  264836 non-null  int64  \n",
            " 3   TXN_ID          264836 non-null  int64  \n",
            " 4   PROD_NBR        264836 non-null  int64  \n",
            " 5   PROD_NAME       264836 non-null  object \n",
            " 6   PROD_QTY        264836 non-null  int64  \n",
            " 7   TOT_SALES       264836 non-null  float64\n",
            "dtypes: float64(1), int64(6), object(1)\n",
            "memory usage: 16.2+ MB\n"
          ],
          "name": "stdout"
        }
      ]
    },
    {
      "cell_type": "code",
      "metadata": {
        "id": "K6gFsIWJx6gZ",
        "colab_type": "code",
        "colab": {
          "base_uri": "https://localhost:8080/",
          "height": 35
        },
        "outputId": "6c859964-294a-40d4-a3d4-9cc07bb4e41c"
      },
      "source": [
        "transactiondata.shape"
      ],
      "execution_count": null,
      "outputs": [
        {
          "output_type": "execute_result",
          "data": {
            "text/plain": [
              "(264836, 8)"
            ]
          },
          "metadata": {
            "tags": []
          },
          "execution_count": 10
        }
      ]
    },
    {
      "cell_type": "code",
      "metadata": {
        "id": "G15v2bOMxbWt",
        "colab_type": "code",
        "colab": {
          "base_uri": "https://localhost:8080/",
          "height": 35
        },
        "outputId": "03ca42f2-9c39-410a-95b6-e779e25f9e97"
      },
      "source": [
        "transactiondata['TXN_ID'].nunique()\n",
        "##TXN_ID is not unique in each row that means a custmer can purachase multiple brand of chips in a sinle transaction\n",
        "##row in the dataset corresponds to the purchase of a single brand of chips and a customer can buy multiple brands in one single transaction"
      ],
      "execution_count": null,
      "outputs": [
        {
          "output_type": "execute_result",
          "data": {
            "text/plain": [
              "263127"
            ]
          },
          "metadata": {
            "tags": []
          },
          "execution_count": 11
        }
      ]
    },
    {
      "cell_type": "code",
      "metadata": {
        "id": "YyOnCLEn1xMv",
        "colab_type": "code",
        "colab": {}
      },
      "source": [
        "##lets look for duplicated TXN_ID \n",
        "u=transactiondata[transactiondata.duplicated(['TXN_ID'])]"
      ],
      "execution_count": null,
      "outputs": []
    },
    {
      "cell_type": "code",
      "metadata": {
        "id": "5GT9qjUmoJop",
        "colab_type": "code",
        "cellView": "code",
        "colab": {
          "base_uri": "https://localhost:8080/",
          "height": 348
        },
        "outputId": "ac5aa0e8-224f-4646-a9a5-fecd5b0475f8"
      },
      "source": [
        "#@title Default title text\n",
        "u.head(10)"
      ],
      "execution_count": null,
      "outputs": [
        {
          "output_type": "execute_result",
          "data": {
            "text/html": [
              "<div>\n",
              "<style scoped>\n",
              "    .dataframe tbody tr th:only-of-type {\n",
              "        vertical-align: middle;\n",
              "    }\n",
              "\n",
              "    .dataframe tbody tr th {\n",
              "        vertical-align: top;\n",
              "    }\n",
              "\n",
              "    .dataframe thead th {\n",
              "        text-align: right;\n",
              "    }\n",
              "</style>\n",
              "<table border=\"1\" class=\"dataframe\">\n",
              "  <thead>\n",
              "    <tr style=\"text-align: right;\">\n",
              "      <th></th>\n",
              "      <th>DATE</th>\n",
              "      <th>STORE_NBR</th>\n",
              "      <th>LYLTY_CARD_NBR</th>\n",
              "      <th>TXN_ID</th>\n",
              "      <th>PROD_NBR</th>\n",
              "      <th>PROD_NAME</th>\n",
              "      <th>PROD_QTY</th>\n",
              "      <th>TOT_SALES</th>\n",
              "    </tr>\n",
              "  </thead>\n",
              "  <tbody>\n",
              "    <tr>\n",
              "      <th>42</th>\n",
              "      <td>43605</td>\n",
              "      <td>55</td>\n",
              "      <td>55073</td>\n",
              "      <td>48887</td>\n",
              "      <td>113</td>\n",
              "      <td>Twisties Chicken270g</td>\n",
              "      <td>1</td>\n",
              "      <td>4.6</td>\n",
              "    </tr>\n",
              "    <tr>\n",
              "      <th>377</th>\n",
              "      <td>43475</td>\n",
              "      <td>7</td>\n",
              "      <td>7364</td>\n",
              "      <td>7739</td>\n",
              "      <td>20</td>\n",
              "      <td>Doritos Cheese      Supreme 330g</td>\n",
              "      <td>2</td>\n",
              "      <td>11.4</td>\n",
              "    </tr>\n",
              "    <tr>\n",
              "      <th>419</th>\n",
              "      <td>43391</td>\n",
              "      <td>12</td>\n",
              "      <td>12301</td>\n",
              "      <td>10982</td>\n",
              "      <td>93</td>\n",
              "      <td>Doritos Corn Chip Southern Chicken 150g</td>\n",
              "      <td>2</td>\n",
              "      <td>7.8</td>\n",
              "    </tr>\n",
              "    <tr>\n",
              "      <th>476</th>\n",
              "      <td>43351</td>\n",
              "      <td>16</td>\n",
              "      <td>16427</td>\n",
              "      <td>14546</td>\n",
              "      <td>81</td>\n",
              "      <td>Pringles Original   Crisps 134g</td>\n",
              "      <td>1</td>\n",
              "      <td>3.7</td>\n",
              "    </tr>\n",
              "    <tr>\n",
              "      <th>511</th>\n",
              "      <td>43315</td>\n",
              "      <td>19</td>\n",
              "      <td>19272</td>\n",
              "      <td>16683</td>\n",
              "      <td>31</td>\n",
              "      <td>Infzns Crn Crnchers Tangy Gcamole 110g</td>\n",
              "      <td>2</td>\n",
              "      <td>7.6</td>\n",
              "    </tr>\n",
              "    <tr>\n",
              "      <th>922</th>\n",
              "      <td>43401</td>\n",
              "      <td>47</td>\n",
              "      <td>47204</td>\n",
              "      <td>42616</td>\n",
              "      <td>45</td>\n",
              "      <td>Smiths Thinly Cut   Roast Chicken 175g</td>\n",
              "      <td>2</td>\n",
              "      <td>6.0</td>\n",
              "    </tr>\n",
              "    <tr>\n",
              "      <th>953</th>\n",
              "      <td>43609</td>\n",
              "      <td>48</td>\n",
              "      <td>48179</td>\n",
              "      <td>44177</td>\n",
              "      <td>56</td>\n",
              "      <td>Cheezels Cheese Box 125g</td>\n",
              "      <td>2</td>\n",
              "      <td>4.2</td>\n",
              "    </tr>\n",
              "    <tr>\n",
              "      <th>1048</th>\n",
              "      <td>43559</td>\n",
              "      <td>55</td>\n",
              "      <td>55036</td>\n",
              "      <td>48663</td>\n",
              "      <td>91</td>\n",
              "      <td>CCs Tasty Cheese    175g</td>\n",
              "      <td>2</td>\n",
              "      <td>4.2</td>\n",
              "    </tr>\n",
              "    <tr>\n",
              "      <th>1055</th>\n",
              "      <td>43282</td>\n",
              "      <td>55</td>\n",
              "      <td>55073</td>\n",
              "      <td>48884</td>\n",
              "      <td>91</td>\n",
              "      <td>CCs Tasty Cheese    175g</td>\n",
              "      <td>2</td>\n",
              "      <td>4.2</td>\n",
              "    </tr>\n",
              "    <tr>\n",
              "      <th>1143</th>\n",
              "      <td>43489</td>\n",
              "      <td>58</td>\n",
              "      <td>58121</td>\n",
              "      <td>53351</td>\n",
              "      <td>42</td>\n",
              "      <td>Doritos Corn Chip Mexican Jalapeno 150g</td>\n",
              "      <td>2</td>\n",
              "      <td>7.8</td>\n",
              "    </tr>\n",
              "  </tbody>\n",
              "</table>\n",
              "</div>"
            ],
            "text/plain": [
              "       DATE  STORE_NBR  ...  PROD_QTY  TOT_SALES\n",
              "42    43605         55  ...         1        4.6\n",
              "377   43475          7  ...         2       11.4\n",
              "419   43391         12  ...         2        7.8\n",
              "476   43351         16  ...         1        3.7\n",
              "511   43315         19  ...         2        7.6\n",
              "922   43401         47  ...         2        6.0\n",
              "953   43609         48  ...         2        4.2\n",
              "1048  43559         55  ...         2        4.2\n",
              "1055  43282         55  ...         2        4.2\n",
              "1143  43489         58  ...         2        7.8\n",
              "\n",
              "[10 rows x 8 columns]"
            ]
          },
          "metadata": {
            "tags": []
          },
          "execution_count": 16
        }
      ]
    },
    {
      "cell_type": "code",
      "metadata": {
        "id": "4ltA5hVz1qmy",
        "colab_type": "code",
        "colab": {
          "base_uri": "https://localhost:8080/",
          "height": 108
        },
        "outputId": "8b98d9ff-8909-42b4-f539-e6de4043e857"
      },
      "source": [
        "##lets look at TXN_ID=7739\n",
        "transactiondata.loc[transactiondata['TXN_ID']==7739,:]\n",
        "##we can see that the same person has purachased 2 brand of chips in one sinle transaction"
      ],
      "execution_count": null,
      "outputs": [
        {
          "output_type": "execute_result",
          "data": {
            "text/html": [
              "<div>\n",
              "<style scoped>\n",
              "    .dataframe tbody tr th:only-of-type {\n",
              "        vertical-align: middle;\n",
              "    }\n",
              "\n",
              "    .dataframe tbody tr th {\n",
              "        vertical-align: top;\n",
              "    }\n",
              "\n",
              "    .dataframe thead th {\n",
              "        text-align: right;\n",
              "    }\n",
              "</style>\n",
              "<table border=\"1\" class=\"dataframe\">\n",
              "  <thead>\n",
              "    <tr style=\"text-align: right;\">\n",
              "      <th></th>\n",
              "      <th>DATE</th>\n",
              "      <th>STORE_NBR</th>\n",
              "      <th>LYLTY_CARD_NBR</th>\n",
              "      <th>TXN_ID</th>\n",
              "      <th>PROD_NBR</th>\n",
              "      <th>PROD_NAME</th>\n",
              "      <th>PROD_QTY</th>\n",
              "      <th>TOT_SALES</th>\n",
              "    </tr>\n",
              "  </thead>\n",
              "  <tbody>\n",
              "    <tr>\n",
              "      <th>376</th>\n",
              "      <td>43475</td>\n",
              "      <td>7</td>\n",
              "      <td>7364</td>\n",
              "      <td>7739</td>\n",
              "      <td>50</td>\n",
              "      <td>Tostitos Lightly    Salted 175g</td>\n",
              "      <td>2</td>\n",
              "      <td>8.8</td>\n",
              "    </tr>\n",
              "    <tr>\n",
              "      <th>377</th>\n",
              "      <td>43475</td>\n",
              "      <td>7</td>\n",
              "      <td>7364</td>\n",
              "      <td>7739</td>\n",
              "      <td>20</td>\n",
              "      <td>Doritos Cheese      Supreme 330g</td>\n",
              "      <td>2</td>\n",
              "      <td>11.4</td>\n",
              "    </tr>\n",
              "  </tbody>\n",
              "</table>\n",
              "</div>"
            ],
            "text/plain": [
              "      DATE  STORE_NBR  ...  PROD_QTY  TOT_SALES\n",
              "376  43475          7  ...         2        8.8\n",
              "377  43475          7  ...         2       11.4\n",
              "\n",
              "[2 rows x 8 columns]"
            ]
          },
          "metadata": {
            "tags": []
          },
          "execution_count": 18
        }
      ]
    },
    {
      "cell_type": "code",
      "metadata": {
        "id": "5WA95KjDoYUZ",
        "colab_type": "code",
        "colab": {
          "base_uri": "https://localhost:8080/",
          "height": 359
        },
        "outputId": "07280028-fdc1-4d8c-e8c3-e4efe5f575e0"
      },
      "source": [
        "##lets check is there any missing values\n",
        "sns.heatmap(transactiondata.isnull(),yticklabels=False,cbar=False,cmap='viridis')\n",
        "##there are no missing values in the dataset"
      ],
      "execution_count": null,
      "outputs": [
        {
          "output_type": "execute_result",
          "data": {
            "text/plain": [
              "<matplotlib.axes._subplots.AxesSubplot at 0x7fb129809400>"
            ]
          },
          "metadata": {
            "tags": []
          },
          "execution_count": 11
        },
        {
          "output_type": "display_data",
          "data": {
            "image/png": "[encoded data removed]",
            "text/plain": [
              "<Figure size 432x288 with 1 Axes>"
            ]
          },
          "metadata": {
            "tags": [],
            "needs_background": "light"
          }
        }
      ]
    },
    {
      "cell_type": "code",
      "metadata": {
        "id": "vO84_wvJo9bZ",
        "colab_type": "code",
        "colab": {}
      },
      "source": [
        "##missingno.matrix(transactiondata)"
      ],
      "execution_count": null,
      "outputs": []
    },
    {
      "cell_type": "code",
      "metadata": {
        "id": "7Mx6fVBcpIZu",
        "colab_type": "code",
        "colab": {
          "base_uri": "https://localhost:8080/",
          "height": 163
        },
        "outputId": "a5e1a978-b0d0-4330-c8ef-266b2e2791cd"
      },
      "source": [
        "list(transactiondata.columns)"
      ],
      "execution_count": null,
      "outputs": [
        {
          "output_type": "execute_result",
          "data": {
            "text/plain": [
              "['DATE',\n",
              " 'STORE_NBR',\n",
              " 'LYLTY_CARD_NBR',\n",
              " 'TXN_ID',\n",
              " 'PROD_NBR',\n",
              " 'PROD_NAME',\n",
              " 'PROD_QTY',\n",
              " 'TOT_SALES']"
            ]
          },
          "metadata": {
            "tags": []
          },
          "execution_count": 21
        }
      ]
    },
    {
      "cell_type": "code",
      "metadata": {
        "id": "smQb1iD_pegt",
        "colab_type": "code",
        "colab": {}
      },
      "source": [
        "##'date' column in the dataset is not in correct format\n",
        "## lets change it into orginal format\n",
        "def xldate_to_datetime(xldate):\n",
        "\ttemp = datetime.datetime(1899, 12, 30)\n",
        "\tdelta = datetime.timedelta(days=xldate)\n",
        "\treturn temp+delta\n",
        "                                      "
      ],
      "execution_count": null,
      "outputs": []
    },
    {
      "cell_type": "code",
      "metadata": {
        "id": "PpfgW-yRsHFM",
        "colab_type": "code",
        "colab": {}
      },
      "source": [
        "##apply above function to dataset\n",
        "transactiondata['DATE']=transactiondata['DATE'].apply(xldate_to_datetime)"
      ],
      "execution_count": null,
      "outputs": []
    },
    {
      "cell_type": "code",
      "metadata": {
        "id": "-P77nbBZ47j_",
        "colab_type": "code",
        "colab": {
          "base_uri": "https://localhost:8080/",
          "height": 198
        },
        "outputId": "8d66e313-f284-4f32-c1f2-3c3f634bf35d"
      },
      "source": [
        "transactiondata.head()"
      ],
      "execution_count": null,
      "outputs": [
        {
          "output_type": "execute_result",
          "data": {
            "text/html": [
              "<div>\n",
              "<style scoped>\n",
              "    .dataframe tbody tr th:only-of-type {\n",
              "        vertical-align: middle;\n",
              "    }\n",
              "\n",
              "    .dataframe tbody tr th {\n",
              "        vertical-align: top;\n",
              "    }\n",
              "\n",
              "    .dataframe thead th {\n",
              "        text-align: right;\n",
              "    }\n",
              "</style>\n",
              "<table border=\"1\" class=\"dataframe\">\n",
              "  <thead>\n",
              "    <tr style=\"text-align: right;\">\n",
              "      <th></th>\n",
              "      <th>DATE</th>\n",
              "      <th>STORE_NBR</th>\n",
              "      <th>LYLTY_CARD_NBR</th>\n",
              "      <th>TXN_ID</th>\n",
              "      <th>PROD_NBR</th>\n",
              "      <th>PROD_NAME</th>\n",
              "      <th>PROD_QTY</th>\n",
              "      <th>TOT_SALES</th>\n",
              "    </tr>\n",
              "  </thead>\n",
              "  <tbody>\n",
              "    <tr>\n",
              "      <th>0</th>\n",
              "      <td>2018-10-17</td>\n",
              "      <td>1</td>\n",
              "      <td>1000</td>\n",
              "      <td>1</td>\n",
              "      <td>5</td>\n",
              "      <td>Natural Chip        Compny SeaSalt175g</td>\n",
              "      <td>2</td>\n",
              "      <td>6.0</td>\n",
              "    </tr>\n",
              "    <tr>\n",
              "      <th>1</th>\n",
              "      <td>2019-05-14</td>\n",
              "      <td>1</td>\n",
              "      <td>1307</td>\n",
              "      <td>348</td>\n",
              "      <td>66</td>\n",
              "      <td>CCs Nacho Cheese    175g</td>\n",
              "      <td>3</td>\n",
              "      <td>6.3</td>\n",
              "    </tr>\n",
              "    <tr>\n",
              "      <th>2</th>\n",
              "      <td>2019-05-20</td>\n",
              "      <td>1</td>\n",
              "      <td>1343</td>\n",
              "      <td>383</td>\n",
              "      <td>61</td>\n",
              "      <td>Smiths Crinkle Cut  Chips Chicken 170g</td>\n",
              "      <td>2</td>\n",
              "      <td>2.9</td>\n",
              "    </tr>\n",
              "    <tr>\n",
              "      <th>3</th>\n",
              "      <td>2018-08-17</td>\n",
              "      <td>2</td>\n",
              "      <td>2373</td>\n",
              "      <td>974</td>\n",
              "      <td>69</td>\n",
              "      <td>Smiths Chip Thinly  S/Cream&amp;Onion 175g</td>\n",
              "      <td>5</td>\n",
              "      <td>15.0</td>\n",
              "    </tr>\n",
              "    <tr>\n",
              "      <th>4</th>\n",
              "      <td>2018-08-18</td>\n",
              "      <td>2</td>\n",
              "      <td>2426</td>\n",
              "      <td>1038</td>\n",
              "      <td>108</td>\n",
              "      <td>Kettle Tortilla ChpsHny&amp;Jlpno Chili 150g</td>\n",
              "      <td>3</td>\n",
              "      <td>13.8</td>\n",
              "    </tr>\n",
              "  </tbody>\n",
              "</table>\n",
              "</div>"
            ],
            "text/plain": [
              "        DATE  STORE_NBR  ...  PROD_QTY  TOT_SALES\n",
              "0 2018-10-17          1  ...         2        6.0\n",
              "1 2019-05-14          1  ...         3        6.3\n",
              "2 2019-05-20          1  ...         2        2.9\n",
              "3 2018-08-17          2  ...         5       15.0\n",
              "4 2018-08-18          2  ...         3       13.8\n",
              "\n",
              "[5 rows x 8 columns]"
            ]
          },
          "metadata": {
            "tags": []
          },
          "execution_count": 11
        }
      ]
    },
    {
      "cell_type": "code",
      "metadata": {
        "id": "ugChFgWG-VBe",
        "colab_type": "code",
        "colab": {
          "base_uri": "https://localhost:8080/",
          "height": 121
        },
        "outputId": "0a14946f-5271-46a8-d079-208b8bfd101f"
      },
      "source": [
        "transactiondata['PROD_NAME'].head()"
      ],
      "execution_count": null,
      "outputs": [
        {
          "output_type": "execute_result",
          "data": {
            "text/plain": [
              "0      Natural Chip        Compny SeaSalt175g\n",
              "1                    CCs Nacho Cheese    175g\n",
              "2      Smiths Crinkle Cut  Chips Chicken 170g\n",
              "3      Smiths Chip Thinly  S/Cream&Onion 175g\n",
              "4    Kettle Tortilla ChpsHny&Jlpno Chili 150g\n",
              "Name: PROD_NAME, dtype: object"
            ]
          },
          "metadata": {
            "tags": []
          },
          "execution_count": 11
        }
      ]
    },
    {
      "cell_type": "code",
      "metadata": {
        "id": "Js6sGNr-_WRm",
        "colab_type": "code",
        "colab": {
          "base_uri": "https://localhost:8080/",
          "height": 198
        },
        "outputId": "68d31f11-bf89-4fa9-c96e-44ee52674aa6"
      },
      "source": [
        "##lets make new column named pack size\n",
        "transactiondata['PACK_SIZE'] = transactiondata['PROD_NAME'].str.extract(\"(\\d+)\")\n",
        "transactiondata['PACK_SIZE'] = pd.to_numeric(transactiondata['PACK_SIZE'])\n",
        "transactiondata.head()"
      ],
      "execution_count": null,
      "outputs": [
        {
          "output_type": "execute_result",
          "data": {
            "text/html": [
              "<div>\n",
              "<style scoped>\n",
              "    .dataframe tbody tr th:only-of-type {\n",
              "        vertical-align: middle;\n",
              "    }\n",
              "\n",
              "    .dataframe tbody tr th {\n",
              "        vertical-align: top;\n",
              "    }\n",
              "\n",
              "    .dataframe thead th {\n",
              "        text-align: right;\n",
              "    }\n",
              "</style>\n",
              "<table border=\"1\" class=\"dataframe\">\n",
              "  <thead>\n",
              "    <tr style=\"text-align: right;\">\n",
              "      <th></th>\n",
              "      <th>DATE</th>\n",
              "      <th>STORE_NBR</th>\n",
              "      <th>LYLTY_CARD_NBR</th>\n",
              "      <th>TXN_ID</th>\n",
              "      <th>PROD_NBR</th>\n",
              "      <th>PROD_NAME</th>\n",
              "      <th>PROD_QTY</th>\n",
              "      <th>TOT_SALES</th>\n",
              "      <th>PACK_SIZE</th>\n",
              "    </tr>\n",
              "  </thead>\n",
              "  <tbody>\n",
              "    <tr>\n",
              "      <th>0</th>\n",
              "      <td>2018-10-17</td>\n",
              "      <td>1</td>\n",
              "      <td>1000</td>\n",
              "      <td>1</td>\n",
              "      <td>5</td>\n",
              "      <td>Natural Chip        Compny SeaSalt175g</td>\n",
              "      <td>2</td>\n",
              "      <td>6.0</td>\n",
              "      <td>175</td>\n",
              "    </tr>\n",
              "    <tr>\n",
              "      <th>1</th>\n",
              "      <td>2019-05-14</td>\n",
              "      <td>1</td>\n",
              "      <td>1307</td>\n",
              "      <td>348</td>\n",
              "      <td>66</td>\n",
              "      <td>CCs Nacho Cheese    175g</td>\n",
              "      <td>3</td>\n",
              "      <td>6.3</td>\n",
              "      <td>175</td>\n",
              "    </tr>\n",
              "    <tr>\n",
              "      <th>2</th>\n",
              "      <td>2019-05-20</td>\n",
              "      <td>1</td>\n",
              "      <td>1343</td>\n",
              "      <td>383</td>\n",
              "      <td>61</td>\n",
              "      <td>Smiths Crinkle Cut  Chips Chicken 170g</td>\n",
              "      <td>2</td>\n",
              "      <td>2.9</td>\n",
              "      <td>170</td>\n",
              "    </tr>\n",
              "    <tr>\n",
              "      <th>3</th>\n",
              "      <td>2018-08-17</td>\n",
              "      <td>2</td>\n",
              "      <td>2373</td>\n",
              "      <td>974</td>\n",
              "      <td>69</td>\n",
              "      <td>Smiths Chip Thinly  S/Cream&amp;Onion 175g</td>\n",
              "      <td>5</td>\n",
              "      <td>15.0</td>\n",
              "      <td>175</td>\n",
              "    </tr>\n",
              "    <tr>\n",
              "      <th>4</th>\n",
              "      <td>2018-08-18</td>\n",
              "      <td>2</td>\n",
              "      <td>2426</td>\n",
              "      <td>1038</td>\n",
              "      <td>108</td>\n",
              "      <td>Kettle Tortilla ChpsHny&amp;Jlpno Chili 150g</td>\n",
              "      <td>3</td>\n",
              "      <td>13.8</td>\n",
              "      <td>150</td>\n",
              "    </tr>\n",
              "  </tbody>\n",
              "</table>\n",
              "</div>"
            ],
            "text/plain": [
              "        DATE  STORE_NBR  LYLTY_CARD_NBR  ...  PROD_QTY  TOT_SALES PACK_SIZE\n",
              "0 2018-10-17          1            1000  ...         2        6.0       175\n",
              "1 2019-05-14          1            1307  ...         3        6.3       175\n",
              "2 2019-05-20          1            1343  ...         2        2.9       170\n",
              "3 2018-08-17          2            2373  ...         5       15.0       175\n",
              "4 2018-08-18          2            2426  ...         3       13.8       150\n",
              "\n",
              "[5 rows x 9 columns]"
            ]
          },
          "metadata": {
            "tags": []
          },
          "execution_count": 12
        }
      ]
    },
    {
      "cell_type": "code",
      "metadata": {
        "id": "Bl7FvwlO5ndf",
        "colab_type": "code",
        "colab": {
          "base_uri": "https://localhost:8080/",
          "height": 308
        },
        "outputId": "5c5bee71-8af2-4265-c309-52b6fba4ae2b"
      },
      "source": [
        "transactiondata.info()"
      ],
      "execution_count": null,
      "outputs": [
        {
          "output_type": "stream",
          "text": [
            "<class 'pandas.core.frame.DataFrame'>\n",
            "RangeIndex: 264836 entries, 0 to 264835\n",
            "Data columns (total 9 columns):\n",
            " #   Column          Non-Null Count   Dtype         \n",
            "---  ------          --------------   -----         \n",
            " 0   DATE            264836 non-null  datetime64[ns]\n",
            " 1   STORE_NBR       264836 non-null  int64         \n",
            " 2   LYLTY_CARD_NBR  264836 non-null  int64         \n",
            " 3   TXN_ID          264836 non-null  int64         \n",
            " 4   PROD_NBR        264836 non-null  int64         \n",
            " 5   PROD_NAME       264836 non-null  object        \n",
            " 6   PROD_QTY        264836 non-null  int64         \n",
            " 7   TOT_SALES       264836 non-null  float64       \n",
            " 8   PACK_SIZE       264836 non-null  int64         \n",
            "dtypes: datetime64[ns](1), float64(1), int64(6), object(1)\n",
            "memory usage: 18.2+ MB\n"
          ],
          "name": "stdout"
        }
      ]
    },
    {
      "cell_type": "code",
      "metadata": {
        "id": "gkDxjQhjEczZ",
        "colab_type": "code",
        "colab": {}
      },
      "source": [
        "# Create text cleaning function for 'PROD_NAME' feature\n",
        "def clean_text(text):\n",
        "    text = re.sub('[&/]', ' ', text) # remove special characters '&' and '/'\n",
        "    text = re.sub('\\d\\w*', ' ', text) # remove product weights\n",
        "    return text"
      ],
      "execution_count": null,
      "outputs": []
    },
    {
      "cell_type": "code",
      "metadata": {
        "id": "G7X6U92YFAxN",
        "colab_type": "code",
        "colab": {}
      },
      "source": [
        "# Apply text cleaning function to 'PROD_NAME' column\n",
        "transactiondata['PROD_NAME'] = transactiondata['PROD_NAME'].apply(clean_text)"
      ],
      "execution_count": null,
      "outputs": []
    },
    {
      "cell_type": "code",
      "metadata": {
        "id": "iJ_L1IuOFY-D",
        "colab_type": "code",
        "colab": {}
      },
      "source": [
        "# Create one giant string and apply 'word_tokenize' to separate the words\n",
        "\n",
        "cleanProdName = transactiondata['PROD_NAME']##save prodname \n",
        "string = ''.join(cleanProdName)##join it to a paragraph\n",
        "prodWord = word_tokenize(string)##split them"
      ],
      "execution_count": null,
      "outputs": []
    },
    {
      "cell_type": "code",
      "metadata": {
        "id": "rzLcc_M7Ex4S",
        "colab_type": "code",
        "colab": {}
      },
      "source": [
        "##prodWord"
      ],
      "execution_count": null,
      "outputs": []
    },
    {
      "cell_type": "code",
      "metadata": {
        "id": "82fKoDxhFF1O",
        "colab_type": "code",
        "colab": {}
      },
      "source": [
        "##string"
      ],
      "execution_count": null,
      "outputs": []
    },
    {
      "cell_type": "code",
      "metadata": {
        "id": "H8BJdiEsHWJ7",
        "colab_type": "code",
        "colab": {}
      },
      "source": [
        "# Apply 'fdist' function which computes the frequency of each token and put it into a dataframe\n",
        "wordFrequency = fdist(prodWord)\n",
        "freq_df = pd.DataFrame(list(wordFrequency.items()), columns = [\"Word\", \"Frequency\"]).sort_values(by = 'Frequency', ascending = False)"
      ],
      "execution_count": null,
      "outputs": []
    },
    {
      "cell_type": "code",
      "metadata": {
        "id": "vXoFzRlcHgg_",
        "colab_type": "code",
        "colab": {}
      },
      "source": [
        "##wordFrequency"
      ],
      "execution_count": null,
      "outputs": []
    },
    {
      "cell_type": "code",
      "metadata": {
        "id": "UazfAGRjKEN8",
        "colab_type": "code",
        "colab": {
          "base_uri": "https://localhost:8080/",
          "height": 198
        },
        "outputId": "344c5ff0-f7ef-4f25-c953-d9edc198874f"
      },
      "source": [
        "# Let's see the top 5 most frequent words\n",
        "\n",
        "freq_df.head()"
      ],
      "execution_count": null,
      "outputs": [
        {
          "output_type": "execute_result",
          "data": {
            "text/html": [
              "<div>\n",
              "<style scoped>\n",
              "    .dataframe tbody tr th:only-of-type {\n",
              "        vertical-align: middle;\n",
              "    }\n",
              "\n",
              "    .dataframe tbody tr th {\n",
              "        vertical-align: top;\n",
              "    }\n",
              "\n",
              "    .dataframe thead th {\n",
              "        text-align: right;\n",
              "    }\n",
              "</style>\n",
              "<table border=\"1\" class=\"dataframe\">\n",
              "  <thead>\n",
              "    <tr style=\"text-align: right;\">\n",
              "      <th></th>\n",
              "      <th>Word</th>\n",
              "      <th>Frequency</th>\n",
              "    </tr>\n",
              "  </thead>\n",
              "  <tbody>\n",
              "    <tr>\n",
              "      <th>10</th>\n",
              "      <td>Chips</td>\n",
              "      <td>49770</td>\n",
              "    </tr>\n",
              "    <tr>\n",
              "      <th>16</th>\n",
              "      <td>Kettle</td>\n",
              "      <td>40739</td>\n",
              "    </tr>\n",
              "    <tr>\n",
              "      <th>7</th>\n",
              "      <td>Smiths</td>\n",
              "      <td>28572</td>\n",
              "    </tr>\n",
              "    <tr>\n",
              "      <th>6</th>\n",
              "      <td>Cheese</td>\n",
              "      <td>27890</td>\n",
              "    </tr>\n",
              "    <tr>\n",
              "      <th>66</th>\n",
              "      <td>Pringles</td>\n",
              "      <td>24743</td>\n",
              "    </tr>\n",
              "  </tbody>\n",
              "</table>\n",
              "</div>"
            ],
            "text/plain": [
              "        Word  Frequency\n",
              "10     Chips      49770\n",
              "16    Kettle      40739\n",
              "7     Smiths      28572\n",
              "6     Cheese      27890\n",
              "66  Pringles      24743"
            ]
          },
          "metadata": {
            "tags": []
          },
          "execution_count": 17
        }
      ]
    },
    {
      "cell_type": "code",
      "metadata": {
        "id": "HfU-9J1mLu7X",
        "colab_type": "code",
        "colab": {}
      },
      "source": [
        "# Drop rows with 'salsa' in 'PROD_NAME'\n",
        "transactiondata['PROD_NAME'] =transactiondata['PROD_NAME'].apply(lambda x: x.lower())\n",
        "transactiondata = transactiondata[~transactiondata['PROD_NAME'].str.contains(\"salsa\")]\n",
        "transactiondata['PROD_NAME'] = transactiondata['PROD_NAME'].apply(lambda x: x.title())"
      ],
      "execution_count": null,
      "outputs": []
    },
    {
      "cell_type": "code",
      "metadata": {
        "id": "WtP16tzaINX7",
        "colab_type": "code",
        "colab": {}
      },
      "source": [
        "##new_data = new_data[~new_data['PROD_NAME'].str.contains(\"salsa\")]"
      ],
      "execution_count": null,
      "outputs": []
    },
    {
      "cell_type": "code",
      "metadata": {
        "id": "t34gHCbKGuWc",
        "colab_type": "code",
        "colab": {
          "base_uri": "https://localhost:8080/",
          "height": 198
        },
        "outputId": "456bfd96-5b1b-45fe-d807-9b84f89bd855"
      },
      "source": [
        "transactiondata.head()"
      ],
      "execution_count": null,
      "outputs": [
        {
          "output_type": "execute_result",
          "data": {
            "text/html": [
              "<div>\n",
              "<style scoped>\n",
              "    .dataframe tbody tr th:only-of-type {\n",
              "        vertical-align: middle;\n",
              "    }\n",
              "\n",
              "    .dataframe tbody tr th {\n",
              "        vertical-align: top;\n",
              "    }\n",
              "\n",
              "    .dataframe thead th {\n",
              "        text-align: right;\n",
              "    }\n",
              "</style>\n",
              "<table border=\"1\" class=\"dataframe\">\n",
              "  <thead>\n",
              "    <tr style=\"text-align: right;\">\n",
              "      <th></th>\n",
              "      <th>DATE</th>\n",
              "      <th>STORE_NBR</th>\n",
              "      <th>LYLTY_CARD_NBR</th>\n",
              "      <th>TXN_ID</th>\n",
              "      <th>PROD_NBR</th>\n",
              "      <th>PROD_NAME</th>\n",
              "      <th>PROD_QTY</th>\n",
              "      <th>TOT_SALES</th>\n",
              "      <th>PACK_SIZE</th>\n",
              "    </tr>\n",
              "  </thead>\n",
              "  <tbody>\n",
              "    <tr>\n",
              "      <th>0</th>\n",
              "      <td>2018-10-17</td>\n",
              "      <td>1</td>\n",
              "      <td>1000</td>\n",
              "      <td>1</td>\n",
              "      <td>5</td>\n",
              "      <td>Natural Chip        Compny Seasalt</td>\n",
              "      <td>2</td>\n",
              "      <td>6.0</td>\n",
              "      <td>175</td>\n",
              "    </tr>\n",
              "    <tr>\n",
              "      <th>1</th>\n",
              "      <td>2019-05-14</td>\n",
              "      <td>1</td>\n",
              "      <td>1307</td>\n",
              "      <td>348</td>\n",
              "      <td>66</td>\n",
              "      <td>Ccs Nacho Cheese</td>\n",
              "      <td>3</td>\n",
              "      <td>6.3</td>\n",
              "      <td>175</td>\n",
              "    </tr>\n",
              "    <tr>\n",
              "      <th>2</th>\n",
              "      <td>2019-05-20</td>\n",
              "      <td>1</td>\n",
              "      <td>1343</td>\n",
              "      <td>383</td>\n",
              "      <td>61</td>\n",
              "      <td>Smiths Crinkle Cut  Chips Chicken</td>\n",
              "      <td>2</td>\n",
              "      <td>2.9</td>\n",
              "      <td>170</td>\n",
              "    </tr>\n",
              "    <tr>\n",
              "      <th>3</th>\n",
              "      <td>2018-08-17</td>\n",
              "      <td>2</td>\n",
              "      <td>2373</td>\n",
              "      <td>974</td>\n",
              "      <td>69</td>\n",
              "      <td>Smiths Chip Thinly  S Cream Onion</td>\n",
              "      <td>5</td>\n",
              "      <td>15.0</td>\n",
              "      <td>175</td>\n",
              "    </tr>\n",
              "    <tr>\n",
              "      <th>4</th>\n",
              "      <td>2018-08-18</td>\n",
              "      <td>2</td>\n",
              "      <td>2426</td>\n",
              "      <td>1038</td>\n",
              "      <td>108</td>\n",
              "      <td>Kettle Tortilla Chpshny Jlpno Chili</td>\n",
              "      <td>3</td>\n",
              "      <td>13.8</td>\n",
              "      <td>150</td>\n",
              "    </tr>\n",
              "  </tbody>\n",
              "</table>\n",
              "</div>"
            ],
            "text/plain": [
              "        DATE  STORE_NBR  LYLTY_CARD_NBR  ...  PROD_QTY  TOT_SALES PACK_SIZE\n",
              "0 2018-10-17          1            1000  ...         2        6.0       175\n",
              "1 2019-05-14          1            1307  ...         3        6.3       175\n",
              "2 2019-05-20          1            1343  ...         2        2.9       170\n",
              "3 2018-08-17          2            2373  ...         5       15.0       175\n",
              "4 2018-08-18          2            2426  ...         3       13.8       150\n",
              "\n",
              "[5 rows x 9 columns]"
            ]
          },
          "metadata": {
            "tags": []
          },
          "execution_count": 19
        }
      ]
    },
    {
      "cell_type": "code",
      "metadata": {
        "id": "-tc6gTz5Ipm2",
        "colab_type": "code",
        "colab": {
          "base_uri": "https://localhost:8080/",
          "height": 35
        },
        "outputId": "c80c7588-b83f-4598-c089-4e762cb4b990"
      },
      "source": [
        "len(transactiondata)"
      ],
      "execution_count": null,
      "outputs": [
        {
          "output_type": "execute_result",
          "data": {
            "text/plain": [
              "246742"
            ]
          },
          "metadata": {
            "tags": []
          },
          "execution_count": 39
        }
      ]
    },
    {
      "cell_type": "code",
      "metadata": {
        "id": "JUQbqKuxIBAl",
        "colab_type": "code",
        "colab": {}
      },
      "source": [
        "##264836"
      ],
      "execution_count": null,
      "outputs": []
    },
    {
      "cell_type": "code",
      "metadata": {
        "id": "V_8VdIZRM7Jw",
        "colab_type": "code",
        "colab": {}
      },
      "source": [
        "transactiondata.PROD_NAME.unique()"
      ],
      "execution_count": null,
      "outputs": []
    },
    {
      "cell_type": "code",
      "metadata": {
        "id": "Vmp8jLQ7ud6u",
        "colab_type": "code",
        "colab": {
          "base_uri": "https://localhost:8080/",
          "height": 145
        },
        "outputId": "8ff1e7eb-94f6-4b2d-cee4-be540d8b19df"
      },
      "source": [
        "# We shall explore 'PROD_QTY' and 'TOT_SALES' feature next\n",
        "\n",
        "transactiondata['PROD_QTY'].value_counts()\n",
        "\n",
        "# Max of 200 looks odd"
      ],
      "execution_count": null,
      "outputs": [
        {
          "output_type": "execute_result",
          "data": {
            "text/plain": [
              "2      220070\n",
              "1       25476\n",
              "5         415\n",
              "3         408\n",
              "4         371\n",
              "200         2\n",
              "Name: PROD_QTY, dtype: int64"
            ]
          },
          "metadata": {
            "tags": []
          },
          "execution_count": 15
        }
      ]
    },
    {
      "cell_type": "code",
      "metadata": {
        "id": "9x2EfdzJu7Gl",
        "colab_type": "code",
        "colab": {
          "base_uri": "https://localhost:8080/",
          "height": 108
        },
        "outputId": "c6d5c4b0-1072-4ed4-b83c-0c0ac85d63d1"
      },
      "source": [
        "# We have two occurrences of 200 in the dataset\n",
        "# Let's explore further\n",
        "\n",
        "transactiondata.loc[transactiondata['PROD_QTY'] == 200, :]"
      ],
      "execution_count": null,
      "outputs": [
        {
          "output_type": "execute_result",
          "data": {
            "text/html": [
              "<div>\n",
              "<style scoped>\n",
              "    .dataframe tbody tr th:only-of-type {\n",
              "        vertical-align: middle;\n",
              "    }\n",
              "\n",
              "    .dataframe tbody tr th {\n",
              "        vertical-align: top;\n",
              "    }\n",
              "\n",
              "    .dataframe thead th {\n",
              "        text-align: right;\n",
              "    }\n",
              "</style>\n",
              "<table border=\"1\" class=\"dataframe\">\n",
              "  <thead>\n",
              "    <tr style=\"text-align: right;\">\n",
              "      <th></th>\n",
              "      <th>DATE</th>\n",
              "      <th>STORE_NBR</th>\n",
              "      <th>LYLTY_CARD_NBR</th>\n",
              "      <th>TXN_ID</th>\n",
              "      <th>PROD_NBR</th>\n",
              "      <th>PROD_NAME</th>\n",
              "      <th>PROD_QTY</th>\n",
              "      <th>TOT_SALES</th>\n",
              "      <th>PACK_SIZE</th>\n",
              "    </tr>\n",
              "  </thead>\n",
              "  <tbody>\n",
              "    <tr>\n",
              "      <th>69762</th>\n",
              "      <td>2018-08-19</td>\n",
              "      <td>226</td>\n",
              "      <td>226000</td>\n",
              "      <td>226201</td>\n",
              "      <td>4</td>\n",
              "      <td>Dorito Corn Chp     Supreme</td>\n",
              "      <td>200</td>\n",
              "      <td>650.0</td>\n",
              "      <td>380</td>\n",
              "    </tr>\n",
              "    <tr>\n",
              "      <th>69763</th>\n",
              "      <td>2019-05-20</td>\n",
              "      <td>226</td>\n",
              "      <td>226000</td>\n",
              "      <td>226210</td>\n",
              "      <td>4</td>\n",
              "      <td>Dorito Corn Chp     Supreme</td>\n",
              "      <td>200</td>\n",
              "      <td>650.0</td>\n",
              "      <td>380</td>\n",
              "    </tr>\n",
              "  </tbody>\n",
              "</table>\n",
              "</div>"
            ],
            "text/plain": [
              "            DATE  STORE_NBR  LYLTY_CARD_NBR  ...  PROD_QTY  TOT_SALES PACK_SIZE\n",
              "69762 2018-08-19        226          226000  ...       200      650.0       380\n",
              "69763 2019-05-20        226          226000  ...       200      650.0       380\n",
              "\n",
              "[2 rows x 9 columns]"
            ]
          },
          "metadata": {
            "tags": []
          },
          "execution_count": 52
        }
      ]
    },
    {
      "cell_type": "code",
      "metadata": {
        "id": "yQWUT_XwvOfz",
        "colab_type": "code",
        "colab": {
          "base_uri": "https://localhost:8080/",
          "height": 48
        },
        "outputId": "f8af4944-f435-41dc-fa77-56ea8f1a7c57"
      },
      "source": [
        "# Both these transactions have been made by the same person at the same store\n",
        "# Let's see all the transactions this person has made by tracking his loyalty card number '226000'\n",
        "\n",
        "transactiondata.loc[transactiondata['LYLTY_CARD_NBR'] == 226000, :]"
      ],
      "execution_count": null,
      "outputs": [
        {
          "output_type": "execute_result",
          "data": {
            "text/html": [
              "<div>\n",
              "<style scoped>\n",
              "    .dataframe tbody tr th:only-of-type {\n",
              "        vertical-align: middle;\n",
              "    }\n",
              "\n",
              "    .dataframe tbody tr th {\n",
              "        vertical-align: top;\n",
              "    }\n",
              "\n",
              "    .dataframe thead th {\n",
              "        text-align: right;\n",
              "    }\n",
              "</style>\n",
              "<table border=\"1\" class=\"dataframe\">\n",
              "  <thead>\n",
              "    <tr style=\"text-align: right;\">\n",
              "      <th></th>\n",
              "      <th>DATE</th>\n",
              "      <th>STORE_NBR</th>\n",
              "      <th>LYLTY_CARD_NBR</th>\n",
              "      <th>TXN_ID</th>\n",
              "      <th>PROD_NBR</th>\n",
              "      <th>PROD_NAME</th>\n",
              "      <th>PROD_QTY</th>\n",
              "      <th>TOT_SALES</th>\n",
              "      <th>PACK_SIZE</th>\n",
              "    </tr>\n",
              "  </thead>\n",
              "  <tbody>\n",
              "  </tbody>\n",
              "</table>\n",
              "</div>"
            ],
            "text/plain": [
              "Empty DataFrame\n",
              "Columns: [DATE, STORE_NBR, LYLTY_CARD_NBR, TXN_ID, PROD_NBR, PROD_NAME, PROD_QTY, TOT_SALES, PACK_SIZE]\n",
              "Index: []"
            ]
          },
          "metadata": {
            "tags": []
          },
          "execution_count": 22
        }
      ]
    },
    {
      "cell_type": "code",
      "metadata": {
        "id": "NHqdjpEYvT7e",
        "colab_type": "code",
        "colab": {}
      },
      "source": [
        "# This person only made two transactions over the entire year so unlikely to be a retail customer \n",
        "# He or she is most likely purchasing for commercial purposes\n",
        "# Safe to drop these this customer in both 'transactionData' and 'customerData' dataset\n",
        "\n",
        "transactiondata.drop(transactiondata.index[transactiondata['LYLTY_CARD_NBR'] == 226000], inplace = True)\n",
        "customerdata.drop(customerdata.index[customerdata['LYLTY_CARD_NBR'] == 226000], inplace = True)"
      ],
      "execution_count": null,
      "outputs": []
    },
    {
      "cell_type": "code",
      "metadata": {
        "id": "Tjy_VrogvxMY",
        "colab_type": "code",
        "colab": {
          "base_uri": "https://localhost:8080/",
          "height": 198
        },
        "outputId": "a9fdd64c-499d-41ea-d374-99fd0753d85b"
      },
      "source": [
        "transactiondata.head()"
      ],
      "execution_count": null,
      "outputs": [
        {
          "output_type": "execute_result",
          "data": {
            "text/html": [
              "<div>\n",
              "<style scoped>\n",
              "    .dataframe tbody tr th:only-of-type {\n",
              "        vertical-align: middle;\n",
              "    }\n",
              "\n",
              "    .dataframe tbody tr th {\n",
              "        vertical-align: top;\n",
              "    }\n",
              "\n",
              "    .dataframe thead th {\n",
              "        text-align: right;\n",
              "    }\n",
              "</style>\n",
              "<table border=\"1\" class=\"dataframe\">\n",
              "  <thead>\n",
              "    <tr style=\"text-align: right;\">\n",
              "      <th></th>\n",
              "      <th>DATE</th>\n",
              "      <th>STORE_NBR</th>\n",
              "      <th>LYLTY_CARD_NBR</th>\n",
              "      <th>TXN_ID</th>\n",
              "      <th>PROD_NBR</th>\n",
              "      <th>PROD_NAME</th>\n",
              "      <th>PROD_QTY</th>\n",
              "      <th>TOT_SALES</th>\n",
              "      <th>PACK_SIZE</th>\n",
              "    </tr>\n",
              "  </thead>\n",
              "  <tbody>\n",
              "    <tr>\n",
              "      <th>0</th>\n",
              "      <td>2018-10-17</td>\n",
              "      <td>1</td>\n",
              "      <td>1000</td>\n",
              "      <td>1</td>\n",
              "      <td>5</td>\n",
              "      <td>Natural Chip        Compny Seasalt</td>\n",
              "      <td>2</td>\n",
              "      <td>6.0</td>\n",
              "      <td>175</td>\n",
              "    </tr>\n",
              "    <tr>\n",
              "      <th>1</th>\n",
              "      <td>2019-05-14</td>\n",
              "      <td>1</td>\n",
              "      <td>1307</td>\n",
              "      <td>348</td>\n",
              "      <td>66</td>\n",
              "      <td>Ccs Nacho Cheese</td>\n",
              "      <td>3</td>\n",
              "      <td>6.3</td>\n",
              "      <td>175</td>\n",
              "    </tr>\n",
              "    <tr>\n",
              "      <th>2</th>\n",
              "      <td>2019-05-20</td>\n",
              "      <td>1</td>\n",
              "      <td>1343</td>\n",
              "      <td>383</td>\n",
              "      <td>61</td>\n",
              "      <td>Smiths Crinkle Cut  Chips Chicken</td>\n",
              "      <td>2</td>\n",
              "      <td>2.9</td>\n",
              "      <td>170</td>\n",
              "    </tr>\n",
              "    <tr>\n",
              "      <th>3</th>\n",
              "      <td>2018-08-17</td>\n",
              "      <td>2</td>\n",
              "      <td>2373</td>\n",
              "      <td>974</td>\n",
              "      <td>69</td>\n",
              "      <td>Smiths Chip Thinly  S Cream Onion</td>\n",
              "      <td>5</td>\n",
              "      <td>15.0</td>\n",
              "      <td>175</td>\n",
              "    </tr>\n",
              "    <tr>\n",
              "      <th>4</th>\n",
              "      <td>2018-08-18</td>\n",
              "      <td>2</td>\n",
              "      <td>2426</td>\n",
              "      <td>1038</td>\n",
              "      <td>108</td>\n",
              "      <td>Kettle Tortilla Chpshny Jlpno Chili</td>\n",
              "      <td>3</td>\n",
              "      <td>13.8</td>\n",
              "      <td>150</td>\n",
              "    </tr>\n",
              "  </tbody>\n",
              "</table>\n",
              "</div>"
            ],
            "text/plain": [
              "        DATE  STORE_NBR  LYLTY_CARD_NBR  ...  PROD_QTY  TOT_SALES PACK_SIZE\n",
              "0 2018-10-17          1            1000  ...         2        6.0       175\n",
              "1 2019-05-14          1            1307  ...         3        6.3       175\n",
              "2 2019-05-20          1            1343  ...         2        2.9       170\n",
              "3 2018-08-17          2            2373  ...         5       15.0       175\n",
              "4 2018-08-18          2            2426  ...         3       13.8       150\n",
              "\n",
              "[5 rows x 9 columns]"
            ]
          },
          "metadata": {
            "tags": []
          },
          "execution_count": 21
        }
      ]
    },
    {
      "cell_type": "code",
      "metadata": {
        "id": "rdEGR4R4wRyW",
        "colab_type": "code",
        "colab": {
          "base_uri": "https://localhost:8080/",
          "height": 235
        },
        "outputId": "7ba53a80-37a4-49b6-b708-6c5c76e62b3a"
      },
      "source": [
        "##lets look for with chip has more sale or more need\n",
        "transactiondata['PROD_NAME'].value_counts()"
      ],
      "execution_count": null,
      "outputs": [
        {
          "output_type": "execute_result",
          "data": {
            "text/plain": [
              "Kettle Mozzarella   Basil   Pesto         3304\n",
              "Kettle Tortilla Chpshny Jlpno Chili       3296\n",
              "Cobs Popd Swt Chlli  Sr Cream Chips       3269\n",
              "Tyrrells Crisps     Ched   Chives         3268\n",
              "Cobs Popd Sea Salt  Chips                 3265\n",
              "                                          ... \n",
              "Sunbites Whlegrn    Crisps Frch Onin      1432\n",
              "Rrd Pc Sea Salt                           1431\n",
              "Ncc Sour Cream      Garden Chives         1419\n",
              "French Fries Potato Chips                 1418\n",
              "Ww Crinkle Cut      Original              1410\n",
              "Name: PROD_NAME, Length: 105, dtype: int64"
            ]
          },
          "metadata": {
            "tags": []
          },
          "execution_count": 23
        }
      ]
    },
    {
      "cell_type": "code",
      "metadata": {
        "id": "GNad7uz8za4Z",
        "colab_type": "code",
        "colab": {
          "base_uri": "https://localhost:8080/",
          "height": 407
        },
        "outputId": "d204a354-b5e5-47ba-b751-7f9bad9b931f"
      },
      "source": [
        "transactiondata.sort_values(by=['DATE','STORE_NBR'],ascending=True)\n"
      ],
      "execution_count": null,
      "outputs": [
        {
          "output_type": "execute_result",
          "data": {
            "text/html": [
              "<div>\n",
              "<style scoped>\n",
              "    .dataframe tbody tr th:only-of-type {\n",
              "        vertical-align: middle;\n",
              "    }\n",
              "\n",
              "    .dataframe tbody tr th {\n",
              "        vertical-align: top;\n",
              "    }\n",
              "\n",
              "    .dataframe thead th {\n",
              "        text-align: right;\n",
              "    }\n",
              "</style>\n",
              "<table border=\"1\" class=\"dataframe\">\n",
              "  <thead>\n",
              "    <tr style=\"text-align: right;\">\n",
              "      <th></th>\n",
              "      <th>DATE</th>\n",
              "      <th>STORE_NBR</th>\n",
              "      <th>LYLTY_CARD_NBR</th>\n",
              "      <th>TXN_ID</th>\n",
              "      <th>PROD_NBR</th>\n",
              "      <th>PROD_NAME</th>\n",
              "      <th>PROD_QTY</th>\n",
              "      <th>TOT_SALES</th>\n",
              "      <th>PACK_SIZE</th>\n",
              "    </tr>\n",
              "  </thead>\n",
              "  <tbody>\n",
              "    <tr>\n",
              "      <th>204456</th>\n",
              "      <td>2018-07-01</td>\n",
              "      <td>1</td>\n",
              "      <td>1233</td>\n",
              "      <td>266</td>\n",
              "      <td>110</td>\n",
              "      <td>Ww Original Corn    Chips</td>\n",
              "      <td>1</td>\n",
              "      <td>1.9</td>\n",
              "      <td>200</td>\n",
              "    </tr>\n",
              "    <tr>\n",
              "      <th>238575</th>\n",
              "      <td>2018-07-01</td>\n",
              "      <td>1</td>\n",
              "      <td>1482</td>\n",
              "      <td>563</td>\n",
              "      <td>8</td>\n",
              "      <td>Smiths Crinkle Cut  Chips Original</td>\n",
              "      <td>1</td>\n",
              "      <td>2.9</td>\n",
              "      <td>170</td>\n",
              "    </tr>\n",
              "    <tr>\n",
              "      <th>55720</th>\n",
              "      <td>2018-07-01</td>\n",
              "      <td>2</td>\n",
              "      <td>2117</td>\n",
              "      <td>712</td>\n",
              "      <td>73</td>\n",
              "      <td>Smiths Crinkle Cut  Salt   Vinegar</td>\n",
              "      <td>1</td>\n",
              "      <td>2.9</td>\n",
              "      <td>170</td>\n",
              "    </tr>\n",
              "    <tr>\n",
              "      <th>135774</th>\n",
              "      <td>2018-07-01</td>\n",
              "      <td>2</td>\n",
              "      <td>2283</td>\n",
              "      <td>895</td>\n",
              "      <td>108</td>\n",
              "      <td>Kettle Tortilla Chpshny Jlpno Chili</td>\n",
              "      <td>2</td>\n",
              "      <td>9.2</td>\n",
              "      <td>150</td>\n",
              "    </tr>\n",
              "    <tr>\n",
              "      <th>185609</th>\n",
              "      <td>2018-07-01</td>\n",
              "      <td>3</td>\n",
              "      <td>3054</td>\n",
              "      <td>1314</td>\n",
              "      <td>81</td>\n",
              "      <td>Pringles Original   Crisps</td>\n",
              "      <td>2</td>\n",
              "      <td>7.4</td>\n",
              "      <td>134</td>\n",
              "    </tr>\n",
              "    <tr>\n",
              "      <th>...</th>\n",
              "      <td>...</td>\n",
              "      <td>...</td>\n",
              "      <td>...</td>\n",
              "      <td>...</td>\n",
              "      <td>...</td>\n",
              "      <td>...</td>\n",
              "      <td>...</td>\n",
              "      <td>...</td>\n",
              "      <td>...</td>\n",
              "    </tr>\n",
              "    <tr>\n",
              "      <th>25076</th>\n",
              "      <td>2019-06-30</td>\n",
              "      <td>271</td>\n",
              "      <td>271077</td>\n",
              "      <td>268661</td>\n",
              "      <td>56</td>\n",
              "      <td>Cheezels Cheese Box</td>\n",
              "      <td>2</td>\n",
              "      <td>4.2</td>\n",
              "      <td>125</td>\n",
              "    </tr>\n",
              "    <tr>\n",
              "      <th>25086</th>\n",
              "      <td>2019-06-30</td>\n",
              "      <td>271</td>\n",
              "      <td>271160</td>\n",
              "      <td>269155</td>\n",
              "      <td>27</td>\n",
              "      <td>Ww Supreme Cheese   Corn Chips</td>\n",
              "      <td>2</td>\n",
              "      <td>3.8</td>\n",
              "      <td>200</td>\n",
              "    </tr>\n",
              "    <tr>\n",
              "      <th>80546</th>\n",
              "      <td>2019-06-30</td>\n",
              "      <td>271</td>\n",
              "      <td>271121</td>\n",
              "      <td>268918</td>\n",
              "      <td>75</td>\n",
              "      <td>Cobs Popd Sea Salt  Chips</td>\n",
              "      <td>2</td>\n",
              "      <td>7.6</td>\n",
              "      <td>110</td>\n",
              "    </tr>\n",
              "    <tr>\n",
              "      <th>99000</th>\n",
              "      <td>2019-06-30</td>\n",
              "      <td>272</td>\n",
              "      <td>272074</td>\n",
              "      <td>269737</td>\n",
              "      <td>60</td>\n",
              "      <td>Kettle Tortilla Chpsfeta Garlic</td>\n",
              "      <td>2</td>\n",
              "      <td>9.2</td>\n",
              "      <td>150</td>\n",
              "    </tr>\n",
              "    <tr>\n",
              "      <th>216890</th>\n",
              "      <td>2019-06-30</td>\n",
              "      <td>272</td>\n",
              "      <td>272096</td>\n",
              "      <td>269769</td>\n",
              "      <td>49</td>\n",
              "      <td>Infuzions Sourcream Herbs Veg Strws</td>\n",
              "      <td>2</td>\n",
              "      <td>7.6</td>\n",
              "      <td>110</td>\n",
              "    </tr>\n",
              "  </tbody>\n",
              "</table>\n",
              "<p>246740 rows × 9 columns</p>\n",
              "</div>"
            ],
            "text/plain": [
              "             DATE  STORE_NBR  LYLTY_CARD_NBR  ...  PROD_QTY  TOT_SALES PACK_SIZE\n",
              "204456 2018-07-01          1            1233  ...         1        1.9       200\n",
              "238575 2018-07-01          1            1482  ...         1        2.9       170\n",
              "55720  2018-07-01          2            2117  ...         1        2.9       170\n",
              "135774 2018-07-01          2            2283  ...         2        9.2       150\n",
              "185609 2018-07-01          3            3054  ...         2        7.4       134\n",
              "...           ...        ...             ...  ...       ...        ...       ...\n",
              "25076  2019-06-30        271          271077  ...         2        4.2       125\n",
              "25086  2019-06-30        271          271160  ...         2        3.8       200\n",
              "80546  2019-06-30        271          271121  ...         2        7.6       110\n",
              "99000  2019-06-30        272          272074  ...         2        9.2       150\n",
              "216890 2019-06-30        272          272096  ...         2        7.6       110\n",
              "\n",
              "[246740 rows x 9 columns]"
            ]
          },
          "metadata": {
            "tags": []
          },
          "execution_count": 29
        }
      ]
    },
    {
      "cell_type": "code",
      "metadata": {
        "id": "LWXw_qZ6xxMF",
        "colab_type": "code",
        "colab": {
          "base_uri": "https://localhost:8080/",
          "height": 235
        },
        "outputId": "0e8390e4-ff0d-4496-f2ab-7e0356929464"
      },
      "source": [
        "##lets group the dataset with repective of store n.o and corresponding total sales\n",
        "##before that lets check the total n.o of stores \n",
        "transactiondata['STORE_NBR'].value_counts()\n",
        "##so the stores are not eqally present in the dataset"
      ],
      "execution_count": null,
      "outputs": [
        {
          "output_type": "execute_result",
          "data": {
            "text/plain": [
              "226    1916\n",
              "88     1786\n",
              "165    1741\n",
              "237    1714\n",
              "93     1699\n",
              "       ... \n",
              "206       2\n",
              "252       2\n",
              "31        2\n",
              "76        1\n",
              "92        1\n",
              "Name: STORE_NBR, Length: 271, dtype: int64"
            ]
          },
          "metadata": {
            "tags": []
          },
          "execution_count": 24
        }
      ]
    },
    {
      "cell_type": "code",
      "metadata": {
        "id": "BANp2nSEzgGZ",
        "colab_type": "code",
        "colab": {}
      },
      "source": [
        "##lets group the dataset with repective of store n.o and corresponding total sales\n",
        "##b = pd.pivot_table(transactiondata, values = 'TOT_SALES', index = 'STORE_NBR', aggfunc ='mean')\n",
        "##b.sort_values(by=['TOT_SALES'],ascending=False).head(10)\n"
      ],
      "execution_count": null,
      "outputs": []
    },
    {
      "cell_type": "code",
      "metadata": {
        "id": "ohs81Xnj8LuH",
        "colab_type": "code",
        "colab": {
          "base_uri": "https://localhost:8080/",
          "height": 288
        },
        "outputId": "a8f1c1a5-1322-4b27-864c-f8cb448569ba"
      },
      "source": [
        "transactiondata.describe()"
      ],
      "execution_count": null,
      "outputs": [
        {
          "output_type": "execute_result",
          "data": {
            "text/html": [
              "<div>\n",
              "<style scoped>\n",
              "    .dataframe tbody tr th:only-of-type {\n",
              "        vertical-align: middle;\n",
              "    }\n",
              "\n",
              "    .dataframe tbody tr th {\n",
              "        vertical-align: top;\n",
              "    }\n",
              "\n",
              "    .dataframe thead th {\n",
              "        text-align: right;\n",
              "    }\n",
              "</style>\n",
              "<table border=\"1\" class=\"dataframe\">\n",
              "  <thead>\n",
              "    <tr style=\"text-align: right;\">\n",
              "      <th></th>\n",
              "      <th>STORE_NBR</th>\n",
              "      <th>LYLTY_CARD_NBR</th>\n",
              "      <th>TXN_ID</th>\n",
              "      <th>PROD_NBR</th>\n",
              "      <th>PROD_QTY</th>\n",
              "      <th>TOT_SALES</th>\n",
              "      <th>PACK_SIZE</th>\n",
              "    </tr>\n",
              "  </thead>\n",
              "  <tbody>\n",
              "    <tr>\n",
              "      <th>count</th>\n",
              "      <td>246740.000000</td>\n",
              "      <td>2.467400e+05</td>\n",
              "      <td>2.467400e+05</td>\n",
              "      <td>246740.000000</td>\n",
              "      <td>246740.000000</td>\n",
              "      <td>246740.000000</td>\n",
              "      <td>246740.000000</td>\n",
              "    </tr>\n",
              "    <tr>\n",
              "      <th>mean</th>\n",
              "      <td>135.050361</td>\n",
              "      <td>1.355303e+05</td>\n",
              "      <td>1.351304e+05</td>\n",
              "      <td>56.352213</td>\n",
              "      <td>1.906456</td>\n",
              "      <td>7.316113</td>\n",
              "      <td>175.583521</td>\n",
              "    </tr>\n",
              "    <tr>\n",
              "      <th>std</th>\n",
              "      <td>76.786971</td>\n",
              "      <td>8.071520e+04</td>\n",
              "      <td>7.814760e+04</td>\n",
              "      <td>33.695235</td>\n",
              "      <td>0.342499</td>\n",
              "      <td>2.474897</td>\n",
              "      <td>59.432118</td>\n",
              "    </tr>\n",
              "    <tr>\n",
              "      <th>min</th>\n",
              "      <td>1.000000</td>\n",
              "      <td>1.000000e+03</td>\n",
              "      <td>1.000000e+00</td>\n",
              "      <td>1.000000</td>\n",
              "      <td>1.000000</td>\n",
              "      <td>1.700000</td>\n",
              "      <td>70.000000</td>\n",
              "    </tr>\n",
              "    <tr>\n",
              "      <th>25%</th>\n",
              "      <td>70.000000</td>\n",
              "      <td>7.001500e+04</td>\n",
              "      <td>6.756875e+04</td>\n",
              "      <td>26.000000</td>\n",
              "      <td>2.000000</td>\n",
              "      <td>5.800000</td>\n",
              "      <td>150.000000</td>\n",
              "    </tr>\n",
              "    <tr>\n",
              "      <th>50%</th>\n",
              "      <td>130.000000</td>\n",
              "      <td>1.303670e+05</td>\n",
              "      <td>1.351815e+05</td>\n",
              "      <td>53.000000</td>\n",
              "      <td>2.000000</td>\n",
              "      <td>7.400000</td>\n",
              "      <td>170.000000</td>\n",
              "    </tr>\n",
              "    <tr>\n",
              "      <th>75%</th>\n",
              "      <td>203.000000</td>\n",
              "      <td>2.030832e+05</td>\n",
              "      <td>2.026522e+05</td>\n",
              "      <td>87.000000</td>\n",
              "      <td>2.000000</td>\n",
              "      <td>8.800000</td>\n",
              "      <td>175.000000</td>\n",
              "    </tr>\n",
              "    <tr>\n",
              "      <th>max</th>\n",
              "      <td>272.000000</td>\n",
              "      <td>2.373711e+06</td>\n",
              "      <td>2.415841e+06</td>\n",
              "      <td>114.000000</td>\n",
              "      <td>5.000000</td>\n",
              "      <td>29.500000</td>\n",
              "      <td>380.000000</td>\n",
              "    </tr>\n",
              "  </tbody>\n",
              "</table>\n",
              "</div>"
            ],
            "text/plain": [
              "           STORE_NBR  LYLTY_CARD_NBR  ...      TOT_SALES      PACK_SIZE\n",
              "count  246740.000000    2.467400e+05  ...  246740.000000  246740.000000\n",
              "mean      135.050361    1.355303e+05  ...       7.316113     175.583521\n",
              "std        76.786971    8.071520e+04  ...       2.474897      59.432118\n",
              "min         1.000000    1.000000e+03  ...       1.700000      70.000000\n",
              "25%        70.000000    7.001500e+04  ...       5.800000     150.000000\n",
              "50%       130.000000    1.303670e+05  ...       7.400000     170.000000\n",
              "75%       203.000000    2.030832e+05  ...       8.800000     175.000000\n",
              "max       272.000000    2.373711e+06  ...      29.500000     380.000000\n",
              "\n",
              "[8 rows x 7 columns]"
            ]
          },
          "metadata": {
            "tags": []
          },
          "execution_count": 57
        }
      ]
    },
    {
      "cell_type": "code",
      "metadata": {
        "id": "yptdmjj7nmZF",
        "colab_type": "code",
        "colab": {
          "base_uri": "https://localhost:8080/",
          "height": 678
        },
        "outputId": "c098ee53-61e4-48ea-933a-bb1ea63efcf8"
      },
      "source": [
        "o=transactiondata.groupby('STORE_NBR')['TOT_SALES'].agg(['sum','max','min','mean'],ascending=True)\n",
        "o.sort_values(by=['sum','mean'],ascending=False).head(20)\n",
        "\n"
      ],
      "execution_count": null,
      "outputs": [
        {
          "output_type": "execute_result",
          "data": {
            "text/html": [
              "<div>\n",
              "<style scoped>\n",
              "    .dataframe tbody tr th:only-of-type {\n",
              "        vertical-align: middle;\n",
              "    }\n",
              "\n",
              "    .dataframe tbody tr th {\n",
              "        vertical-align: top;\n",
              "    }\n",
              "\n",
              "    .dataframe thead th {\n",
              "        text-align: right;\n",
              "    }\n",
              "</style>\n",
              "<table border=\"1\" class=\"dataframe\">\n",
              "  <thead>\n",
              "    <tr style=\"text-align: right;\">\n",
              "      <th></th>\n",
              "      <th>sum</th>\n",
              "      <th>max</th>\n",
              "      <th>min</th>\n",
              "      <th>mean</th>\n",
              "    </tr>\n",
              "    <tr>\n",
              "      <th>STORE_NBR</th>\n",
              "      <th></th>\n",
              "      <th></th>\n",
              "      <th></th>\n",
              "      <th></th>\n",
              "    </tr>\n",
              "  </thead>\n",
              "  <tbody>\n",
              "    <tr>\n",
              "      <th>226</th>\n",
              "      <td>16544.65</td>\n",
              "      <td>23.0</td>\n",
              "      <td>3.30</td>\n",
              "      <td>8.634995</td>\n",
              "    </tr>\n",
              "    <tr>\n",
              "      <th>88</th>\n",
              "      <td>15445.85</td>\n",
              "      <td>22.8</td>\n",
              "      <td>3.25</td>\n",
              "      <td>8.648292</td>\n",
              "    </tr>\n",
              "    <tr>\n",
              "      <th>165</th>\n",
              "      <td>15188.35</td>\n",
              "      <td>23.0</td>\n",
              "      <td>3.25</td>\n",
              "      <td>8.723923</td>\n",
              "    </tr>\n",
              "    <tr>\n",
              "      <th>237</th>\n",
              "      <td>14830.60</td>\n",
              "      <td>28.5</td>\n",
              "      <td>3.30</td>\n",
              "      <td>8.652625</td>\n",
              "    </tr>\n",
              "    <tr>\n",
              "      <th>40</th>\n",
              "      <td>14427.30</td>\n",
              "      <td>21.6</td>\n",
              "      <td>3.30</td>\n",
              "      <td>8.727949</td>\n",
              "    </tr>\n",
              "    <tr>\n",
              "      <th>58</th>\n",
              "      <td>14256.95</td>\n",
              "      <td>22.0</td>\n",
              "      <td>3.25</td>\n",
              "      <td>8.672111</td>\n",
              "    </tr>\n",
              "    <tr>\n",
              "      <th>199</th>\n",
              "      <td>13975.90</td>\n",
              "      <td>27.0</td>\n",
              "      <td>3.30</td>\n",
              "      <td>8.713155</td>\n",
              "    </tr>\n",
              "    <tr>\n",
              "      <th>4</th>\n",
              "      <td>13709.25</td>\n",
              "      <td>17.7</td>\n",
              "      <td>3.25</td>\n",
              "      <td>8.649369</td>\n",
              "    </tr>\n",
              "    <tr>\n",
              "      <th>203</th>\n",
              "      <td>13623.40</td>\n",
              "      <td>21.6</td>\n",
              "      <td>3.30</td>\n",
              "      <td>8.677325</td>\n",
              "    </tr>\n",
              "    <tr>\n",
              "      <th>26</th>\n",
              "      <td>13597.20</td>\n",
              "      <td>22.8</td>\n",
              "      <td>3.60</td>\n",
              "      <td>8.755441</td>\n",
              "    </tr>\n",
              "    <tr>\n",
              "      <th>201</th>\n",
              "      <td>13513.30</td>\n",
              "      <td>22.8</td>\n",
              "      <td>3.30</td>\n",
              "      <td>8.579873</td>\n",
              "    </tr>\n",
              "    <tr>\n",
              "      <th>81</th>\n",
              "      <td>13479.65</td>\n",
              "      <td>27.0</td>\n",
              "      <td>3.25</td>\n",
              "      <td>8.640801</td>\n",
              "    </tr>\n",
              "    <tr>\n",
              "      <th>130</th>\n",
              "      <td>13417.55</td>\n",
              "      <td>23.0</td>\n",
              "      <td>3.25</td>\n",
              "      <td>8.634202</td>\n",
              "    </tr>\n",
              "    <tr>\n",
              "      <th>181</th>\n",
              "      <td>13282.25</td>\n",
              "      <td>28.5</td>\n",
              "      <td>3.25</td>\n",
              "      <td>8.624838</td>\n",
              "    </tr>\n",
              "    <tr>\n",
              "      <th>72</th>\n",
              "      <td>13266.00</td>\n",
              "      <td>15.6</td>\n",
              "      <td>3.25</td>\n",
              "      <td>8.631100</td>\n",
              "    </tr>\n",
              "    <tr>\n",
              "      <th>217</th>\n",
              "      <td>13182.70</td>\n",
              "      <td>18.5</td>\n",
              "      <td>3.30</td>\n",
              "      <td>8.736050</td>\n",
              "    </tr>\n",
              "    <tr>\n",
              "      <th>261</th>\n",
              "      <td>13043.75</td>\n",
              "      <td>22.0</td>\n",
              "      <td>3.25</td>\n",
              "      <td>8.690040</td>\n",
              "    </tr>\n",
              "    <tr>\n",
              "      <th>95</th>\n",
              "      <td>13023.00</td>\n",
              "      <td>27.0</td>\n",
              "      <td>3.25</td>\n",
              "      <td>8.584707</td>\n",
              "    </tr>\n",
              "    <tr>\n",
              "      <th>238</th>\n",
              "      <td>12943.40</td>\n",
              "      <td>27.0</td>\n",
              "      <td>3.25</td>\n",
              "      <td>8.623185</td>\n",
              "    </tr>\n",
              "    <tr>\n",
              "      <th>210</th>\n",
              "      <td>12914.05</td>\n",
              "      <td>23.0</td>\n",
              "      <td>3.30</td>\n",
              "      <td>8.643942</td>\n",
              "    </tr>\n",
              "  </tbody>\n",
              "</table>\n",
              "</div>"
            ],
            "text/plain": [
              "                sum   max   min      mean\n",
              "STORE_NBR                                \n",
              "226        16544.65  23.0  3.30  8.634995\n",
              "88         15445.85  22.8  3.25  8.648292\n",
              "165        15188.35  23.0  3.25  8.723923\n",
              "237        14830.60  28.5  3.30  8.652625\n",
              "40         14427.30  21.6  3.30  8.727949\n",
              "58         14256.95  22.0  3.25  8.672111\n",
              "199        13975.90  27.0  3.30  8.713155\n",
              "4          13709.25  17.7  3.25  8.649369\n",
              "203        13623.40  21.6  3.30  8.677325\n",
              "26         13597.20  22.8  3.60  8.755441\n",
              "201        13513.30  22.8  3.30  8.579873\n",
              "81         13479.65  27.0  3.25  8.640801\n",
              "130        13417.55  23.0  3.25  8.634202\n",
              "181        13282.25  28.5  3.25  8.624838\n",
              "72         13266.00  15.6  3.25  8.631100\n",
              "217        13182.70  18.5  3.30  8.736050\n",
              "261        13043.75  22.0  3.25  8.690040\n",
              "95         13023.00  27.0  3.25  8.584707\n",
              "238        12943.40  27.0  3.25  8.623185\n",
              "210        12914.05  23.0  3.30  8.643942"
            ]
          },
          "metadata": {
            "tags": []
          },
          "execution_count": 25
        }
      ]
    },
    {
      "cell_type": "code",
      "metadata": {
        "id": "XrGyaUlG4zqI",
        "colab_type": "code",
        "colab": {
          "base_uri": "https://localhost:8080/",
          "height": 35
        },
        "outputId": "dfa20bb9-a7d2-497a-9629-3071610748f4"
      },
      "source": [
        "# Now let's examine the number of transactions over time to see if there are any obvious data issues e.g. missing data\n",
        "\n",
        "transactiondata['DATE'].nunique()"
      ],
      "execution_count": null,
      "outputs": [
        {
          "output_type": "execute_result",
          "data": {
            "text/plain": [
              "364"
            ]
          },
          "metadata": {
            "tags": []
          },
          "execution_count": 58
        }
      ]
    },
    {
      "cell_type": "code",
      "metadata": {
        "id": "u_l8PC1e-A1Q",
        "colab_type": "code",
        "colab": {
          "base_uri": "https://localhost:8080/",
          "height": 35
        },
        "outputId": "882a3ac4-d942-47cd-801d-7661d5d715c9"
      },
      "source": [
        "# Look for the missing date \n",
        "# Turns out that it was Christmas Day so it makes sense because most retail stores are closed on that day\n",
        "\n",
        "pd.date_range(start = '2018-07-01', end = '2019-06-30').difference(transactiondata['DATE'])"
      ],
      "execution_count": null,
      "outputs": [
        {
          "output_type": "execute_result",
          "data": {
            "text/plain": [
              "DatetimeIndex(['2018-12-25'], dtype='datetime64[ns]', freq=None)"
            ]
          },
          "metadata": {
            "tags": []
          },
          "execution_count": 59
        }
      ]
    },
    {
      "cell_type": "code",
      "metadata": {
        "id": "aRmu5zP7-S5J",
        "colab_type": "code",
        "colab": {
          "base_uri": "https://localhost:8080/",
          "height": 228
        },
        "outputId": "ca06ac7e-091e-482f-ce9d-ae65752507b9"
      },
      "source": [
        "# Create a new dataframe which contains the total sale for each date\n",
        "\n",
        "a = pd.pivot_table(transactiondata, values = 'TOT_SALES', index = 'DATE', aggfunc = 'sum')\n",
        "a.head()"
      ],
      "execution_count": null,
      "outputs": [
        {
          "output_type": "execute_result",
          "data": {
            "text/html": [
              "<div>\n",
              "<style scoped>\n",
              "    .dataframe tbody tr th:only-of-type {\n",
              "        vertical-align: middle;\n",
              "    }\n",
              "\n",
              "    .dataframe tbody tr th {\n",
              "        vertical-align: top;\n",
              "    }\n",
              "\n",
              "    .dataframe thead th {\n",
              "        text-align: right;\n",
              "    }\n",
              "</style>\n",
              "<table border=\"1\" class=\"dataframe\">\n",
              "  <thead>\n",
              "    <tr style=\"text-align: right;\">\n",
              "      <th></th>\n",
              "      <th>TOT_SALES</th>\n",
              "    </tr>\n",
              "    <tr>\n",
              "      <th>DATE</th>\n",
              "      <th></th>\n",
              "    </tr>\n",
              "  </thead>\n",
              "  <tbody>\n",
              "    <tr>\n",
              "      <th>2018-07-01</th>\n",
              "      <td>4920.1</td>\n",
              "    </tr>\n",
              "    <tr>\n",
              "      <th>2018-07-02</th>\n",
              "      <td>4877.0</td>\n",
              "    </tr>\n",
              "    <tr>\n",
              "      <th>2018-07-03</th>\n",
              "      <td>4954.7</td>\n",
              "    </tr>\n",
              "    <tr>\n",
              "      <th>2018-07-04</th>\n",
              "      <td>4968.1</td>\n",
              "    </tr>\n",
              "    <tr>\n",
              "      <th>2018-07-05</th>\n",
              "      <td>4682.0</td>\n",
              "    </tr>\n",
              "  </tbody>\n",
              "</table>\n",
              "</div>"
            ],
            "text/plain": [
              "            TOT_SALES\n",
              "DATE                 \n",
              "2018-07-01     4920.1\n",
              "2018-07-02     4877.0\n",
              "2018-07-03     4954.7\n",
              "2018-07-04     4968.1\n",
              "2018-07-05     4682.0"
            ]
          },
          "metadata": {
            "tags": []
          },
          "execution_count": 26
        }
      ]
    },
    {
      "cell_type": "code",
      "metadata": {
        "id": "hO0jretE_ieo",
        "colab_type": "code",
        "colab": {
          "base_uri": "https://localhost:8080/",
          "height": 407
        },
        "outputId": "b3c44253-6425-4a5a-d9b8-ae70c150a31a"
      },
      "source": [
        "b = pd.DataFrame(index = pd.date_range(start = '2018-07-01', end = '2019-06-30'))\n",
        "b['TOT_SALES'] = 0\n",
        "b"
      ],
      "execution_count": null,
      "outputs": [
        {
          "output_type": "execute_result",
          "data": {
            "text/html": [
              "<div>\n",
              "<style scoped>\n",
              "    .dataframe tbody tr th:only-of-type {\n",
              "        vertical-align: middle;\n",
              "    }\n",
              "\n",
              "    .dataframe tbody tr th {\n",
              "        vertical-align: top;\n",
              "    }\n",
              "\n",
              "    .dataframe thead th {\n",
              "        text-align: right;\n",
              "    }\n",
              "</style>\n",
              "<table border=\"1\" class=\"dataframe\">\n",
              "  <thead>\n",
              "    <tr style=\"text-align: right;\">\n",
              "      <th></th>\n",
              "      <th>TOT_SALES</th>\n",
              "    </tr>\n",
              "  </thead>\n",
              "  <tbody>\n",
              "    <tr>\n",
              "      <th>2018-07-01</th>\n",
              "      <td>0</td>\n",
              "    </tr>\n",
              "    <tr>\n",
              "      <th>2018-07-02</th>\n",
              "      <td>0</td>\n",
              "    </tr>\n",
              "    <tr>\n",
              "      <th>2018-07-03</th>\n",
              "      <td>0</td>\n",
              "    </tr>\n",
              "    <tr>\n",
              "      <th>2018-07-04</th>\n",
              "      <td>0</td>\n",
              "    </tr>\n",
              "    <tr>\n",
              "      <th>2018-07-05</th>\n",
              "      <td>0</td>\n",
              "    </tr>\n",
              "    <tr>\n",
              "      <th>...</th>\n",
              "      <td>...</td>\n",
              "    </tr>\n",
              "    <tr>\n",
              "      <th>2019-06-26</th>\n",
              "      <td>0</td>\n",
              "    </tr>\n",
              "    <tr>\n",
              "      <th>2019-06-27</th>\n",
              "      <td>0</td>\n",
              "    </tr>\n",
              "    <tr>\n",
              "      <th>2019-06-28</th>\n",
              "      <td>0</td>\n",
              "    </tr>\n",
              "    <tr>\n",
              "      <th>2019-06-29</th>\n",
              "      <td>0</td>\n",
              "    </tr>\n",
              "    <tr>\n",
              "      <th>2019-06-30</th>\n",
              "      <td>0</td>\n",
              "    </tr>\n",
              "  </tbody>\n",
              "</table>\n",
              "<p>365 rows × 1 columns</p>\n",
              "</div>"
            ],
            "text/plain": [
              "            TOT_SALES\n",
              "2018-07-01          0\n",
              "2018-07-02          0\n",
              "2018-07-03          0\n",
              "2018-07-04          0\n",
              "2018-07-05          0\n",
              "...               ...\n",
              "2019-06-26          0\n",
              "2019-06-27          0\n",
              "2019-06-28          0\n",
              "2019-06-29          0\n",
              "2019-06-30          0\n",
              "\n",
              "[365 rows x 1 columns]"
            ]
          },
          "metadata": {
            "tags": []
          },
          "execution_count": 27
        }
      ]
    },
    {
      "cell_type": "code",
      "metadata": {
        "id": "XFxIWNiHABRX",
        "colab_type": "code",
        "colab": {}
      },
      "source": [
        "c = a+b\n",
        "c.fillna(0, inplace = True)"
      ],
      "execution_count": null,
      "outputs": []
    },
    {
      "cell_type": "code",
      "metadata": {
        "id": "DigamGDvAC_6",
        "colab_type": "code",
        "colab": {
          "base_uri": "https://localhost:8080/",
          "height": 198
        },
        "outputId": "84dd6658-3d86-49cd-bf98-a0ef88727d8c"
      },
      "source": [
        "c.head()"
      ],
      "execution_count": null,
      "outputs": [
        {
          "output_type": "execute_result",
          "data": {
            "text/html": [
              "<div>\n",
              "<style scoped>\n",
              "    .dataframe tbody tr th:only-of-type {\n",
              "        vertical-align: middle;\n",
              "    }\n",
              "\n",
              "    .dataframe tbody tr th {\n",
              "        vertical-align: top;\n",
              "    }\n",
              "\n",
              "    .dataframe thead th {\n",
              "        text-align: right;\n",
              "    }\n",
              "</style>\n",
              "<table border=\"1\" class=\"dataframe\">\n",
              "  <thead>\n",
              "    <tr style=\"text-align: right;\">\n",
              "      <th></th>\n",
              "      <th>TOT_SALES</th>\n",
              "    </tr>\n",
              "  </thead>\n",
              "  <tbody>\n",
              "    <tr>\n",
              "      <th>2018-07-01</th>\n",
              "      <td>4920.1</td>\n",
              "    </tr>\n",
              "    <tr>\n",
              "      <th>2018-07-02</th>\n",
              "      <td>4877.0</td>\n",
              "    </tr>\n",
              "    <tr>\n",
              "      <th>2018-07-03</th>\n",
              "      <td>4954.7</td>\n",
              "    </tr>\n",
              "    <tr>\n",
              "      <th>2018-07-04</th>\n",
              "      <td>4968.1</td>\n",
              "    </tr>\n",
              "    <tr>\n",
              "      <th>2018-07-05</th>\n",
              "      <td>4682.0</td>\n",
              "    </tr>\n",
              "  </tbody>\n",
              "</table>\n",
              "</div>"
            ],
            "text/plain": [
              "            TOT_SALES\n",
              "2018-07-01     4920.1\n",
              "2018-07-02     4877.0\n",
              "2018-07-03     4954.7\n",
              "2018-07-04     4968.1\n",
              "2018-07-05     4682.0"
            ]
          },
          "metadata": {
            "tags": []
          },
          "execution_count": 29
        }
      ]
    },
    {
      "cell_type": "code",
      "metadata": {
        "id": "o57QzKEPAXqj",
        "colab_type": "code",
        "colab": {
          "base_uri": "https://localhost:8080/",
          "height": 228
        },
        "outputId": "18e1e08c-6f48-4141-f10f-99b6a9b70338"
      },
      "source": [
        "c.index.name = 'Date'\n",
        "c.rename(columns = {'TOT_SALES': 'Total Sales'}, inplace = True)\n",
        "c.head() "
      ],
      "execution_count": null,
      "outputs": [
        {
          "output_type": "execute_result",
          "data": {
            "text/html": [
              "<div>\n",
              "<style scoped>\n",
              "    .dataframe tbody tr th:only-of-type {\n",
              "        vertical-align: middle;\n",
              "    }\n",
              "\n",
              "    .dataframe tbody tr th {\n",
              "        vertical-align: top;\n",
              "    }\n",
              "\n",
              "    .dataframe thead th {\n",
              "        text-align: right;\n",
              "    }\n",
              "</style>\n",
              "<table border=\"1\" class=\"dataframe\">\n",
              "  <thead>\n",
              "    <tr style=\"text-align: right;\">\n",
              "      <th></th>\n",
              "      <th>Total Sales</th>\n",
              "    </tr>\n",
              "    <tr>\n",
              "      <th>Date</th>\n",
              "      <th></th>\n",
              "    </tr>\n",
              "  </thead>\n",
              "  <tbody>\n",
              "    <tr>\n",
              "      <th>2018-07-01</th>\n",
              "      <td>4920.1</td>\n",
              "    </tr>\n",
              "    <tr>\n",
              "      <th>2018-07-02</th>\n",
              "      <td>4877.0</td>\n",
              "    </tr>\n",
              "    <tr>\n",
              "      <th>2018-07-03</th>\n",
              "      <td>4954.7</td>\n",
              "    </tr>\n",
              "    <tr>\n",
              "      <th>2018-07-04</th>\n",
              "      <td>4968.1</td>\n",
              "    </tr>\n",
              "    <tr>\n",
              "      <th>2018-07-05</th>\n",
              "      <td>4682.0</td>\n",
              "    </tr>\n",
              "  </tbody>\n",
              "</table>\n",
              "</div>"
            ],
            "text/plain": [
              "            Total Sales\n",
              "Date                   \n",
              "2018-07-01       4920.1\n",
              "2018-07-02       4877.0\n",
              "2018-07-03       4954.7\n",
              "2018-07-04       4968.1\n",
              "2018-07-05       4682.0"
            ]
          },
          "metadata": {
            "tags": []
          },
          "execution_count": 30
        }
      ]
    },
    {
      "cell_type": "code",
      "metadata": {
        "id": "UTPJqsK1Admz",
        "colab_type": "code",
        "colab": {
          "base_uri": "https://localhost:8080/",
          "height": 350
        },
        "outputId": "dac0dd1c-5509-4c8e-c196-6e78a0cd9c5d"
      },
      "source": [
        "timeline = c.index\n",
        "graph = c['Total Sales']\n",
        "\n",
        "fig, ax = plt.subplots(figsize = (10, 5))\n",
        "ax.plot(timeline, graph)\n",
        "\n",
        "date_form = DateFormatter(\"%Y-%m\")\n",
        "ax.xaxis.set_major_formatter(date_form)\n",
        "plt.title('Total Sales from July 2018 to June 2019')\n",
        "plt.xlabel('Time')\n",
        "plt.ylabel('Total Sales')\n",
        "\n",
        "plt.show()\n",
        "\n",
        "# Comment: We can see that sales spike up during the December month and zero sale on Christmas"
      ],
      "execution_count": null,
      "outputs": [
        {
          "output_type": "display_data",
          "data": {
            "image/png": "[encoded data removed]",
            "text/plain": [
              "<Figure size 720x360 with 1 Axes>"
            ]
          },
          "metadata": {
            "tags": [],
            "needs_background": "light"
          }
        }
      ]
    },
    {
      "cell_type": "code",
      "metadata": {
        "id": "rYPUzkoXAp4K",
        "colab_type": "code",
        "colab": {
          "base_uri": "https://localhost:8080/",
          "height": 108
        },
        "outputId": "a14417b3-085b-4cc4-b267-1573a7124e95"
      },
      "source": [
        "# Confirm the date where sales count equals to zero\n",
        "\n",
        "c[c['Total Sales'] == 0]\n",
        "\n",
        "# It is indeed Christmas Day"
      ],
      "execution_count": null,
      "outputs": [
        {
          "output_type": "execute_result",
          "data": {
            "text/html": [
              "<div>\n",
              "<style scoped>\n",
              "    .dataframe tbody tr th:only-of-type {\n",
              "        vertical-align: middle;\n",
              "    }\n",
              "\n",
              "    .dataframe tbody tr th {\n",
              "        vertical-align: top;\n",
              "    }\n",
              "\n",
              "    .dataframe thead th {\n",
              "        text-align: right;\n",
              "    }\n",
              "</style>\n",
              "<table border=\"1\" class=\"dataframe\">\n",
              "  <thead>\n",
              "    <tr style=\"text-align: right;\">\n",
              "      <th></th>\n",
              "      <th>Total Sales</th>\n",
              "    </tr>\n",
              "    <tr>\n",
              "      <th>Date</th>\n",
              "      <th></th>\n",
              "    </tr>\n",
              "  </thead>\n",
              "  <tbody>\n",
              "    <tr>\n",
              "      <th>2018-12-25</th>\n",
              "      <td>0.0</td>\n",
              "    </tr>\n",
              "  </tbody>\n",
              "</table>\n",
              "</div>"
            ],
            "text/plain": [
              "            Total Sales\n",
              "Date                   \n",
              "2018-12-25          0.0"
            ]
          },
          "metadata": {
            "tags": []
          },
          "execution_count": 70
        }
      ]
    },
    {
      "cell_type": "code",
      "metadata": {
        "id": "Z1AFfvo2BGtk",
        "colab_type": "code",
        "colab": {
          "base_uri": "https://localhost:8080/",
          "height": 228
        },
        "outputId": "2860559b-54e1-4787-f404-0c6740b16cde"
      },
      "source": [
        "# Let's look at the December month only\n",
        "\n",
        "c_december = c[(c.index < \"2019-01-01\") & (c.index > \"2018-11-30\")]\n",
        "c_december.head()"
      ],
      "execution_count": null,
      "outputs": [
        {
          "output_type": "execute_result",
          "data": {
            "text/html": [
              "<div>\n",
              "<style scoped>\n",
              "    .dataframe tbody tr th:only-of-type {\n",
              "        vertical-align: middle;\n",
              "    }\n",
              "\n",
              "    .dataframe tbody tr th {\n",
              "        vertical-align: top;\n",
              "    }\n",
              "\n",
              "    .dataframe thead th {\n",
              "        text-align: right;\n",
              "    }\n",
              "</style>\n",
              "<table border=\"1\" class=\"dataframe\">\n",
              "  <thead>\n",
              "    <tr style=\"text-align: right;\">\n",
              "      <th></th>\n",
              "      <th>Total Sales</th>\n",
              "    </tr>\n",
              "    <tr>\n",
              "      <th>Date</th>\n",
              "      <th></th>\n",
              "    </tr>\n",
              "  </thead>\n",
              "  <tbody>\n",
              "    <tr>\n",
              "      <th>2018-12-01</th>\n",
              "      <td>5000.9</td>\n",
              "    </tr>\n",
              "    <tr>\n",
              "      <th>2018-12-02</th>\n",
              "      <td>4781.1</td>\n",
              "    </tr>\n",
              "    <tr>\n",
              "      <th>2018-12-03</th>\n",
              "      <td>4927.0</td>\n",
              "    </tr>\n",
              "    <tr>\n",
              "      <th>2018-12-04</th>\n",
              "      <td>4869.4</td>\n",
              "    </tr>\n",
              "    <tr>\n",
              "      <th>2018-12-05</th>\n",
              "      <td>4900.5</td>\n",
              "    </tr>\n",
              "  </tbody>\n",
              "</table>\n",
              "</div>"
            ],
            "text/plain": [
              "            Total Sales\n",
              "Date                   \n",
              "2018-12-01       5000.9\n",
              "2018-12-02       4781.1\n",
              "2018-12-03       4927.0\n",
              "2018-12-04       4869.4\n",
              "2018-12-05       4900.5"
            ]
          },
          "metadata": {
            "tags": []
          },
          "execution_count": 71
        }
      ]
    },
    {
      "cell_type": "code",
      "metadata": {
        "id": "-o53zn27BTqp",
        "colab_type": "code",
        "colab": {
          "base_uri": "https://localhost:8080/",
          "height": 368
        },
        "outputId": "3956ae64-9a76-4fd4-e135-97c0b94d115e"
      },
      "source": [
        "plt.figure(figsize = (15, 5))\n",
        "plt.plot(c_december)\n",
        "plt.xlabel('Date')\n",
        "plt.ylabel('Total Sales')\n",
        "plt.title('Total Sales in December')"
      ],
      "execution_count": null,
      "outputs": [
        {
          "output_type": "execute_result",
          "data": {
            "text/plain": [
              "Text(0.5, 1.0, 'Total Sales in December')"
            ]
          },
          "metadata": {
            "tags": []
          },
          "execution_count": 72
        },
        {
          "output_type": "display_data",
          "data": {
            "image/png": "[encoded data removed]",
            "text/plain": [
              "<Figure size 1080x360 with 1 Axes>"
            ]
          },
          "metadata": {
            "tags": [],
            "needs_background": "light"
          }
        }
      ]
    },
    {
      "cell_type": "code",
      "metadata": {
        "id": "UKhdoLkwBWH2",
        "colab_type": "code",
        "colab": {
          "base_uri": "https://localhost:8080/",
          "height": 198
        },
        "outputId": "e59650cb-5f16-480e-cb52-68698b5e1452"
      },
      "source": [
        "# Reset index for 'c_december'\n",
        "\n",
        "c_december.reset_index(drop = True, inplace = True)\n",
        "c_december.head()"
      ],
      "execution_count": null,
      "outputs": [
        {
          "output_type": "execute_result",
          "data": {
            "text/html": [
              "<div>\n",
              "<style scoped>\n",
              "    .dataframe tbody tr th:only-of-type {\n",
              "        vertical-align: middle;\n",
              "    }\n",
              "\n",
              "    .dataframe tbody tr th {\n",
              "        vertical-align: top;\n",
              "    }\n",
              "\n",
              "    .dataframe thead th {\n",
              "        text-align: right;\n",
              "    }\n",
              "</style>\n",
              "<table border=\"1\" class=\"dataframe\">\n",
              "  <thead>\n",
              "    <tr style=\"text-align: right;\">\n",
              "      <th></th>\n",
              "      <th>Total Sales</th>\n",
              "    </tr>\n",
              "  </thead>\n",
              "  <tbody>\n",
              "    <tr>\n",
              "      <th>0</th>\n",
              "      <td>5000.9</td>\n",
              "    </tr>\n",
              "    <tr>\n",
              "      <th>1</th>\n",
              "      <td>4781.1</td>\n",
              "    </tr>\n",
              "    <tr>\n",
              "      <th>2</th>\n",
              "      <td>4927.0</td>\n",
              "    </tr>\n",
              "    <tr>\n",
              "      <th>3</th>\n",
              "      <td>4869.4</td>\n",
              "    </tr>\n",
              "    <tr>\n",
              "      <th>4</th>\n",
              "      <td>4900.5</td>\n",
              "    </tr>\n",
              "  </tbody>\n",
              "</table>\n",
              "</div>"
            ],
            "text/plain": [
              "   Total Sales\n",
              "0       5000.9\n",
              "1       4781.1\n",
              "2       4927.0\n",
              "3       4869.4\n",
              "4       4900.5"
            ]
          },
          "metadata": {
            "tags": []
          },
          "execution_count": 73
        }
      ]
    },
    {
      "cell_type": "code",
      "metadata": {
        "id": "XaH2VroMBepM",
        "colab_type": "code",
        "colab": {
          "base_uri": "https://localhost:8080/",
          "height": 198
        },
        "outputId": "6cdff334-0197-48e0-85c6-7a8b43b60556"
      },
      "source": [
        "# Relabel 'Date'\n",
        "\n",
        "c_december['Date'] = c_december.index + 1\n",
        "c_december.head()"
      ],
      "execution_count": null,
      "outputs": [
        {
          "output_type": "execute_result",
          "data": {
            "text/html": [
              "<div>\n",
              "<style scoped>\n",
              "    .dataframe tbody tr th:only-of-type {\n",
              "        vertical-align: middle;\n",
              "    }\n",
              "\n",
              "    .dataframe tbody tr th {\n",
              "        vertical-align: top;\n",
              "    }\n",
              "\n",
              "    .dataframe thead th {\n",
              "        text-align: right;\n",
              "    }\n",
              "</style>\n",
              "<table border=\"1\" class=\"dataframe\">\n",
              "  <thead>\n",
              "    <tr style=\"text-align: right;\">\n",
              "      <th></th>\n",
              "      <th>Total Sales</th>\n",
              "      <th>Date</th>\n",
              "    </tr>\n",
              "  </thead>\n",
              "  <tbody>\n",
              "    <tr>\n",
              "      <th>0</th>\n",
              "      <td>5000.9</td>\n",
              "      <td>1</td>\n",
              "    </tr>\n",
              "    <tr>\n",
              "      <th>1</th>\n",
              "      <td>4781.1</td>\n",
              "      <td>2</td>\n",
              "    </tr>\n",
              "    <tr>\n",
              "      <th>2</th>\n",
              "      <td>4927.0</td>\n",
              "      <td>3</td>\n",
              "    </tr>\n",
              "    <tr>\n",
              "      <th>3</th>\n",
              "      <td>4869.4</td>\n",
              "      <td>4</td>\n",
              "    </tr>\n",
              "    <tr>\n",
              "      <th>4</th>\n",
              "      <td>4900.5</td>\n",
              "      <td>5</td>\n",
              "    </tr>\n",
              "  </tbody>\n",
              "</table>\n",
              "</div>"
            ],
            "text/plain": [
              "   Total Sales  Date\n",
              "0       5000.9     1\n",
              "1       4781.1     2\n",
              "2       4927.0     3\n",
              "3       4869.4     4\n",
              "4       4900.5     5"
            ]
          },
          "metadata": {
            "tags": []
          },
          "execution_count": 74
        }
      ]
    },
    {
      "cell_type": "code",
      "metadata": {
        "id": "xVNbXYOjBjYA",
        "colab_type": "code",
        "colab": {
          "base_uri": "https://localhost:8080/",
          "height": 352
        },
        "outputId": "95125345-d109-4307-8c83-6ab6eec3e1bc"
      },
      "source": [
        "plt.figure(figsize = (15,5))\n",
        "sns.barplot(x = 'Date', y ='Total Sales', data = c_december)\n",
        "\n",
        "# Comment: No sales on Christmas Day (2018-12-25)"
      ],
      "execution_count": null,
      "outputs": [
        {
          "output_type": "execute_result",
          "data": {
            "text/plain": [
              "<matplotlib.axes._subplots.AxesSubplot at 0x7f4ebe89d0f0>"
            ]
          },
          "metadata": {
            "tags": []
          },
          "execution_count": 75
        },
        {
          "output_type": "display_data",
          "data": {
            "image/png": "[encoded data removed]",
            "text/plain": [
              "<Figure size 1080x360 with 1 Axes>"
            ]
          },
          "metadata": {
            "tags": [],
            "needs_background": "light"
          }
        }
      ]
    },
    {
      "cell_type": "code",
      "metadata": {
        "id": "TVMd6S74BtOa",
        "colab_type": "code",
        "colab": {
          "base_uri": "https://localhost:8080/",
          "height": 54
        },
        "outputId": "971bd636-9d7f-4eab-f449-83366bc8263f"
      },
      "source": [
        "transactiondata['PACK_SIZE'].unique()\n",
        "\n",
        "# Comment: the largest size is 380g and the smallest size is 70g which seems reasonable"
      ],
      "execution_count": null,
      "outputs": [
        {
          "output_type": "execute_result",
          "data": {
            "text/plain": [
              "array([175, 170, 150, 330, 210, 270, 220, 125, 110, 134, 380, 180, 165,\n",
              "       135, 250, 200, 160, 190,  90,  70])"
            ]
          },
          "metadata": {
            "tags": []
          },
          "execution_count": 77
        }
      ]
    },
    {
      "cell_type": "code",
      "metadata": {
        "id": "woO50Eq2CENW",
        "colab_type": "code",
        "colab": {
          "base_uri": "https://localhost:8080/",
          "height": 283
        },
        "outputId": "9f11fbb7-4dbc-486b-f4b8-3fadd9158524"
      },
      "source": [
        "# Check the distribution of 'PACK_SIZE'\n",
        "\n",
        "transactiondata['PACK_SIZE'].hist()"
      ],
      "execution_count": null,
      "outputs": [
        {
          "output_type": "execute_result",
          "data": {
            "text/plain": [
              "<matplotlib.axes._subplots.AxesSubplot at 0x7f4ebe06ef60>"
            ]
          },
          "metadata": {
            "tags": []
          },
          "execution_count": 79
        },
        {
          "output_type": "display_data",
          "data": {
            "image/png": "[encoded data removed]",
            "text/plain": [
              "<Figure size 432x288 with 1 Axes>"
            ]
          },
          "metadata": {
            "tags": [],
            "needs_background": "light"
          }
        }
      ]
    },
    {
      "cell_type": "code",
      "metadata": {
        "id": "Gx33pWKFCObB",
        "colab_type": "code",
        "colab": {
          "base_uri": "https://localhost:8080/",
          "height": 399
        },
        "outputId": "132b84ab-94d5-438b-8662-06ebb69f76c0"
      },
      "source": [
        "##let check with countplot\n",
        "transactiondata['PACK_SIZE'].value_counts()\n",
        "##more people tend to buy packsize of 175kg 150kg"
      ],
      "execution_count": null,
      "outputs": [
        {
          "output_type": "execute_result",
          "data": {
            "text/plain": [
              "175    66390\n",
              "150    40203\n",
              "134    25102\n",
              "110    22387\n",
              "170    19983\n",
              "165    15297\n",
              "330    12540\n",
              "380     6416\n",
              "270     6285\n",
              "210     6272\n",
              "200     4473\n",
              "135     3257\n",
              "250     3169\n",
              "90      3008\n",
              "190     2995\n",
              "160     2970\n",
              "220     1564\n",
              "70      1507\n",
              "180     1468\n",
              "125     1454\n",
              "Name: PACK_SIZE, dtype: int64"
            ]
          },
          "metadata": {
            "tags": []
          },
          "execution_count": 80
        }
      ]
    },
    {
      "cell_type": "code",
      "metadata": {
        "id": "QsNck75f996z",
        "colab_type": "code",
        "colab": {
          "base_uri": "https://localhost:8080/",
          "height": 678
        },
        "outputId": "46285a5a-f91b-4dcd-ec61-f59ba53b4168"
      },
      "source": [
        "##lets check for pack size the quantity\n",
        "p=transactiondata.groupby('PACK_SIZE').PROD_QTY.sum().sort_values(ascending = False)\n",
        "pd.DataFrame(p)\n"
      ],
      "execution_count": null,
      "outputs": [
        {
          "output_type": "execute_result",
          "data": {
            "text/html": [
              "<div>\n",
              "<style scoped>\n",
              "    .dataframe tbody tr th:only-of-type {\n",
              "        vertical-align: middle;\n",
              "    }\n",
              "\n",
              "    .dataframe tbody tr th {\n",
              "        vertical-align: top;\n",
              "    }\n",
              "\n",
              "    .dataframe thead th {\n",
              "        text-align: right;\n",
              "    }\n",
              "</style>\n",
              "<table border=\"1\" class=\"dataframe\">\n",
              "  <thead>\n",
              "    <tr style=\"text-align: right;\">\n",
              "      <th></th>\n",
              "      <th>PROD_QTY</th>\n",
              "    </tr>\n",
              "    <tr>\n",
              "      <th>PACK_SIZE</th>\n",
              "      <th></th>\n",
              "    </tr>\n",
              "  </thead>\n",
              "  <tbody>\n",
              "    <tr>\n",
              "      <th>175</th>\n",
              "      <td>126467</td>\n",
              "    </tr>\n",
              "    <tr>\n",
              "      <th>150</th>\n",
              "      <td>76662</td>\n",
              "    </tr>\n",
              "    <tr>\n",
              "      <th>134</th>\n",
              "      <td>48019</td>\n",
              "    </tr>\n",
              "    <tr>\n",
              "      <th>110</th>\n",
              "      <td>42835</td>\n",
              "    </tr>\n",
              "    <tr>\n",
              "      <th>170</th>\n",
              "      <td>38088</td>\n",
              "    </tr>\n",
              "    <tr>\n",
              "      <th>165</th>\n",
              "      <td>29051</td>\n",
              "    </tr>\n",
              "    <tr>\n",
              "      <th>330</th>\n",
              "      <td>23999</td>\n",
              "    </tr>\n",
              "    <tr>\n",
              "      <th>380</th>\n",
              "      <td>12273</td>\n",
              "    </tr>\n",
              "    <tr>\n",
              "      <th>270</th>\n",
              "      <td>12049</td>\n",
              "    </tr>\n",
              "    <tr>\n",
              "      <th>210</th>\n",
              "      <td>11962</td>\n",
              "    </tr>\n",
              "    <tr>\n",
              "      <th>200</th>\n",
              "      <td>8425</td>\n",
              "    </tr>\n",
              "    <tr>\n",
              "      <th>135</th>\n",
              "      <td>6212</td>\n",
              "    </tr>\n",
              "    <tr>\n",
              "      <th>250</th>\n",
              "      <td>6069</td>\n",
              "    </tr>\n",
              "    <tr>\n",
              "      <th>90</th>\n",
              "      <td>5692</td>\n",
              "    </tr>\n",
              "    <tr>\n",
              "      <th>190</th>\n",
              "      <td>5673</td>\n",
              "    </tr>\n",
              "    <tr>\n",
              "      <th>160</th>\n",
              "      <td>5604</td>\n",
              "    </tr>\n",
              "    <tr>\n",
              "      <th>220</th>\n",
              "      <td>2970</td>\n",
              "    </tr>\n",
              "    <tr>\n",
              "      <th>70</th>\n",
              "      <td>2855</td>\n",
              "    </tr>\n",
              "    <tr>\n",
              "      <th>180</th>\n",
              "      <td>2764</td>\n",
              "    </tr>\n",
              "    <tr>\n",
              "      <th>125</th>\n",
              "      <td>2730</td>\n",
              "    </tr>\n",
              "  </tbody>\n",
              "</table>\n",
              "</div>"
            ],
            "text/plain": [
              "           PROD_QTY\n",
              "PACK_SIZE          \n",
              "175          126467\n",
              "150           76662\n",
              "134           48019\n",
              "110           42835\n",
              "170           38088\n",
              "165           29051\n",
              "330           23999\n",
              "380           12273\n",
              "270           12049\n",
              "210           11962\n",
              "200            8425\n",
              "135            6212\n",
              "250            6069\n",
              "90             5692\n",
              "190            5673\n",
              "160            5604\n",
              "220            2970\n",
              "70             2855\n",
              "180            2764\n",
              "125            2730"
            ]
          },
          "metadata": {
            "tags": []
          },
          "execution_count": 37
        }
      ]
    },
    {
      "cell_type": "code",
      "metadata": {
        "id": "lI61BAUnC-vG",
        "colab_type": "code",
        "colab": {
          "base_uri": "https://localhost:8080/",
          "height": 198
        },
        "outputId": "3f856963-e76b-4da5-9de8-72a06d2bae34"
      },
      "source": [
        "# Extract brand name from 'PROD_NAME' \n",
        "# Create a new column under 'TransactionData' called 'brand'\n",
        "\n",
        "part = transactiondata['PROD_NAME'].str.partition()\n",
        "transactiondata['BRAND'] = part[0]\n",
        "transactiondata.head()"
      ],
      "execution_count": null,
      "outputs": [
        {
          "output_type": "execute_result",
          "data": {
            "text/html": [
              "<div>\n",
              "<style scoped>\n",
              "    .dataframe tbody tr th:only-of-type {\n",
              "        vertical-align: middle;\n",
              "    }\n",
              "\n",
              "    .dataframe tbody tr th {\n",
              "        vertical-align: top;\n",
              "    }\n",
              "\n",
              "    .dataframe thead th {\n",
              "        text-align: right;\n",
              "    }\n",
              "</style>\n",
              "<table border=\"1\" class=\"dataframe\">\n",
              "  <thead>\n",
              "    <tr style=\"text-align: right;\">\n",
              "      <th></th>\n",
              "      <th>DATE</th>\n",
              "      <th>STORE_NBR</th>\n",
              "      <th>LYLTY_CARD_NBR</th>\n",
              "      <th>TXN_ID</th>\n",
              "      <th>PROD_NBR</th>\n",
              "      <th>PROD_NAME</th>\n",
              "      <th>PROD_QTY</th>\n",
              "      <th>TOT_SALES</th>\n",
              "      <th>PACK_SIZE</th>\n",
              "      <th>BRAND</th>\n",
              "    </tr>\n",
              "  </thead>\n",
              "  <tbody>\n",
              "    <tr>\n",
              "      <th>0</th>\n",
              "      <td>2018-10-17</td>\n",
              "      <td>1</td>\n",
              "      <td>1000</td>\n",
              "      <td>1</td>\n",
              "      <td>5</td>\n",
              "      <td>Natural Chip        Compny Seasalt</td>\n",
              "      <td>2</td>\n",
              "      <td>6.0</td>\n",
              "      <td>175</td>\n",
              "      <td>Natural</td>\n",
              "    </tr>\n",
              "    <tr>\n",
              "      <th>1</th>\n",
              "      <td>2019-05-14</td>\n",
              "      <td>1</td>\n",
              "      <td>1307</td>\n",
              "      <td>348</td>\n",
              "      <td>66</td>\n",
              "      <td>Ccs Nacho Cheese</td>\n",
              "      <td>3</td>\n",
              "      <td>6.3</td>\n",
              "      <td>175</td>\n",
              "      <td>Ccs</td>\n",
              "    </tr>\n",
              "    <tr>\n",
              "      <th>2</th>\n",
              "      <td>2019-05-20</td>\n",
              "      <td>1</td>\n",
              "      <td>1343</td>\n",
              "      <td>383</td>\n",
              "      <td>61</td>\n",
              "      <td>Smiths Crinkle Cut  Chips Chicken</td>\n",
              "      <td>2</td>\n",
              "      <td>2.9</td>\n",
              "      <td>170</td>\n",
              "      <td>Smiths</td>\n",
              "    </tr>\n",
              "    <tr>\n",
              "      <th>3</th>\n",
              "      <td>2018-08-17</td>\n",
              "      <td>2</td>\n",
              "      <td>2373</td>\n",
              "      <td>974</td>\n",
              "      <td>69</td>\n",
              "      <td>Smiths Chip Thinly  S Cream Onion</td>\n",
              "      <td>5</td>\n",
              "      <td>15.0</td>\n",
              "      <td>175</td>\n",
              "      <td>Smiths</td>\n",
              "    </tr>\n",
              "    <tr>\n",
              "      <th>4</th>\n",
              "      <td>2018-08-18</td>\n",
              "      <td>2</td>\n",
              "      <td>2426</td>\n",
              "      <td>1038</td>\n",
              "      <td>108</td>\n",
              "      <td>Kettle Tortilla Chpshny Jlpno Chili</td>\n",
              "      <td>3</td>\n",
              "      <td>13.8</td>\n",
              "      <td>150</td>\n",
              "      <td>Kettle</td>\n",
              "    </tr>\n",
              "  </tbody>\n",
              "</table>\n",
              "</div>"
            ],
            "text/plain": [
              "        DATE  STORE_NBR  LYLTY_CARD_NBR  ...  TOT_SALES  PACK_SIZE    BRAND\n",
              "0 2018-10-17          1            1000  ...        6.0        175  Natural\n",
              "1 2019-05-14          1            1307  ...        6.3        175      Ccs\n",
              "2 2019-05-20          1            1343  ...        2.9        170   Smiths\n",
              "3 2018-08-17          2            2373  ...       15.0        175   Smiths\n",
              "4 2018-08-18          2            2426  ...       13.8        150   Kettle\n",
              "\n",
              "[5 rows x 10 columns]"
            ]
          },
          "metadata": {
            "tags": []
          },
          "execution_count": 38
        }
      ]
    },
    {
      "cell_type": "code",
      "metadata": {
        "id": "m01rBeagDJbL",
        "colab_type": "code",
        "colab": {
          "base_uri": "https://localhost:8080/",
          "height": 108
        },
        "outputId": "a61f699b-27d8-4f9d-e8b7-90a6fd1615a1"
      },
      "source": [
        "##lets look at the brand column morecloser\n",
        "transactiondata['BRAND'].unique()\n",
        "##we can see some duplicated names like eg:Ww and woolworths,Rrd and Red..."
      ],
      "execution_count": null,
      "outputs": [
        {
          "output_type": "execute_result",
          "data": {
            "text/plain": [
              "array(['Natural', 'Ccs', 'Smiths', 'Kettle', 'Grain', 'Doritos',\n",
              "       'Twisties', 'Ww', 'Thins', 'Burger', 'Ncc', 'Cheezels', 'Infzns',\n",
              "       'Red', 'Pringles', 'Dorito', 'Infuzions', 'Smith', 'Grnwves',\n",
              "       'Tyrrells', 'Cobs', 'French', 'Rrd', 'Tostitos', 'Cheetos',\n",
              "       'Woolworths', 'Snbts', 'Sunbites'], dtype=object)"
            ]
          },
          "metadata": {
            "tags": []
          },
          "execution_count": 39
        }
      ]
    },
    {
      "cell_type": "code",
      "metadata": {
        "id": "mEsdAlp8D2v7",
        "colab_type": "code",
        "colab": {
          "base_uri": "https://localhost:8080/",
          "height": 90
        },
        "outputId": "5262469b-d3ec-4ea5-c23b-60c288159c92"
      },
      "source": [
        "##lets remove the duplicated names\n",
        "transactiondata['BRAND'].replace('Ncc', 'Natural', inplace = True)\n",
        "transactiondata['BRAND'].replace('Ccs', 'CCS', inplace = True)\n",
        "transactiondata['BRAND'].replace('Smith', 'Smiths', inplace = True)\n",
        "transactiondata['BRAND'].replace(['Grain', 'Grnwves'], 'Grainwaves', inplace = True)\n",
        "transactiondata['BRAND'].replace('Dorito', 'Doritos', inplace = True)\n",
        "transactiondata['BRAND'].replace('Ww', 'Woolworths', inplace = True)\n",
        "transactiondata['BRAND'].replace('Infzns', 'Infuzions', inplace = True)\n",
        "transactiondata['BRAND'].replace(['Red', 'Rrd'], 'Red Rock Deli', inplace = True)\n",
        "transactiondata['BRAND'].replace('Snbts', 'Sunbites', inplace = True)\n",
        "\n",
        "transactiondata['BRAND'].unique()"
      ],
      "execution_count": null,
      "outputs": [
        {
          "output_type": "execute_result",
          "data": {
            "text/plain": [
              "array(['Natural', 'CCS', 'Smiths', 'Kettle', 'Grainwaves', 'Doritos',\n",
              "       'Twisties', 'Woolworths', 'Thins', 'Burger', 'Cheezels',\n",
              "       'Infuzions', 'Red Rock Deli', 'Pringles', 'Tyrrells', 'Cobs',\n",
              "       'French', 'Tostitos', 'Cheetos', 'Sunbites'], dtype=object)"
            ]
          },
          "metadata": {
            "tags": []
          },
          "execution_count": 40
        }
      ]
    },
    {
      "cell_type": "code",
      "metadata": {
        "id": "q7gNAFXWEUjR",
        "colab_type": "code",
        "colab": {
          "base_uri": "https://localhost:8080/",
          "height": 678
        },
        "outputId": "17038531-3230-4db0-91be-00af83e524c2"
      },
      "source": [
        "# Which brand had the most sales?\n",
        "\n",
        "j=transactiondata.groupby('BRAND').TOT_SALES.sum().sort_values(ascending = False)\n",
        "pd.DataFrame(j)"
      ],
      "execution_count": null,
      "outputs": [
        {
          "output_type": "execute_result",
          "data": {
            "text/html": [
              "<div>\n",
              "<style scoped>\n",
              "    .dataframe tbody tr th:only-of-type {\n",
              "        vertical-align: middle;\n",
              "    }\n",
              "\n",
              "    .dataframe tbody tr th {\n",
              "        vertical-align: top;\n",
              "    }\n",
              "\n",
              "    .dataframe thead th {\n",
              "        text-align: right;\n",
              "    }\n",
              "</style>\n",
              "<table border=\"1\" class=\"dataframe\">\n",
              "  <thead>\n",
              "    <tr style=\"text-align: right;\">\n",
              "      <th></th>\n",
              "      <th>TOT_SALES</th>\n",
              "    </tr>\n",
              "    <tr>\n",
              "      <th>BRAND</th>\n",
              "      <th></th>\n",
              "    </tr>\n",
              "  </thead>\n",
              "  <tbody>\n",
              "    <tr>\n",
              "      <th>Kettle</th>\n",
              "      <td>390239.8</td>\n",
              "    </tr>\n",
              "    <tr>\n",
              "      <th>Doritos</th>\n",
              "      <td>226329.9</td>\n",
              "    </tr>\n",
              "    <tr>\n",
              "      <th>Smiths</th>\n",
              "      <td>217492.0</td>\n",
              "    </tr>\n",
              "    <tr>\n",
              "      <th>Pringles</th>\n",
              "      <td>177655.5</td>\n",
              "    </tr>\n",
              "    <tr>\n",
              "      <th>Infuzions</th>\n",
              "      <td>99047.6</td>\n",
              "    </tr>\n",
              "    <tr>\n",
              "      <th>Thins</th>\n",
              "      <td>88852.5</td>\n",
              "    </tr>\n",
              "    <tr>\n",
              "      <th>Red Rock Deli</th>\n",
              "      <td>87607.5</td>\n",
              "    </tr>\n",
              "    <tr>\n",
              "      <th>Twisties</th>\n",
              "      <td>81522.1</td>\n",
              "    </tr>\n",
              "    <tr>\n",
              "      <th>Tostitos</th>\n",
              "      <td>79789.6</td>\n",
              "    </tr>\n",
              "    <tr>\n",
              "      <th>Cobs</th>\n",
              "      <td>70569.8</td>\n",
              "    </tr>\n",
              "    <tr>\n",
              "      <th>Tyrrells</th>\n",
              "      <td>51647.4</td>\n",
              "    </tr>\n",
              "    <tr>\n",
              "      <th>Grainwaves</th>\n",
              "      <td>51617.2</td>\n",
              "    </tr>\n",
              "    <tr>\n",
              "      <th>Natural</th>\n",
              "      <td>42318.0</td>\n",
              "    </tr>\n",
              "    <tr>\n",
              "      <th>Woolworths</th>\n",
              "      <td>41059.1</td>\n",
              "    </tr>\n",
              "    <tr>\n",
              "      <th>Cheezels</th>\n",
              "      <td>40029.9</td>\n",
              "    </tr>\n",
              "    <tr>\n",
              "      <th>CCS</th>\n",
              "      <td>18078.9</td>\n",
              "    </tr>\n",
              "    <tr>\n",
              "      <th>Cheetos</th>\n",
              "      <td>16884.5</td>\n",
              "    </tr>\n",
              "    <tr>\n",
              "      <th>Sunbites</th>\n",
              "      <td>9676.4</td>\n",
              "    </tr>\n",
              "    <tr>\n",
              "      <th>French</th>\n",
              "      <td>7929.0</td>\n",
              "    </tr>\n",
              "    <tr>\n",
              "      <th>Burger</th>\n",
              "      <td>6831.0</td>\n",
              "    </tr>\n",
              "  </tbody>\n",
              "</table>\n",
              "</div>"
            ],
            "text/plain": [
              "               TOT_SALES\n",
              "BRAND                   \n",
              "Kettle          390239.8\n",
              "Doritos         226329.9\n",
              "Smiths          217492.0\n",
              "Pringles        177655.5\n",
              "Infuzions        99047.6\n",
              "Thins            88852.5\n",
              "Red Rock Deli    87607.5\n",
              "Twisties         81522.1\n",
              "Tostitos         79789.6\n",
              "Cobs             70569.8\n",
              "Tyrrells         51647.4\n",
              "Grainwaves       51617.2\n",
              "Natural          42318.0\n",
              "Woolworths       41059.1\n",
              "Cheezels         40029.9\n",
              "CCS              18078.9\n",
              "Cheetos          16884.5\n",
              "Sunbites          9676.4\n",
              "French            7929.0\n",
              "Burger            6831.0"
            ]
          },
          "metadata": {
            "tags": []
          },
          "execution_count": 42
        }
      ]
    },
    {
      "cell_type": "code",
      "metadata": {
        "id": "yQXXF8v2E17e",
        "colab_type": "code",
        "colab": {}
      },
      "source": [
        "n=pd.pivot_table(transactiondata, values = 'TOT_SALES', index = 'BRAND', aggfunc = 'sum')\n",
        "n=n.sort_values(by=['TOT_SALES'],ascending=False).head(10)\n"
      ],
      "execution_count": null,
      "outputs": []
    },
    {
      "cell_type": "code",
      "metadata": {
        "id": "O3EnQqN9H9dF",
        "colab_type": "code",
        "colab": {
          "base_uri": "https://localhost:8080/",
          "height": 348
        },
        "outputId": "fa4d36d3-3e4b-4173-d7c1-47967bba5e0e"
      },
      "source": [
        "n.reset_index(inplace=True)\n",
        "n"
      ],
      "execution_count": null,
      "outputs": [
        {
          "output_type": "execute_result",
          "data": {
            "text/html": [
              "<div>\n",
              "<style scoped>\n",
              "    .dataframe tbody tr th:only-of-type {\n",
              "        vertical-align: middle;\n",
              "    }\n",
              "\n",
              "    .dataframe tbody tr th {\n",
              "        vertical-align: top;\n",
              "    }\n",
              "\n",
              "    .dataframe thead th {\n",
              "        text-align: right;\n",
              "    }\n",
              "</style>\n",
              "<table border=\"1\" class=\"dataframe\">\n",
              "  <thead>\n",
              "    <tr style=\"text-align: right;\">\n",
              "      <th></th>\n",
              "      <th>BRAND</th>\n",
              "      <th>TOT_SALES</th>\n",
              "    </tr>\n",
              "  </thead>\n",
              "  <tbody>\n",
              "    <tr>\n",
              "      <th>0</th>\n",
              "      <td>Kettle</td>\n",
              "      <td>390239.8</td>\n",
              "    </tr>\n",
              "    <tr>\n",
              "      <th>1</th>\n",
              "      <td>Doritos</td>\n",
              "      <td>226329.9</td>\n",
              "    </tr>\n",
              "    <tr>\n",
              "      <th>2</th>\n",
              "      <td>Smiths</td>\n",
              "      <td>217492.0</td>\n",
              "    </tr>\n",
              "    <tr>\n",
              "      <th>3</th>\n",
              "      <td>Pringles</td>\n",
              "      <td>177655.5</td>\n",
              "    </tr>\n",
              "    <tr>\n",
              "      <th>4</th>\n",
              "      <td>Infuzions</td>\n",
              "      <td>99047.6</td>\n",
              "    </tr>\n",
              "    <tr>\n",
              "      <th>5</th>\n",
              "      <td>Thins</td>\n",
              "      <td>88852.5</td>\n",
              "    </tr>\n",
              "    <tr>\n",
              "      <th>6</th>\n",
              "      <td>Red Rock Deli</td>\n",
              "      <td>87607.5</td>\n",
              "    </tr>\n",
              "    <tr>\n",
              "      <th>7</th>\n",
              "      <td>Twisties</td>\n",
              "      <td>81522.1</td>\n",
              "    </tr>\n",
              "    <tr>\n",
              "      <th>8</th>\n",
              "      <td>Tostitos</td>\n",
              "      <td>79789.6</td>\n",
              "    </tr>\n",
              "    <tr>\n",
              "      <th>9</th>\n",
              "      <td>Cobs</td>\n",
              "      <td>70569.8</td>\n",
              "    </tr>\n",
              "  </tbody>\n",
              "</table>\n",
              "</div>"
            ],
            "text/plain": [
              "           BRAND  TOT_SALES\n",
              "0         Kettle   390239.8\n",
              "1        Doritos   226329.9\n",
              "2         Smiths   217492.0\n",
              "3       Pringles   177655.5\n",
              "4      Infuzions    99047.6\n",
              "5          Thins    88852.5\n",
              "6  Red Rock Deli    87607.5\n",
              "7       Twisties    81522.1\n",
              "8       Tostitos    79789.6\n",
              "9           Cobs    70569.8"
            ]
          },
          "metadata": {
            "tags": []
          },
          "execution_count": 44
        }
      ]
    },
    {
      "cell_type": "code",
      "metadata": {
        "id": "4UcXUxfVGgAR",
        "colab_type": "code",
        "colab": {
          "base_uri": "https://localhost:8080/",
          "height": 35
        },
        "outputId": "78e47776-33df-44bf-e7c7-2b635b605654"
      },
      "source": [
        "n.columns"
      ],
      "execution_count": null,
      "outputs": [
        {
          "output_type": "execute_result",
          "data": {
            "text/plain": [
              "Index(['BRAND', 'TOT_SALES'], dtype='object')"
            ]
          },
          "metadata": {
            "tags": []
          },
          "execution_count": 131
        }
      ]
    },
    {
      "cell_type": "code",
      "metadata": {
        "id": "cd_09wgwGGnk",
        "colab_type": "code",
        "colab": {
          "base_uri": "https://localhost:8080/",
          "height": 352
        },
        "outputId": "d791a459-5598-4297-f1e8-8efa6a825a8b"
      },
      "source": [
        "plt.figure(figsize = (15,5))\n",
        "sns.barplot(x = 'BRAND', y ='TOT_SALES', data = n)\n",
        "##the kettle brand has more sales"
      ],
      "execution_count": null,
      "outputs": [
        {
          "output_type": "execute_result",
          "data": {
            "text/plain": [
              "<matplotlib.axes._subplots.AxesSubplot at 0x7f7a76ddce10>"
            ]
          },
          "metadata": {
            "tags": []
          },
          "execution_count": 45
        },
        {
          "output_type": "display_data",
          "data": {
            "image/png": "[encoded data removed]",
            "text/plain": [
              "<Figure size 1080x360 with 1 Axes>"
            ]
          },
          "metadata": {
            "tags": [],
            "needs_background": "light"
          }
        }
      ]
    },
    {
      "cell_type": "code",
      "metadata": {
        "id": "stXRRnmoLnlh",
        "colab_type": "code",
        "colab": {
          "base_uri": "https://localhost:8080/",
          "height": 181
        },
        "outputId": "0b069b70-42d0-4947-a649-44cadca36e67"
      },
      "source": [
        "transactiondata['PROD_NBR'].unique()"
      ],
      "execution_count": null,
      "outputs": [
        {
          "output_type": "execute_result",
          "data": {
            "text/plain": [
              "array([  5,  66,  61,  69, 108,  16,  24,  42,  52, 114,  15,  92,  44,\n",
              "        54,  94,  98,  93,  56,   7,  31,  32, 111,  46,  13,  99,  26,\n",
              "        22,  48,  37,  36,  51, 107, 106,   4, 113,  45, 102, 104,   3,\n",
              "        82,  88,  40,  73,  87,  84,  70,  89,  63,  25,  47,  71,  33,\n",
              "        12,   8,  75, 100,  29,  30,  81,  67, 110,  28,   2,  14,  77,\n",
              "        17,  83,  68,  96,  79,  23,  50,  78,   1,  86,  53,  72,  74,\n",
              "         9,  91, 105,  90, 109,  27,  62, 112,  55,  18,  34,  49,  60,\n",
              "        38, 103,  85,  95,  97,  20,  19,  21,   6,  80,  58,  10,  11,\n",
              "        43])"
            ]
          },
          "metadata": {
            "tags": []
          },
          "execution_count": 46
        }
      ]
    },
    {
      "cell_type": "code",
      "metadata": {
        "id": "lc4qhls23G54",
        "colab_type": "code",
        "colab": {}
      },
      "source": [
        "##lets look for prod_nbr and prod quantity\n",
        "m=pd.pivot_table(transactiondata, values = 'PROD_QTY', index = 'PROD_NBR', aggfunc = 'sum')\n",
        "m=m.sort_values(by=['PROD_QTY'],ascending=False).head(10)\n",
        "\n"
      ],
      "execution_count": null,
      "outputs": []
    },
    {
      "cell_type": "code",
      "metadata": {
        "id": "23M_wj3S37YT",
        "colab_type": "code",
        "colab": {
          "base_uri": "https://localhost:8080/",
          "height": 348
        },
        "outputId": "d45280b5-191c-4b44-ae78-95506f60e30d"
      },
      "source": [
        "m.reset_index(inplace=True)\n",
        "m"
      ],
      "execution_count": null,
      "outputs": [
        {
          "output_type": "execute_result",
          "data": {
            "text/html": [
              "<div>\n",
              "<style scoped>\n",
              "    .dataframe tbody tr th:only-of-type {\n",
              "        vertical-align: middle;\n",
              "    }\n",
              "\n",
              "    .dataframe tbody tr th {\n",
              "        vertical-align: top;\n",
              "    }\n",
              "\n",
              "    .dataframe thead th {\n",
              "        text-align: right;\n",
              "    }\n",
              "</style>\n",
              "<table border=\"1\" class=\"dataframe\">\n",
              "  <thead>\n",
              "    <tr style=\"text-align: right;\">\n",
              "      <th></th>\n",
              "      <th>PROD_NBR</th>\n",
              "      <th>PROD_QTY</th>\n",
              "    </tr>\n",
              "  </thead>\n",
              "  <tbody>\n",
              "    <tr>\n",
              "      <th>0</th>\n",
              "      <td>102</td>\n",
              "      <td>6381</td>\n",
              "    </tr>\n",
              "    <tr>\n",
              "      <th>1</th>\n",
              "      <td>108</td>\n",
              "      <td>6309</td>\n",
              "    </tr>\n",
              "    <tr>\n",
              "      <th>2</th>\n",
              "      <td>75</td>\n",
              "      <td>6277</td>\n",
              "    </tr>\n",
              "    <tr>\n",
              "      <th>3</th>\n",
              "      <td>33</td>\n",
              "      <td>6256</td>\n",
              "    </tr>\n",
              "    <tr>\n",
              "      <th>4</th>\n",
              "      <td>74</td>\n",
              "      <td>6234</td>\n",
              "    </tr>\n",
              "    <tr>\n",
              "      <th>5</th>\n",
              "      <td>112</td>\n",
              "      <td>6227</td>\n",
              "    </tr>\n",
              "    <tr>\n",
              "      <th>6</th>\n",
              "      <td>63</td>\n",
              "      <td>6212</td>\n",
              "    </tr>\n",
              "    <tr>\n",
              "      <th>7</th>\n",
              "      <td>104</td>\n",
              "      <td>6206</td>\n",
              "    </tr>\n",
              "    <tr>\n",
              "      <th>8</th>\n",
              "      <td>28</td>\n",
              "      <td>6185</td>\n",
              "    </tr>\n",
              "    <tr>\n",
              "      <th>9</th>\n",
              "      <td>30</td>\n",
              "      <td>6180</td>\n",
              "    </tr>\n",
              "  </tbody>\n",
              "</table>\n",
              "</div>"
            ],
            "text/plain": [
              "   PROD_NBR  PROD_QTY\n",
              "0       102      6381\n",
              "1       108      6309\n",
              "2        75      6277\n",
              "3        33      6256\n",
              "4        74      6234\n",
              "5       112      6227\n",
              "6        63      6212\n",
              "7       104      6206\n",
              "8        28      6185\n",
              "9        30      6180"
            ]
          },
          "metadata": {
            "tags": []
          },
          "execution_count": 87
        }
      ]
    },
    {
      "cell_type": "code",
      "metadata": {
        "id": "Z3DuyqfC4PiF",
        "colab_type": "code",
        "colab": {
          "base_uri": "https://localhost:8080/",
          "height": 353
        },
        "outputId": "9ddbc2eb-8ce0-49cc-b6ec-80f16c49356e"
      },
      "source": [
        "plt.figure(figsize = (15,5))\n",
        "sns.barplot(x = 'PROD_NBR', y ='PROD_QTY', data = m)\n",
        "##the kettle brand has more sales"
      ],
      "execution_count": null,
      "outputs": [
        {
          "output_type": "execute_result",
          "data": {
            "text/plain": [
              "<matplotlib.axes._subplots.AxesSubplot at 0x7f7a77749080>"
            ]
          },
          "metadata": {
            "tags": []
          },
          "execution_count": 52
        },
        {
          "output_type": "display_data",
          "data": {
            "image/png": "[encoded data removed]",
            "text/plain": [
              "<Figure size 1080x360 with 1 Axes>"
            ]
          },
          "metadata": {
            "tags": [],
            "needs_background": "light"
          }
        }
      ]
    },
    {
      "cell_type": "code",
      "metadata": {
        "id": "ULjIUH0oM3ym",
        "colab_type": "code",
        "colab": {
          "base_uri": "https://localhost:8080/",
          "height": 235
        },
        "outputId": "2a6e0150-3dd9-4869-9f94-9ffd7a62daad"
      },
      "source": [
        "transactiondata['PROD_NBR'].value_counts()\n",
        "##the product with prod_number 102 is more sold"
      ],
      "execution_count": null,
      "outputs": [
        {
          "output_type": "execute_result",
          "data": {
            "text/plain": [
              "102    3304\n",
              "108    3296\n",
              "33     3269\n",
              "112    3268\n",
              "75     3265\n",
              "       ... \n",
              "95     1432\n",
              "11     1431\n",
              "98     1419\n",
              "29     1418\n",
              "72     1410\n",
              "Name: PROD_NBR, Length: 105, dtype: int64"
            ]
          },
          "metadata": {
            "tags": []
          },
          "execution_count": 137
        }
      ]
    },
    {
      "cell_type": "code",
      "metadata": {
        "id": "NQYDxKaWNMOA",
        "colab_type": "code",
        "colab": {
          "base_uri": "https://localhost:8080/",
          "height": 407
        },
        "outputId": "bd56279a-bf92-4612-bb67-e309e83b24a9"
      },
      "source": [
        "transactiondata[transactiondata['PROD_NBR']==102]\n",
        "##the product more soled is kettele mozzarella basil pesto"
      ],
      "execution_count": null,
      "outputs": [
        {
          "output_type": "execute_result",
          "data": {
            "text/html": [
              "<div>\n",
              "<style scoped>\n",
              "    .dataframe tbody tr th:only-of-type {\n",
              "        vertical-align: middle;\n",
              "    }\n",
              "\n",
              "    .dataframe tbody tr th {\n",
              "        vertical-align: top;\n",
              "    }\n",
              "\n",
              "    .dataframe thead th {\n",
              "        text-align: right;\n",
              "    }\n",
              "</style>\n",
              "<table border=\"1\" class=\"dataframe\">\n",
              "  <thead>\n",
              "    <tr style=\"text-align: right;\">\n",
              "      <th></th>\n",
              "      <th>DATE</th>\n",
              "      <th>STORE_NBR</th>\n",
              "      <th>LYLTY_CARD_NBR</th>\n",
              "      <th>TXN_ID</th>\n",
              "      <th>PROD_NBR</th>\n",
              "      <th>PROD_NAME</th>\n",
              "      <th>PROD_QTY</th>\n",
              "      <th>TOT_SALES</th>\n",
              "      <th>PACK_SIZE</th>\n",
              "      <th>BRAND</th>\n",
              "    </tr>\n",
              "  </thead>\n",
              "  <tbody>\n",
              "    <tr>\n",
              "      <th>45</th>\n",
              "      <td>2019-05-16</td>\n",
              "      <td>58</td>\n",
              "      <td>58324</td>\n",
              "      <td>54252</td>\n",
              "      <td>102</td>\n",
              "      <td>Kettle Mozzarella   Basil   Pesto</td>\n",
              "      <td>1</td>\n",
              "      <td>5.4</td>\n",
              "      <td>175</td>\n",
              "      <td>Kettle</td>\n",
              "    </tr>\n",
              "    <tr>\n",
              "      <th>247</th>\n",
              "      <td>2019-04-23</td>\n",
              "      <td>3</td>\n",
              "      <td>3326</td>\n",
              "      <td>2482</td>\n",
              "      <td>102</td>\n",
              "      <td>Kettle Mozzarella   Basil   Pesto</td>\n",
              "      <td>2</td>\n",
              "      <td>10.8</td>\n",
              "      <td>175</td>\n",
              "      <td>Kettle</td>\n",
              "    </tr>\n",
              "    <tr>\n",
              "      <th>248</th>\n",
              "      <td>2019-04-29</td>\n",
              "      <td>3</td>\n",
              "      <td>3326</td>\n",
              "      <td>2483</td>\n",
              "      <td>102</td>\n",
              "      <td>Kettle Mozzarella   Basil   Pesto</td>\n",
              "      <td>2</td>\n",
              "      <td>10.8</td>\n",
              "      <td>175</td>\n",
              "      <td>Kettle</td>\n",
              "    </tr>\n",
              "    <tr>\n",
              "      <th>356</th>\n",
              "      <td>2018-07-27</td>\n",
              "      <td>7</td>\n",
              "      <td>7133</td>\n",
              "      <td>6813</td>\n",
              "      <td>102</td>\n",
              "      <td>Kettle Mozzarella   Basil   Pesto</td>\n",
              "      <td>2</td>\n",
              "      <td>10.8</td>\n",
              "      <td>175</td>\n",
              "      <td>Kettle</td>\n",
              "    </tr>\n",
              "    <tr>\n",
              "      <th>573</th>\n",
              "      <td>2019-04-07</td>\n",
              "      <td>24</td>\n",
              "      <td>24032</td>\n",
              "      <td>20456</td>\n",
              "      <td>102</td>\n",
              "      <td>Kettle Mozzarella   Basil   Pesto</td>\n",
              "      <td>2</td>\n",
              "      <td>10.8</td>\n",
              "      <td>175</td>\n",
              "      <td>Kettle</td>\n",
              "    </tr>\n",
              "    <tr>\n",
              "      <th>...</th>\n",
              "      <td>...</td>\n",
              "      <td>...</td>\n",
              "      <td>...</td>\n",
              "      <td>...</td>\n",
              "      <td>...</td>\n",
              "      <td>...</td>\n",
              "      <td>...</td>\n",
              "      <td>...</td>\n",
              "      <td>...</td>\n",
              "      <td>...</td>\n",
              "    </tr>\n",
              "    <tr>\n",
              "      <th>264227</th>\n",
              "      <td>2019-03-16</td>\n",
              "      <td>246</td>\n",
              "      <td>246125</td>\n",
              "      <td>248123</td>\n",
              "      <td>102</td>\n",
              "      <td>Kettle Mozzarella   Basil   Pesto</td>\n",
              "      <td>2</td>\n",
              "      <td>10.8</td>\n",
              "      <td>175</td>\n",
              "      <td>Kettle</td>\n",
              "    </tr>\n",
              "    <tr>\n",
              "      <th>264411</th>\n",
              "      <td>2018-08-22</td>\n",
              "      <td>251</td>\n",
              "      <td>251312</td>\n",
              "      <td>253427</td>\n",
              "      <td>102</td>\n",
              "      <td>Kettle Mozzarella   Basil   Pesto</td>\n",
              "      <td>2</td>\n",
              "      <td>10.8</td>\n",
              "      <td>175</td>\n",
              "      <td>Kettle</td>\n",
              "    </tr>\n",
              "    <tr>\n",
              "      <th>264533</th>\n",
              "      <td>2018-08-12</td>\n",
              "      <td>259</td>\n",
              "      <td>259056</td>\n",
              "      <td>257774</td>\n",
              "      <td>102</td>\n",
              "      <td>Kettle Mozzarella   Basil   Pesto</td>\n",
              "      <td>2</td>\n",
              "      <td>10.8</td>\n",
              "      <td>175</td>\n",
              "      <td>Kettle</td>\n",
              "    </tr>\n",
              "    <tr>\n",
              "      <th>264648</th>\n",
              "      <td>2018-12-16</td>\n",
              "      <td>264</td>\n",
              "      <td>264374</td>\n",
              "      <td>263163</td>\n",
              "      <td>102</td>\n",
              "      <td>Kettle Mozzarella   Basil   Pesto</td>\n",
              "      <td>2</td>\n",
              "      <td>10.8</td>\n",
              "      <td>175</td>\n",
              "      <td>Kettle</td>\n",
              "    </tr>\n",
              "    <tr>\n",
              "      <th>264748</th>\n",
              "      <td>2018-07-03</td>\n",
              "      <td>268</td>\n",
              "      <td>268228</td>\n",
              "      <td>264647</td>\n",
              "      <td>102</td>\n",
              "      <td>Kettle Mozzarella   Basil   Pesto</td>\n",
              "      <td>1</td>\n",
              "      <td>5.4</td>\n",
              "      <td>175</td>\n",
              "      <td>Kettle</td>\n",
              "    </tr>\n",
              "  </tbody>\n",
              "</table>\n",
              "<p>3304 rows × 10 columns</p>\n",
              "</div>"
            ],
            "text/plain": [
              "             DATE  STORE_NBR  LYLTY_CARD_NBR  ...  TOT_SALES  PACK_SIZE   BRAND\n",
              "45     2019-05-16         58           58324  ...        5.4        175  Kettle\n",
              "247    2019-04-23          3            3326  ...       10.8        175  Kettle\n",
              "248    2019-04-29          3            3326  ...       10.8        175  Kettle\n",
              "356    2018-07-27          7            7133  ...       10.8        175  Kettle\n",
              "573    2019-04-07         24           24032  ...       10.8        175  Kettle\n",
              "...           ...        ...             ...  ...        ...        ...     ...\n",
              "264227 2019-03-16        246          246125  ...       10.8        175  Kettle\n",
              "264411 2018-08-22        251          251312  ...       10.8        175  Kettle\n",
              "264533 2018-08-12        259          259056  ...       10.8        175  Kettle\n",
              "264648 2018-12-16        264          264374  ...       10.8        175  Kettle\n",
              "264748 2018-07-03        268          268228  ...        5.4        175  Kettle\n",
              "\n",
              "[3304 rows x 10 columns]"
            ]
          },
          "metadata": {
            "tags": []
          },
          "execution_count": 53
        }
      ]
    },
    {
      "cell_type": "code",
      "metadata": {
        "id": "ca8mEQkIOg0L",
        "colab_type": "code",
        "colab": {
          "base_uri": "https://localhost:8080/",
          "height": 235
        },
        "outputId": "962b0ad4-f460-44bd-9b98-414c6a5cc515"
      },
      "source": [
        "transactiondata['PROD_NAME'].value_counts()"
      ],
      "execution_count": null,
      "outputs": [
        {
          "output_type": "execute_result",
          "data": {
            "text/plain": [
              "[Kettle Mozzarella   Basil   Pesto         3304\n",
              " Kettle Tortilla Chpshny Jlpno Chili       3296\n",
              " Cobs Popd Swt Chlli  Sr Cream Chips       3269\n",
              " Tyrrells Crisps     Ched   Chives         3268\n",
              " Cobs Popd Sea Salt  Chips                 3265\n",
              "                                           ... \n",
              " Sunbites Whlegrn    Crisps Frch Onin      1432\n",
              " Rrd Pc Sea Salt                           1431\n",
              " Ncc Sour Cream      Garden Chives         1419\n",
              " French Fries Potato Chips                 1418\n",
              " Ww Crinkle Cut      Original              1410\n",
              " Name: PROD_NAME, Length: 105, dtype: int64]"
            ]
          },
          "metadata": {
            "tags": []
          },
          "execution_count": 141
        }
      ]
    },
    {
      "cell_type": "code",
      "metadata": {
        "id": "ZF-IXdviPleX",
        "colab_type": "code",
        "colab": {
          "base_uri": "https://localhost:8080/",
          "height": 198
        },
        "outputId": "70ee40c0-6b50-497d-d870-7d7e36ea98d2"
      },
      "source": [
        "transactiondata.head()"
      ],
      "execution_count": null,
      "outputs": [
        {
          "output_type": "execute_result",
          "data": {
            "text/html": [
              "<div>\n",
              "<style scoped>\n",
              "    .dataframe tbody tr th:only-of-type {\n",
              "        vertical-align: middle;\n",
              "    }\n",
              "\n",
              "    .dataframe tbody tr th {\n",
              "        vertical-align: top;\n",
              "    }\n",
              "\n",
              "    .dataframe thead th {\n",
              "        text-align: right;\n",
              "    }\n",
              "</style>\n",
              "<table border=\"1\" class=\"dataframe\">\n",
              "  <thead>\n",
              "    <tr style=\"text-align: right;\">\n",
              "      <th></th>\n",
              "      <th>DATE</th>\n",
              "      <th>STORE_NBR</th>\n",
              "      <th>LYLTY_CARD_NBR</th>\n",
              "      <th>TXN_ID</th>\n",
              "      <th>PROD_NBR</th>\n",
              "      <th>PROD_NAME</th>\n",
              "      <th>PROD_QTY</th>\n",
              "      <th>TOT_SALES</th>\n",
              "      <th>PACK_SIZE</th>\n",
              "      <th>BRAND</th>\n",
              "    </tr>\n",
              "  </thead>\n",
              "  <tbody>\n",
              "    <tr>\n",
              "      <th>0</th>\n",
              "      <td>2018-10-17</td>\n",
              "      <td>1</td>\n",
              "      <td>1000</td>\n",
              "      <td>1</td>\n",
              "      <td>5</td>\n",
              "      <td>Natural Chip        Compny Seasalt</td>\n",
              "      <td>2</td>\n",
              "      <td>6.0</td>\n",
              "      <td>175</td>\n",
              "      <td>Natural</td>\n",
              "    </tr>\n",
              "    <tr>\n",
              "      <th>1</th>\n",
              "      <td>2019-05-14</td>\n",
              "      <td>1</td>\n",
              "      <td>1307</td>\n",
              "      <td>348</td>\n",
              "      <td>66</td>\n",
              "      <td>Ccs Nacho Cheese</td>\n",
              "      <td>3</td>\n",
              "      <td>6.3</td>\n",
              "      <td>175</td>\n",
              "      <td>CCS</td>\n",
              "    </tr>\n",
              "    <tr>\n",
              "      <th>2</th>\n",
              "      <td>2019-05-20</td>\n",
              "      <td>1</td>\n",
              "      <td>1343</td>\n",
              "      <td>383</td>\n",
              "      <td>61</td>\n",
              "      <td>Smiths Crinkle Cut  Chips Chicken</td>\n",
              "      <td>2</td>\n",
              "      <td>2.9</td>\n",
              "      <td>170</td>\n",
              "      <td>Smiths</td>\n",
              "    </tr>\n",
              "    <tr>\n",
              "      <th>3</th>\n",
              "      <td>2018-08-17</td>\n",
              "      <td>2</td>\n",
              "      <td>2373</td>\n",
              "      <td>974</td>\n",
              "      <td>69</td>\n",
              "      <td>Smiths Chip Thinly  S Cream Onion</td>\n",
              "      <td>5</td>\n",
              "      <td>15.0</td>\n",
              "      <td>175</td>\n",
              "      <td>Smiths</td>\n",
              "    </tr>\n",
              "    <tr>\n",
              "      <th>4</th>\n",
              "      <td>2018-08-18</td>\n",
              "      <td>2</td>\n",
              "      <td>2426</td>\n",
              "      <td>1038</td>\n",
              "      <td>108</td>\n",
              "      <td>Kettle Tortilla Chpshny Jlpno Chili</td>\n",
              "      <td>3</td>\n",
              "      <td>13.8</td>\n",
              "      <td>150</td>\n",
              "      <td>Kettle</td>\n",
              "    </tr>\n",
              "  </tbody>\n",
              "</table>\n",
              "</div>"
            ],
            "text/plain": [
              "        DATE  STORE_NBR  LYLTY_CARD_NBR  ...  TOT_SALES  PACK_SIZE    BRAND\n",
              "0 2018-10-17          1            1000  ...        6.0        175  Natural\n",
              "1 2019-05-14          1            1307  ...        6.3        175      CCS\n",
              "2 2019-05-20          1            1343  ...        2.9        170   Smiths\n",
              "3 2018-08-17          2            2373  ...       15.0        175   Smiths\n",
              "4 2018-08-18          2            2426  ...       13.8        150   Kettle\n",
              "\n",
              "[5 rows x 10 columns]"
            ]
          },
          "metadata": {
            "tags": []
          },
          "execution_count": 148
        }
      ]
    },
    {
      "cell_type": "markdown",
      "metadata": {
        "id": "mrNHJTLxSNuq",
        "colab_type": "text"
      },
      "source": [
        "# coustmerdata"
      ]
    },
    {
      "cell_type": "code",
      "metadata": {
        "id": "nY7WgCDASSss",
        "colab_type": "code",
        "colab": {
          "base_uri": "https://localhost:8080/",
          "height": 198
        },
        "outputId": "1003fe64-36e2-4356-daee-1fd82e884647"
      },
      "source": [
        "customerdata.head()"
      ],
      "execution_count": null,
      "outputs": [
        {
          "output_type": "execute_result",
          "data": {
            "text/html": [
              "<div>\n",
              "<style scoped>\n",
              "    .dataframe tbody tr th:only-of-type {\n",
              "        vertical-align: middle;\n",
              "    }\n",
              "\n",
              "    .dataframe tbody tr th {\n",
              "        vertical-align: top;\n",
              "    }\n",
              "\n",
              "    .dataframe thead th {\n",
              "        text-align: right;\n",
              "    }\n",
              "</style>\n",
              "<table border=\"1\" class=\"dataframe\">\n",
              "  <thead>\n",
              "    <tr style=\"text-align: right;\">\n",
              "      <th></th>\n",
              "      <th>LYLTY_CARD_NBR</th>\n",
              "      <th>LIFESTAGE</th>\n",
              "      <th>PREMIUM_CUSTOMER</th>\n",
              "    </tr>\n",
              "  </thead>\n",
              "  <tbody>\n",
              "    <tr>\n",
              "      <th>0</th>\n",
              "      <td>1000</td>\n",
              "      <td>YOUNG SINGLES/COUPLES</td>\n",
              "      <td>Premium</td>\n",
              "    </tr>\n",
              "    <tr>\n",
              "      <th>1</th>\n",
              "      <td>1002</td>\n",
              "      <td>YOUNG SINGLES/COUPLES</td>\n",
              "      <td>Mainstream</td>\n",
              "    </tr>\n",
              "    <tr>\n",
              "      <th>2</th>\n",
              "      <td>1003</td>\n",
              "      <td>YOUNG FAMILIES</td>\n",
              "      <td>Budget</td>\n",
              "    </tr>\n",
              "    <tr>\n",
              "      <th>3</th>\n",
              "      <td>1004</td>\n",
              "      <td>OLDER SINGLES/COUPLES</td>\n",
              "      <td>Mainstream</td>\n",
              "    </tr>\n",
              "    <tr>\n",
              "      <th>4</th>\n",
              "      <td>1005</td>\n",
              "      <td>MIDAGE SINGLES/COUPLES</td>\n",
              "      <td>Mainstream</td>\n",
              "    </tr>\n",
              "  </tbody>\n",
              "</table>\n",
              "</div>"
            ],
            "text/plain": [
              "   LYLTY_CARD_NBR               LIFESTAGE PREMIUM_CUSTOMER\n",
              "0            1000   YOUNG SINGLES/COUPLES          Premium\n",
              "1            1002   YOUNG SINGLES/COUPLES       Mainstream\n",
              "2            1003          YOUNG FAMILIES           Budget\n",
              "3            1004   OLDER SINGLES/COUPLES       Mainstream\n",
              "4            1005  MIDAGE SINGLES/COUPLES       Mainstream"
            ]
          },
          "metadata": {
            "tags": []
          },
          "execution_count": 161
        }
      ]
    },
    {
      "cell_type": "code",
      "metadata": {
        "id": "EQOH7F89S1b3",
        "colab_type": "code",
        "colab": {
          "base_uri": "https://localhost:8080/",
          "height": 285
        },
        "outputId": "db58b5aa-2efa-4924-ec96-6339fd457d53"
      },
      "source": [
        "sns.heatmap(customerdata.isnull(),yticklabels=False,cbar=False,cmap='viridis')\n",
        "##there are no missing values in the dataset"
      ],
      "execution_count": null,
      "outputs": [
        {
          "output_type": "execute_result",
          "data": {
            "text/plain": [
              "<matplotlib.axes._subplots.AxesSubplot at 0x7f4eacc444a8>"
            ]
          },
          "metadata": {
            "tags": []
          },
          "execution_count": 166
        },
        {
          "output_type": "display_data",
          "data": {
            "image/png": "[encoded data removed]",
            "text/plain": [
              "<Figure size 432x288 with 1 Axes>"
            ]
          },
          "metadata": {
            "tags": [],
            "needs_background": "light"
          }
        }
      ]
    },
    {
      "cell_type": "code",
      "metadata": {
        "id": "pFwmKO34TAH8",
        "colab_type": "code",
        "colab": {
          "base_uri": "https://localhost:8080/",
          "height": 35
        },
        "outputId": "feefa1f5-4283-4fb1-cc4b-5767a296b607"
      },
      "source": [
        "len(customerdata)"
      ],
      "execution_count": null,
      "outputs": [
        {
          "output_type": "execute_result",
          "data": {
            "text/plain": [
              "72636"
            ]
          },
          "metadata": {
            "tags": []
          },
          "execution_count": 170
        }
      ]
    },
    {
      "cell_type": "code",
      "metadata": {
        "id": "-dGYpWT1Tw1c",
        "colab_type": "code",
        "colab": {
          "base_uri": "https://localhost:8080/",
          "height": 72
        },
        "outputId": "b71f4dd2-5d34-4dff-bcb3-71b75843595a"
      },
      "source": [
        "# Let's see what those lifestages are\n",
        "\n",
        "customerdata['LIFESTAGE'].unique()"
      ],
      "execution_count": null,
      "outputs": [
        {
          "output_type": "execute_result",
          "data": {
            "text/plain": [
              "array(['YOUNG SINGLES/COUPLES', 'YOUNG FAMILIES', 'OLDER SINGLES/COUPLES',\n",
              "       'MIDAGE SINGLES/COUPLES', 'NEW FAMILIES', 'OLDER FAMILIES',\n",
              "       'RETIREES'], dtype=object)"
            ]
          },
          "metadata": {
            "tags": []
          },
          "execution_count": 171
        }
      ]
    },
    {
      "cell_type": "code",
      "metadata": {
        "id": "QlJTpoVTUVT0",
        "colab_type": "code",
        "colab": {
          "base_uri": "https://localhost:8080/",
          "height": 163
        },
        "outputId": "d63257f3-deff-41e2-e787-543d7148263a"
      },
      "source": [
        "# Counts for each lifestages\n",
        "\n",
        "customerdata['LIFESTAGE'].value_counts().sort_values(ascending = False)"
      ],
      "execution_count": null,
      "outputs": [
        {
          "output_type": "execute_result",
          "data": {
            "text/plain": [
              "RETIREES                  14805\n",
              "OLDER SINGLES/COUPLES     14609\n",
              "YOUNG SINGLES/COUPLES     14441\n",
              "OLDER FAMILIES             9779\n",
              "YOUNG FAMILIES             9178\n",
              "MIDAGE SINGLES/COUPLES     7275\n",
              "NEW FAMILIES               2549\n",
              "Name: LIFESTAGE, dtype: int64"
            ]
          },
          "metadata": {
            "tags": []
          },
          "execution_count": 172
        }
      ]
    },
    {
      "cell_type": "code",
      "metadata": {
        "id": "CoXX50eyUbhI",
        "colab_type": "code",
        "colab": {
          "base_uri": "https://localhost:8080/",
          "height": 297
        },
        "outputId": "ae189180-f880-4824-9d9e-f71f9b375a87"
      },
      "source": [
        "sns.countplot(y = customerdata['LIFESTAGE'], order = customerdata['LIFESTAGE'].value_counts().index)\n",
        "##in coustmer data retirees are more "
      ],
      "execution_count": null,
      "outputs": [
        {
          "output_type": "execute_result",
          "data": {
            "text/plain": [
              "<matplotlib.axes._subplots.AxesSubplot at 0x7f4eacd8b9e8>"
            ]
          },
          "metadata": {
            "tags": []
          },
          "execution_count": 174
        },
        {
          "output_type": "display_data",
          "data": {
            "image/png": "[encoded data removed]",
            "text/plain": [
              "<Figure size 432x288 with 1 Axes>"
            ]
          },
          "metadata": {
            "tags": [],
            "needs_background": "light"
          }
        }
      ]
    },
    {
      "cell_type": "code",
      "metadata": {
        "id": "mRqIo0d6E1T5",
        "colab_type": "code",
        "colab": {
          "base_uri": "https://localhost:8080/",
          "height": 90
        },
        "outputId": "673e3ebc-530e-4084-f4a3-5b9bd8dc4dc6"
      },
      "source": [
        "# Counts for each 'PREMIUM_CUSTOMER'\n",
        "\n",
        "customerdata['PREMIUM_CUSTOMER'].value_counts().sort_values(ascending = False)\n",
        "\n",
        "# Comment: Mainstream has the highest count, followed by budget and finally premium"
      ],
      "execution_count": null,
      "outputs": [
        {
          "output_type": "execute_result",
          "data": {
            "text/plain": [
              "Mainstream    29245\n",
              "Budget        24470\n",
              "Premium       18922\n",
              "Name: PREMIUM_CUSTOMER, dtype: int64"
            ]
          },
          "metadata": {
            "tags": []
          },
          "execution_count": 36
        }
      ]
    },
    {
      "cell_type": "code",
      "metadata": {
        "id": "M1ZkVvBRFH80",
        "colab_type": "code",
        "colab": {
          "base_uri": "https://localhost:8080/",
          "height": 297
        },
        "outputId": "10b00187-8efa-48b7-901a-11967a04d45c"
      },
      "source": [
        "# Visualise 'PREMIUM_CUSTOMER'\n",
        "\n",
        "sns.countplot(y = customerdata['PREMIUM_CUSTOMER'])"
      ],
      "execution_count": null,
      "outputs": [
        {
          "output_type": "execute_result",
          "data": {
            "text/plain": [
              "<matplotlib.axes._subplots.AxesSubplot at 0x7f9a6259d1d0>"
            ]
          },
          "metadata": {
            "tags": []
          },
          "execution_count": 37
        },
        {
          "output_type": "display_data",
          "data": {
            "image/png": "[encoded data removed]",
            "text/plain": [
              "<Figure size 432x288 with 1 Axes>"
            ]
          },
          "metadata": {
            "tags": [],
            "needs_background": "light"
          }
        }
      ]
    },
    {
      "cell_type": "code",
      "metadata": {
        "id": "sl3i1dxbFZMp",
        "colab_type": "code",
        "colab": {}
      },
      "source": [
        "##lets combine both dataset\n",
        "newdata=pd.merge(transactiondata, customerdata)"
      ],
      "execution_count": null,
      "outputs": []
    },
    {
      "cell_type": "code",
      "metadata": {
        "id": "l_Dq0CUFFvic",
        "colab_type": "code",
        "colab": {
          "base_uri": "https://localhost:8080/",
          "height": 371
        },
        "outputId": "51a8c7cd-b4d3-4e14-86d8-6b09711c1901"
      },
      "source": [
        "newdata.head()"
      ],
      "execution_count": null,
      "outputs": [
        {
          "output_type": "execute_result",
          "data": {
            "text/html": [
              "<div>\n",
              "<style scoped>\n",
              "    .dataframe tbody tr th:only-of-type {\n",
              "        vertical-align: middle;\n",
              "    }\n",
              "\n",
              "    .dataframe tbody tr th {\n",
              "        vertical-align: top;\n",
              "    }\n",
              "\n",
              "    .dataframe thead th {\n",
              "        text-align: right;\n",
              "    }\n",
              "</style>\n",
              "<table border=\"1\" class=\"dataframe\">\n",
              "  <thead>\n",
              "    <tr style=\"text-align: right;\">\n",
              "      <th></th>\n",
              "      <th>DATE</th>\n",
              "      <th>STORE_NBR</th>\n",
              "      <th>LYLTY_CARD_NBR</th>\n",
              "      <th>TXN_ID</th>\n",
              "      <th>PROD_NBR</th>\n",
              "      <th>PROD_NAME</th>\n",
              "      <th>PROD_QTY</th>\n",
              "      <th>TOT_SALES</th>\n",
              "      <th>PACK_SIZE</th>\n",
              "      <th>BRAND</th>\n",
              "      <th>LIFESTAGE</th>\n",
              "      <th>PREMIUM_CUSTOMER</th>\n",
              "    </tr>\n",
              "  </thead>\n",
              "  <tbody>\n",
              "    <tr>\n",
              "      <th>0</th>\n",
              "      <td>2018-10-17</td>\n",
              "      <td>1</td>\n",
              "      <td>1000</td>\n",
              "      <td>1</td>\n",
              "      <td>5</td>\n",
              "      <td>Natural Chip        Compny Seasalt</td>\n",
              "      <td>2</td>\n",
              "      <td>6.0</td>\n",
              "      <td>175</td>\n",
              "      <td>Natural</td>\n",
              "      <td>YOUNG SINGLES/COUPLES</td>\n",
              "      <td>Premium</td>\n",
              "    </tr>\n",
              "    <tr>\n",
              "      <th>1</th>\n",
              "      <td>2019-05-14</td>\n",
              "      <td>1</td>\n",
              "      <td>1307</td>\n",
              "      <td>348</td>\n",
              "      <td>66</td>\n",
              "      <td>Ccs Nacho Cheese</td>\n",
              "      <td>3</td>\n",
              "      <td>6.3</td>\n",
              "      <td>175</td>\n",
              "      <td>CCS</td>\n",
              "      <td>MIDAGE SINGLES/COUPLES</td>\n",
              "      <td>Budget</td>\n",
              "    </tr>\n",
              "    <tr>\n",
              "      <th>2</th>\n",
              "      <td>2018-11-10</td>\n",
              "      <td>1</td>\n",
              "      <td>1307</td>\n",
              "      <td>346</td>\n",
              "      <td>96</td>\n",
              "      <td>Ww Original Stacked Chips</td>\n",
              "      <td>2</td>\n",
              "      <td>3.8</td>\n",
              "      <td>160</td>\n",
              "      <td>Woolworths</td>\n",
              "      <td>MIDAGE SINGLES/COUPLES</td>\n",
              "      <td>Budget</td>\n",
              "    </tr>\n",
              "    <tr>\n",
              "      <th>3</th>\n",
              "      <td>2019-03-09</td>\n",
              "      <td>1</td>\n",
              "      <td>1307</td>\n",
              "      <td>347</td>\n",
              "      <td>54</td>\n",
              "      <td>Ccs Original</td>\n",
              "      <td>1</td>\n",
              "      <td>2.1</td>\n",
              "      <td>175</td>\n",
              "      <td>CCS</td>\n",
              "      <td>MIDAGE SINGLES/COUPLES</td>\n",
              "      <td>Budget</td>\n",
              "    </tr>\n",
              "    <tr>\n",
              "      <th>4</th>\n",
              "      <td>2019-05-20</td>\n",
              "      <td>1</td>\n",
              "      <td>1343</td>\n",
              "      <td>383</td>\n",
              "      <td>61</td>\n",
              "      <td>Smiths Crinkle Cut  Chips Chicken</td>\n",
              "      <td>2</td>\n",
              "      <td>2.9</td>\n",
              "      <td>170</td>\n",
              "      <td>Smiths</td>\n",
              "      <td>MIDAGE SINGLES/COUPLES</td>\n",
              "      <td>Budget</td>\n",
              "    </tr>\n",
              "  </tbody>\n",
              "</table>\n",
              "</div>"
            ],
            "text/plain": [
              "        DATE  STORE_NBR  ...               LIFESTAGE  PREMIUM_CUSTOMER\n",
              "0 2018-10-17          1  ...   YOUNG SINGLES/COUPLES           Premium\n",
              "1 2019-05-14          1  ...  MIDAGE SINGLES/COUPLES            Budget\n",
              "2 2018-11-10          1  ...  MIDAGE SINGLES/COUPLES            Budget\n",
              "3 2019-03-09          1  ...  MIDAGE SINGLES/COUPLES            Budget\n",
              "4 2019-05-20          1  ...  MIDAGE SINGLES/COUPLES            Budget\n",
              "\n",
              "[5 rows x 12 columns]"
            ]
          },
          "metadata": {
            "tags": []
          },
          "execution_count": 55
        }
      ]
    },
    {
      "cell_type": "markdown",
      "metadata": {
        "id": "8tjB10MPG8f_",
        "colab_type": "text"
      },
      "source": [
        "# lets perform eda on this dataset"
      ]
    },
    {
      "cell_type": "markdown",
      "metadata": {
        "id": "WoFJv2kzHIb5",
        "colab_type": "text"
      },
      "source": [
        "1.lets find the custmer segment who purchases more chips\n",
        "\n",
        "2.check their life stage and purache behavior\n"
      ]
    },
    {
      "cell_type": "code",
      "metadata": {
        "id": "LGgFiJ1QH2iT",
        "colab_type": "code",
        "colab": {
          "base_uri": "https://localhost:8080/",
          "height": 708
        },
        "outputId": "f75c3705-d2d5-4175-8c46-e776dc87c40d"
      },
      "source": [
        "# Total sales by 'PREMIUM_CUSTOMER' and 'LIFESTAGE'\n",
        "\n",
        "sales = pd.DataFrame(newdata.groupby(['PREMIUM_CUSTOMER', 'LIFESTAGE']).TOT_SALES.sum())\n",
        "sales.rename(columns = {'TOT_SALES': 'Total Sales'}, inplace = True)\n",
        "sales.sort_values(by = 'Total Sales', ascending = False, inplace = True)\n",
        "sales"
      ],
      "execution_count": null,
      "outputs": [
        {
          "output_type": "execute_result",
          "data": {
            "text/html": [
              "<div>\n",
              "<style scoped>\n",
              "    .dataframe tbody tr th:only-of-type {\n",
              "        vertical-align: middle;\n",
              "    }\n",
              "\n",
              "    .dataframe tbody tr th {\n",
              "        vertical-align: top;\n",
              "    }\n",
              "\n",
              "    .dataframe thead th {\n",
              "        text-align: right;\n",
              "    }\n",
              "</style>\n",
              "<table border=\"1\" class=\"dataframe\">\n",
              "  <thead>\n",
              "    <tr style=\"text-align: right;\">\n",
              "      <th></th>\n",
              "      <th></th>\n",
              "      <th>Total Sales</th>\n",
              "    </tr>\n",
              "    <tr>\n",
              "      <th>PREMIUM_CUSTOMER</th>\n",
              "      <th>LIFESTAGE</th>\n",
              "      <th></th>\n",
              "    </tr>\n",
              "  </thead>\n",
              "  <tbody>\n",
              "    <tr>\n",
              "      <th>Budget</th>\n",
              "      <th>OLDER FAMILIES</th>\n",
              "      <td>156863.75</td>\n",
              "    </tr>\n",
              "    <tr>\n",
              "      <th rowspan=\"2\" valign=\"top\">Mainstream</th>\n",
              "      <th>YOUNG SINGLES/COUPLES</th>\n",
              "      <td>147582.20</td>\n",
              "    </tr>\n",
              "    <tr>\n",
              "      <th>RETIREES</th>\n",
              "      <td>145168.95</td>\n",
              "    </tr>\n",
              "    <tr>\n",
              "      <th rowspan=\"2\" valign=\"top\">Budget</th>\n",
              "      <th>YOUNG FAMILIES</th>\n",
              "      <td>129717.95</td>\n",
              "    </tr>\n",
              "    <tr>\n",
              "      <th>OLDER SINGLES/COUPLES</th>\n",
              "      <td>127833.60</td>\n",
              "    </tr>\n",
              "    <tr>\n",
              "      <th>Mainstream</th>\n",
              "      <th>OLDER SINGLES/COUPLES</th>\n",
              "      <td>124648.50</td>\n",
              "    </tr>\n",
              "    <tr>\n",
              "      <th>Premium</th>\n",
              "      <th>OLDER SINGLES/COUPLES</th>\n",
              "      <td>123537.55</td>\n",
              "    </tr>\n",
              "    <tr>\n",
              "      <th>Budget</th>\n",
              "      <th>RETIREES</th>\n",
              "      <td>105916.30</td>\n",
              "    </tr>\n",
              "    <tr>\n",
              "      <th>Mainstream</th>\n",
              "      <th>OLDER FAMILIES</th>\n",
              "      <td>96413.55</td>\n",
              "    </tr>\n",
              "    <tr>\n",
              "      <th>Premium</th>\n",
              "      <th>RETIREES</th>\n",
              "      <td>91296.65</td>\n",
              "    </tr>\n",
              "    <tr>\n",
              "      <th rowspan=\"2\" valign=\"top\">Mainstream</th>\n",
              "      <th>YOUNG FAMILIES</th>\n",
              "      <td>86338.25</td>\n",
              "    </tr>\n",
              "    <tr>\n",
              "      <th>MIDAGE SINGLES/COUPLES</th>\n",
              "      <td>84734.25</td>\n",
              "    </tr>\n",
              "    <tr>\n",
              "      <th rowspan=\"2\" valign=\"top\">Premium</th>\n",
              "      <th>YOUNG FAMILIES</th>\n",
              "      <td>78571.70</td>\n",
              "    </tr>\n",
              "    <tr>\n",
              "      <th>OLDER FAMILIES</th>\n",
              "      <td>75242.60</td>\n",
              "    </tr>\n",
              "    <tr>\n",
              "      <th>Budget</th>\n",
              "      <th>YOUNG SINGLES/COUPLES</th>\n",
              "      <td>57122.10</td>\n",
              "    </tr>\n",
              "    <tr>\n",
              "      <th rowspan=\"2\" valign=\"top\">Premium</th>\n",
              "      <th>MIDAGE SINGLES/COUPLES</th>\n",
              "      <td>54443.85</td>\n",
              "    </tr>\n",
              "    <tr>\n",
              "      <th>YOUNG SINGLES/COUPLES</th>\n",
              "      <td>39052.30</td>\n",
              "    </tr>\n",
              "    <tr>\n",
              "      <th rowspan=\"2\" valign=\"top\">Budget</th>\n",
              "      <th>MIDAGE SINGLES/COUPLES</th>\n",
              "      <td>33345.70</td>\n",
              "    </tr>\n",
              "    <tr>\n",
              "      <th>NEW FAMILIES</th>\n",
              "      <td>20607.45</td>\n",
              "    </tr>\n",
              "    <tr>\n",
              "      <th>Mainstream</th>\n",
              "      <th>NEW FAMILIES</th>\n",
              "      <td>15979.70</td>\n",
              "    </tr>\n",
              "    <tr>\n",
              "      <th>Premium</th>\n",
              "      <th>NEW FAMILIES</th>\n",
              "      <td>10760.80</td>\n",
              "    </tr>\n",
              "  </tbody>\n",
              "</table>\n",
              "</div>"
            ],
            "text/plain": [
              "                                         Total Sales\n",
              "PREMIUM_CUSTOMER LIFESTAGE                          \n",
              "Budget           OLDER FAMILIES            156863.75\n",
              "Mainstream       YOUNG SINGLES/COUPLES     147582.20\n",
              "                 RETIREES                  145168.95\n",
              "Budget           YOUNG FAMILIES            129717.95\n",
              "                 OLDER SINGLES/COUPLES     127833.60\n",
              "Mainstream       OLDER SINGLES/COUPLES     124648.50\n",
              "Premium          OLDER SINGLES/COUPLES     123537.55\n",
              "Budget           RETIREES                  105916.30\n",
              "Mainstream       OLDER FAMILIES             96413.55\n",
              "Premium          RETIREES                   91296.65\n",
              "Mainstream       YOUNG FAMILIES             86338.25\n",
              "                 MIDAGE SINGLES/COUPLES     84734.25\n",
              "Premium          YOUNG FAMILIES             78571.70\n",
              "                 OLDER FAMILIES             75242.60\n",
              "Budget           YOUNG SINGLES/COUPLES      57122.10\n",
              "Premium          MIDAGE SINGLES/COUPLES     54443.85\n",
              "                 YOUNG SINGLES/COUPLES      39052.30\n",
              "Budget           MIDAGE SINGLES/COUPLES     33345.70\n",
              "                 NEW FAMILIES               20607.45\n",
              "Mainstream       NEW FAMILIES               15979.70\n",
              "Premium          NEW FAMILIES               10760.80"
            ]
          },
          "metadata": {
            "tags": []
          },
          "execution_count": 64
        }
      ]
    },
    {
      "cell_type": "code",
      "metadata": {
        "id": "rQzVtsu6IMRM",
        "colab_type": "code",
        "colab": {
          "base_uri": "https://localhost:8080/",
          "height": 492
        },
        "outputId": "176e6930-4749-41e3-eb07-3c951ed4de8e"
      },
      "source": [
        "# Visualise\n",
        "salesPlot = pd.DataFrame(newdata.groupby(['LIFESTAGE', 'PREMIUM_CUSTOMER']).TOT_SALES.sum())\n",
        "salesPlot.unstack().plot(kind = 'bar', stacked = True, figsize = (10, 5), title = 'Total Sales by Customer Segment')\n",
        "\n",
        "# Comment: Sales are coming from budget older families, mainstream young singles/couples and mainstream retirees"
      ],
      "execution_count": null,
      "outputs": [
        {
          "output_type": "execute_result",
          "data": {
            "text/plain": [
              "<matplotlib.axes._subplots.AxesSubplot at 0x7f9a5d7dcd30>"
            ]
          },
          "metadata": {
            "tags": []
          },
          "execution_count": 65
        },
        {
          "output_type": "display_data",
          "data": {
            "image/png": "[encoded data removed]",
            "text/plain": [
              "<Figure size 720x360 with 1 Axes>"
            ]
          },
          "metadata": {
            "tags": [],
            "needs_background": "light"
          }
        }
      ]
    },
    {
      "cell_type": "code",
      "metadata": {
        "id": "Doz_jVP2I6OR",
        "colab_type": "code",
        "colab": {
          "base_uri": "https://localhost:8080/",
          "height": 378
        },
        "outputId": "7842fb92-8bf3-4e35-cd96-e87488292c4d"
      },
      "source": [
        "# Let's see if the higher sales are due to there being more customers who buy chips\n",
        "# Number of customers by 'PREMIUM_CUSTOMER' and 'LIFESTAGE'\n",
        "# Remember to take unique 'LYLTY_CARD_NBR'\n",
        "\n",
        "customers = pd.DataFrame(newdata.groupby(['PREMIUM_CUSTOMER', 'LIFESTAGE']).LYLTY_CARD_NBR.nunique())\n",
        "customers.rename(columns = {'LYLTY_CARD_NBR': 'Number of Customers'}, inplace = True)\n",
        "customers.sort_values(by = 'Number of Customers', ascending = False).head(10)"
      ],
      "execution_count": null,
      "outputs": [
        {
          "output_type": "execute_result",
          "data": {
            "text/html": [
              "<div>\n",
              "<style scoped>\n",
              "    .dataframe tbody tr th:only-of-type {\n",
              "        vertical-align: middle;\n",
              "    }\n",
              "\n",
              "    .dataframe tbody tr th {\n",
              "        vertical-align: top;\n",
              "    }\n",
              "\n",
              "    .dataframe thead th {\n",
              "        text-align: right;\n",
              "    }\n",
              "</style>\n",
              "<table border=\"1\" class=\"dataframe\">\n",
              "  <thead>\n",
              "    <tr style=\"text-align: right;\">\n",
              "      <th></th>\n",
              "      <th></th>\n",
              "      <th>Number of Customers</th>\n",
              "    </tr>\n",
              "    <tr>\n",
              "      <th>PREMIUM_CUSTOMER</th>\n",
              "      <th>LIFESTAGE</th>\n",
              "      <th></th>\n",
              "    </tr>\n",
              "  </thead>\n",
              "  <tbody>\n",
              "    <tr>\n",
              "      <th rowspan=\"3\" valign=\"top\">Mainstream</th>\n",
              "      <th>YOUNG SINGLES/COUPLES</th>\n",
              "      <td>7917</td>\n",
              "    </tr>\n",
              "    <tr>\n",
              "      <th>RETIREES</th>\n",
              "      <td>6358</td>\n",
              "    </tr>\n",
              "    <tr>\n",
              "      <th>OLDER SINGLES/COUPLES</th>\n",
              "      <td>4858</td>\n",
              "    </tr>\n",
              "    <tr>\n",
              "      <th>Budget</th>\n",
              "      <th>OLDER SINGLES/COUPLES</th>\n",
              "      <td>4849</td>\n",
              "    </tr>\n",
              "    <tr>\n",
              "      <th>Premium</th>\n",
              "      <th>OLDER SINGLES/COUPLES</th>\n",
              "      <td>4682</td>\n",
              "    </tr>\n",
              "    <tr>\n",
              "      <th rowspan=\"3\" valign=\"top\">Budget</th>\n",
              "      <th>OLDER FAMILIES</th>\n",
              "      <td>4611</td>\n",
              "    </tr>\n",
              "    <tr>\n",
              "      <th>RETIREES</th>\n",
              "      <td>4385</td>\n",
              "    </tr>\n",
              "    <tr>\n",
              "      <th>YOUNG FAMILIES</th>\n",
              "      <td>3953</td>\n",
              "    </tr>\n",
              "    <tr>\n",
              "      <th>Premium</th>\n",
              "      <th>RETIREES</th>\n",
              "      <td>3812</td>\n",
              "    </tr>\n",
              "    <tr>\n",
              "      <th>Budget</th>\n",
              "      <th>YOUNG SINGLES/COUPLES</th>\n",
              "      <td>3647</td>\n",
              "    </tr>\n",
              "  </tbody>\n",
              "</table>\n",
              "</div>"
            ],
            "text/plain": [
              "                                        Number of Customers\n",
              "PREMIUM_CUSTOMER LIFESTAGE                                 \n",
              "Mainstream       YOUNG SINGLES/COUPLES                 7917\n",
              "                 RETIREES                              6358\n",
              "                 OLDER SINGLES/COUPLES                 4858\n",
              "Budget           OLDER SINGLES/COUPLES                 4849\n",
              "Premium          OLDER SINGLES/COUPLES                 4682\n",
              "Budget           OLDER FAMILIES                        4611\n",
              "                 RETIREES                              4385\n",
              "                 YOUNG FAMILIES                        3953\n",
              "Premium          RETIREES                              3812\n",
              "Budget           YOUNG SINGLES/COUPLES                 3647"
            ]
          },
          "metadata": {
            "tags": []
          },
          "execution_count": 66
        }
      ]
    },
    {
      "cell_type": "code",
      "metadata": {
        "id": "aTc4frKaJB7G",
        "colab_type": "code",
        "colab": {
          "base_uri": "https://localhost:8080/",
          "height": 492
        },
        "outputId": "657fa86e-070c-4b7e-e320-fe4d8d294d4b"
      },
      "source": [
        "# Visualise\n",
        "customersPlot = pd.DataFrame(newdata.groupby(['LIFESTAGE', 'PREMIUM_CUSTOMER']).LYLTY_CARD_NBR.nunique())\n",
        "customersPlot.unstack().plot(kind = 'bar', stacked = True, figsize = (10, 5), title = 'Number of Customers by Customer Segment')\n",
        "\n",
        "# Comment: There are more mainstream young singles/couples and retirees. This contributes to to more chips sales in these\n",
        "# segments however this is not the major driver for the budget older families segment"
      ],
      "execution_count": null,
      "outputs": [
        {
          "output_type": "execute_result",
          "data": {
            "text/plain": [
              "<matplotlib.axes._subplots.AxesSubplot at 0x7f9a5d739630>"
            ]
          },
          "metadata": {
            "tags": []
          },
          "execution_count": 67
        },
        {
          "output_type": "display_data",
          "data": {
            "image/png": "[encoded data removed]",
            "text/plain": [
              "<Figure size 720x360 with 1 Axes>"
            ]
          },
          "metadata": {
            "tags": [],
            "needs_background": "light"
          }
        }
      ]
    },
    {
      "cell_type": "code",
      "metadata": {
        "id": "5YcrImo2JpNo",
        "colab_type": "code",
        "colab": {
          "base_uri": "https://localhost:8080/",
          "height": 228
        },
        "outputId": "bbbc33a1-e35b-4e13-b55e-149c7bb4368a"
      },
      "source": [
        "# Higher sales may also be driven by more units of chips being bought per customer\n",
        "# Let's calculate the average units per customer by 'PREMIUM_CUSTOMER' and 'LIFESTAGE'\n",
        "# Total quantity sold divided by unique customers\n",
        "\n",
        "avg_units = newdata.groupby(['PREMIUM_CUSTOMER', 'LIFESTAGE']).PROD_QTY.sum() / newdata.groupby(['PREMIUM_CUSTOMER', 'LIFESTAGE']).LYLTY_CARD_NBR.nunique()\n",
        "avg_units = pd.DataFrame(avg_units, columns = {'Average Unit per Customer'})\n",
        "avg_units.sort_values(by = 'Average Unit per Customer', ascending = False).head()"
      ],
      "execution_count": null,
      "outputs": [
        {
          "output_type": "execute_result",
          "data": {
            "text/html": [
              "<div>\n",
              "<style scoped>\n",
              "    .dataframe tbody tr th:only-of-type {\n",
              "        vertical-align: middle;\n",
              "    }\n",
              "\n",
              "    .dataframe tbody tr th {\n",
              "        vertical-align: top;\n",
              "    }\n",
              "\n",
              "    .dataframe thead th {\n",
              "        text-align: right;\n",
              "    }\n",
              "</style>\n",
              "<table border=\"1\" class=\"dataframe\">\n",
              "  <thead>\n",
              "    <tr style=\"text-align: right;\">\n",
              "      <th></th>\n",
              "      <th></th>\n",
              "      <th>Average Unit per Customer</th>\n",
              "    </tr>\n",
              "    <tr>\n",
              "      <th>PREMIUM_CUSTOMER</th>\n",
              "      <th>LIFESTAGE</th>\n",
              "      <th></th>\n",
              "    </tr>\n",
              "  </thead>\n",
              "  <tbody>\n",
              "    <tr>\n",
              "      <th>Mainstream</th>\n",
              "      <th>OLDER FAMILIES</th>\n",
              "      <td>9.255380</td>\n",
              "    </tr>\n",
              "    <tr>\n",
              "      <th>Budget</th>\n",
              "      <th>OLDER FAMILIES</th>\n",
              "      <td>9.076773</td>\n",
              "    </tr>\n",
              "    <tr>\n",
              "      <th>Premium</th>\n",
              "      <th>OLDER FAMILIES</th>\n",
              "      <td>9.071717</td>\n",
              "    </tr>\n",
              "    <tr>\n",
              "      <th>Budget</th>\n",
              "      <th>YOUNG FAMILIES</th>\n",
              "      <td>8.722995</td>\n",
              "    </tr>\n",
              "    <tr>\n",
              "      <th>Premium</th>\n",
              "      <th>YOUNG FAMILIES</th>\n",
              "      <td>8.716013</td>\n",
              "    </tr>\n",
              "  </tbody>\n",
              "</table>\n",
              "</div>"
            ],
            "text/plain": [
              "                                 Average Unit per Customer\n",
              "PREMIUM_CUSTOMER LIFESTAGE                                \n",
              "Mainstream       OLDER FAMILIES                   9.255380\n",
              "Budget           OLDER FAMILIES                   9.076773\n",
              "Premium          OLDER FAMILIES                   9.071717\n",
              "Budget           YOUNG FAMILIES                   8.722995\n",
              "Premium          YOUNG FAMILIES                   8.716013"
            ]
          },
          "metadata": {
            "tags": []
          },
          "execution_count": 68
        }
      ]
    },
    {
      "cell_type": "code",
      "metadata": {
        "id": "L23MH_4WJ2ue",
        "colab_type": "code",
        "colab": {
          "base_uri": "https://localhost:8080/",
          "height": 492
        },
        "outputId": "b2a545e2-8bdb-4890-b34b-45543df441be"
      },
      "source": [
        "# Visualise \n",
        "avgUnitsPlot = pd.DataFrame(newdata.groupby(['LIFESTAGE', 'PREMIUM_CUSTOMER']).PROD_QTY.sum() / newdata.groupby(['LIFESTAGE', 'PREMIUM_CUSTOMER']).LYLTY_CARD_NBR.nunique())\n",
        "avgUnitsPlot.unstack().plot(kind = 'bar', figsize = (10, 5), title = 'Average Unit by Customer Segment')\n",
        "\n",
        "# Comment: Older families and young families buy more chips per customer"
      ],
      "execution_count": null,
      "outputs": [
        {
          "output_type": "execute_result",
          "data": {
            "text/plain": [
              "<matplotlib.axes._subplots.AxesSubplot at 0x7f9a5d490978>"
            ]
          },
          "metadata": {
            "tags": []
          },
          "execution_count": 70
        },
        {
          "output_type": "display_data",
          "data": {
            "image/png": "[encoded data removed]",
            "text/plain": [
              "<Figure size 720x360 with 1 Axes>"
            ]
          },
          "metadata": {
            "tags": [],
            "needs_background": "light"
          }
        }
      ]
    },
    {
      "cell_type": "code",
      "metadata": {
        "id": "1UkA-C5GKKCL",
        "colab_type": "code",
        "colab": {
          "base_uri": "https://localhost:8080/",
          "height": 228
        },
        "outputId": "a797c60a-935b-48a6-c170-5820e12fab97"
      },
      "source": [
        "# Let's also investigate the average price per unit chips bought for each customer segment as this is also a driver of total sales\n",
        "# Total sales divided by total quantity purchased\n",
        "\n",
        "# Average price per unit by 'PREMIUM_CUSTOMER' and 'LIFESTAGE'\n",
        "avg_price = newdata.groupby(['PREMIUM_CUSTOMER', 'LIFESTAGE']).TOT_SALES.sum() / newdata.groupby(['PREMIUM_CUSTOMER', 'LIFESTAGE']).PROD_QTY.sum()\n",
        "avg_price = pd.DataFrame(avg_price, columns = {'Price per Unit'})\n",
        "avg_price.sort_values(by = 'Price per Unit', ascending = False).head()"
      ],
      "execution_count": null,
      "outputs": [
        {
          "output_type": "execute_result",
          "data": {
            "text/html": [
              "<div>\n",
              "<style scoped>\n",
              "    .dataframe tbody tr th:only-of-type {\n",
              "        vertical-align: middle;\n",
              "    }\n",
              "\n",
              "    .dataframe tbody tr th {\n",
              "        vertical-align: top;\n",
              "    }\n",
              "\n",
              "    .dataframe thead th {\n",
              "        text-align: right;\n",
              "    }\n",
              "</style>\n",
              "<table border=\"1\" class=\"dataframe\">\n",
              "  <thead>\n",
              "    <tr style=\"text-align: right;\">\n",
              "      <th></th>\n",
              "      <th></th>\n",
              "      <th>Price per Unit</th>\n",
              "    </tr>\n",
              "    <tr>\n",
              "      <th>PREMIUM_CUSTOMER</th>\n",
              "      <th>LIFESTAGE</th>\n",
              "      <th></th>\n",
              "    </tr>\n",
              "  </thead>\n",
              "  <tbody>\n",
              "    <tr>\n",
              "      <th rowspan=\"3\" valign=\"top\">Mainstream</th>\n",
              "      <th>YOUNG SINGLES/COUPLES</th>\n",
              "      <td>4.074043</td>\n",
              "    </tr>\n",
              "    <tr>\n",
              "      <th>MIDAGE SINGLES/COUPLES</th>\n",
              "      <td>3.994449</td>\n",
              "    </tr>\n",
              "    <tr>\n",
              "      <th>NEW FAMILIES</th>\n",
              "      <td>3.935887</td>\n",
              "    </tr>\n",
              "    <tr>\n",
              "      <th rowspan=\"2\" valign=\"top\">Budget</th>\n",
              "      <th>RETIREES</th>\n",
              "      <td>3.932731</td>\n",
              "    </tr>\n",
              "    <tr>\n",
              "      <th>NEW FAMILIES</th>\n",
              "      <td>3.931969</td>\n",
              "    </tr>\n",
              "  </tbody>\n",
              "</table>\n",
              "</div>"
            ],
            "text/plain": [
              "                                         Price per Unit\n",
              "PREMIUM_CUSTOMER LIFESTAGE                             \n",
              "Mainstream       YOUNG SINGLES/COUPLES         4.074043\n",
              "                 MIDAGE SINGLES/COUPLES        3.994449\n",
              "                 NEW FAMILIES                  3.935887\n",
              "Budget           RETIREES                      3.932731\n",
              "                 NEW FAMILIES                  3.931969"
            ]
          },
          "metadata": {
            "tags": []
          },
          "execution_count": 56
        }
      ]
    },
    {
      "cell_type": "code",
      "metadata": {
        "id": "82u-p-nNKnH0",
        "colab_type": "code",
        "colab": {
          "base_uri": "https://localhost:8080/",
          "height": 492
        },
        "outputId": "30b48a99-9444-4282-8044-31fb6b0246e7"
      },
      "source": [
        "# Visualise \n",
        "avgPricePlot = pd.DataFrame(newdata.groupby(['LIFESTAGE', 'PREMIUM_CUSTOMER']).TOT_SALES.sum() / newdata.groupby(['LIFESTAGE', 'PREMIUM_CUSTOMER']).PROD_QTY.sum())\n",
        "avgPricePlot.unstack().plot(kind = 'bar', figsize = (10, 5), title = 'Average Price by Customer Segment', ylim = (0, 6))\n",
        "\n",
        "# Comment: Mainstream midage and young singles and couples are more willing to pay more per packet of chips compared to their \n",
        "# budget and premium counterparts. This may be due to premium shoppers being more likely to buy healthy snacks and when\n",
        "# they do buy chips, it is mainly for entertainment purposes rather than their own consumption. This is also supported by\n",
        "# there being fewer premium midage and young singles and couples buying chips compared to their mainstream counterparts"
      ],
      "execution_count": null,
      "outputs": [
        {
          "output_type": "execute_result",
          "data": {
            "text/plain": [
              "<matplotlib.axes._subplots.AxesSubplot at 0x7f7a77cf16a0>"
            ]
          },
          "metadata": {
            "tags": []
          },
          "execution_count": 57
        },
        {
          "output_type": "display_data",
          "data": {
            "image/png": "[encoded data removed]",
            "text/plain": [
              "<Figure size 720x360 with 1 Axes>"
            ]
          },
          "metadata": {
            "tags": [],
            "needs_background": "light"
          }
        }
      ]
    },
    {
      "cell_type": "code",
      "metadata": {
        "id": "VC4OUSPHK_jU",
        "colab_type": "code",
        "colab": {
          "base_uri": "https://localhost:8080/",
          "height": 408
        },
        "outputId": "bf9d5a7a-b351-466e-a0cb-ba19add0ba6b"
      },
      "source": [
        "# As this difference in average price per unit is not too large \n",
        "# Perform an independent t-test between mainstream vs non-mainstream midage and young singles/couples\n",
        "\n",
        "# Create a new dataframe 'pricePerUnit'\n",
        "pricePerUnit =newdata\n",
        "\n",
        "# Create a new column under 'pricePerUnit' called 'PRICE'\n",
        "pricePerUnit['PRICE'] = pricePerUnit['TOT_SALES'] / pricePerUnit['PROD_QTY']\n",
        "\n",
        "# Let's have a look\n",
        "pricePerUnit.head()"
      ],
      "execution_count": null,
      "outputs": [
        {
          "output_type": "execute_result",
          "data": {
            "text/html": [
              "<div>\n",
              "<style scoped>\n",
              "    .dataframe tbody tr th:only-of-type {\n",
              "        vertical-align: middle;\n",
              "    }\n",
              "\n",
              "    .dataframe tbody tr th {\n",
              "        vertical-align: top;\n",
              "    }\n",
              "\n",
              "    .dataframe thead th {\n",
              "        text-align: right;\n",
              "    }\n",
              "</style>\n",
              "<table border=\"1\" class=\"dataframe\">\n",
              "  <thead>\n",
              "    <tr style=\"text-align: right;\">\n",
              "      <th></th>\n",
              "      <th>DATE</th>\n",
              "      <th>STORE_NBR</th>\n",
              "      <th>LYLTY_CARD_NBR</th>\n",
              "      <th>TXN_ID</th>\n",
              "      <th>PROD_NBR</th>\n",
              "      <th>PROD_NAME</th>\n",
              "      <th>PROD_QTY</th>\n",
              "      <th>TOT_SALES</th>\n",
              "      <th>PACK_SIZE</th>\n",
              "      <th>BRAND</th>\n",
              "      <th>LIFESTAGE</th>\n",
              "      <th>PREMIUM_CUSTOMER</th>\n",
              "      <th>PRICE</th>\n",
              "    </tr>\n",
              "  </thead>\n",
              "  <tbody>\n",
              "    <tr>\n",
              "      <th>0</th>\n",
              "      <td>2018-10-17</td>\n",
              "      <td>1</td>\n",
              "      <td>1000</td>\n",
              "      <td>1</td>\n",
              "      <td>5</td>\n",
              "      <td>Natural Chip        Compny Seasalt</td>\n",
              "      <td>2</td>\n",
              "      <td>6.0</td>\n",
              "      <td>175</td>\n",
              "      <td>Natural</td>\n",
              "      <td>YOUNG SINGLES/COUPLES</td>\n",
              "      <td>Premium</td>\n",
              "      <td>3.00</td>\n",
              "    </tr>\n",
              "    <tr>\n",
              "      <th>1</th>\n",
              "      <td>2019-05-14</td>\n",
              "      <td>1</td>\n",
              "      <td>1307</td>\n",
              "      <td>348</td>\n",
              "      <td>66</td>\n",
              "      <td>Ccs Nacho Cheese</td>\n",
              "      <td>3</td>\n",
              "      <td>6.3</td>\n",
              "      <td>175</td>\n",
              "      <td>CCS</td>\n",
              "      <td>MIDAGE SINGLES/COUPLES</td>\n",
              "      <td>Budget</td>\n",
              "      <td>2.10</td>\n",
              "    </tr>\n",
              "    <tr>\n",
              "      <th>2</th>\n",
              "      <td>2018-11-10</td>\n",
              "      <td>1</td>\n",
              "      <td>1307</td>\n",
              "      <td>346</td>\n",
              "      <td>96</td>\n",
              "      <td>Ww Original Stacked Chips</td>\n",
              "      <td>2</td>\n",
              "      <td>3.8</td>\n",
              "      <td>160</td>\n",
              "      <td>Woolworths</td>\n",
              "      <td>MIDAGE SINGLES/COUPLES</td>\n",
              "      <td>Budget</td>\n",
              "      <td>1.90</td>\n",
              "    </tr>\n",
              "    <tr>\n",
              "      <th>3</th>\n",
              "      <td>2019-03-09</td>\n",
              "      <td>1</td>\n",
              "      <td>1307</td>\n",
              "      <td>347</td>\n",
              "      <td>54</td>\n",
              "      <td>Ccs Original</td>\n",
              "      <td>1</td>\n",
              "      <td>2.1</td>\n",
              "      <td>175</td>\n",
              "      <td>CCS</td>\n",
              "      <td>MIDAGE SINGLES/COUPLES</td>\n",
              "      <td>Budget</td>\n",
              "      <td>2.10</td>\n",
              "    </tr>\n",
              "    <tr>\n",
              "      <th>4</th>\n",
              "      <td>2019-05-20</td>\n",
              "      <td>1</td>\n",
              "      <td>1343</td>\n",
              "      <td>383</td>\n",
              "      <td>61</td>\n",
              "      <td>Smiths Crinkle Cut  Chips Chicken</td>\n",
              "      <td>2</td>\n",
              "      <td>2.9</td>\n",
              "      <td>170</td>\n",
              "      <td>Smiths</td>\n",
              "      <td>MIDAGE SINGLES/COUPLES</td>\n",
              "      <td>Budget</td>\n",
              "      <td>1.45</td>\n",
              "    </tr>\n",
              "  </tbody>\n",
              "</table>\n",
              "</div>"
            ],
            "text/plain": [
              "        DATE  STORE_NBR  ...  PREMIUM_CUSTOMER  PRICE\n",
              "0 2018-10-17          1  ...           Premium   3.00\n",
              "1 2019-05-14          1  ...            Budget   2.10\n",
              "2 2018-11-10          1  ...            Budget   1.90\n",
              "3 2019-03-09          1  ...            Budget   2.10\n",
              "4 2019-05-20          1  ...            Budget   1.45\n",
              "\n",
              "[5 rows x 13 columns]"
            ]
          },
          "metadata": {
            "tags": []
          },
          "execution_count": 58
        }
      ]
    },
    {
      "cell_type": "code",
      "metadata": {
        "id": "3HycaQcjLmnW",
        "colab_type": "code",
        "colab": {}
      },
      "source": [
        "k=pd.pivot_table(pricePerUnit,values='PRICE',index='PROD_NAME')\n",
        "k=k.sort_values(by=['PRICE'],ascending=False)"
      ],
      "execution_count": null,
      "outputs": []
    },
    {
      "cell_type": "code",
      "metadata": {
        "id": "EWzvE9FlGhxy",
        "colab_type": "code",
        "colab": {
          "base_uri": "https://localhost:8080/",
          "height": 378
        },
        "outputId": "840df8cb-9a34-471f-c2a5-2eff22a4095d"
      },
      "source": [
        "k.head(10)"
      ],
      "execution_count": null,
      "outputs": [
        {
          "output_type": "execute_result",
          "data": {
            "text/html": [
              "<div>\n",
              "<style scoped>\n",
              "    .dataframe tbody tr th:only-of-type {\n",
              "        vertical-align: middle;\n",
              "    }\n",
              "\n",
              "    .dataframe tbody tr th {\n",
              "        vertical-align: top;\n",
              "    }\n",
              "\n",
              "    .dataframe thead th {\n",
              "        text-align: right;\n",
              "    }\n",
              "</style>\n",
              "<table border=\"1\" class=\"dataframe\">\n",
              "  <thead>\n",
              "    <tr style=\"text-align: right;\">\n",
              "      <th></th>\n",
              "      <th>PRICE</th>\n",
              "    </tr>\n",
              "    <tr>\n",
              "      <th>PROD_NAME</th>\n",
              "      <th></th>\n",
              "    </tr>\n",
              "  </thead>\n",
              "  <tbody>\n",
              "    <tr>\n",
              "      <th>Dorito Corn Chp     Supreme</th>\n",
              "      <td>6.368285</td>\n",
              "    </tr>\n",
              "    <tr>\n",
              "      <th>Smiths Crnkle Chip  Orgnl Big Bag</th>\n",
              "      <td>5.900000</td>\n",
              "    </tr>\n",
              "    <tr>\n",
              "      <th>Smiths Crinkle Chips Salt   Vinegar</th>\n",
              "      <td>5.700000</td>\n",
              "    </tr>\n",
              "    <tr>\n",
              "      <th>Cheezels Cheese</th>\n",
              "      <td>5.700000</td>\n",
              "    </tr>\n",
              "    <tr>\n",
              "      <th>Smiths Crinkle      Original</th>\n",
              "      <td>5.700000</td>\n",
              "    </tr>\n",
              "    <tr>\n",
              "      <th>Doritos Cheese      Supreme</th>\n",
              "      <td>5.700000</td>\n",
              "    </tr>\n",
              "    <tr>\n",
              "      <th>Kettle Mozzarella   Basil   Pesto</th>\n",
              "      <td>5.400000</td>\n",
              "    </tr>\n",
              "    <tr>\n",
              "      <th>Kettle Sea Salt     And Vinegar</th>\n",
              "      <td>5.400000</td>\n",
              "    </tr>\n",
              "    <tr>\n",
              "      <th>Kettle Honey Soy    Chicken</th>\n",
              "      <td>5.400000</td>\n",
              "    </tr>\n",
              "    <tr>\n",
              "      <th>Kettle Original</th>\n",
              "      <td>5.399145</td>\n",
              "    </tr>\n",
              "  </tbody>\n",
              "</table>\n",
              "</div>"
            ],
            "text/plain": [
              "                                          PRICE\n",
              "PROD_NAME                                      \n",
              "Dorito Corn Chp     Supreme            6.368285\n",
              "Smiths Crnkle Chip  Orgnl Big Bag      5.900000\n",
              "Smiths Crinkle Chips Salt   Vinegar    5.700000\n",
              "Cheezels Cheese                        5.700000\n",
              "Smiths Crinkle      Original           5.700000\n",
              "Doritos Cheese      Supreme            5.700000\n",
              "Kettle Mozzarella   Basil   Pesto      5.400000\n",
              "Kettle Sea Salt     And Vinegar        5.400000\n",
              "Kettle Honey Soy    Chicken            5.400000\n",
              "Kettle Original                        5.399145"
            ]
          },
          "metadata": {
            "tags": []
          },
          "execution_count": 90
        }
      ]
    },
    {
      "cell_type": "code",
      "metadata": {
        "id": "t-fKEqLTInO2",
        "colab_type": "code",
        "colab": {}
      },
      "source": [
        "# Let's group our data into mainstream and non-mainstream\n",
        "\n",
        "mainstream = pricePerUnit.loc[(pricePerUnit['PREMIUM_CUSTOMER'] == 'Mainstream') & ( (pricePerUnit['LIFESTAGE'] == 'YOUNG SINGLES/COUPLES') | (pricePerUnit['LIFESTAGE'] == 'MIDAGE SINGLES/COUPLES') ), 'PRICE']\n",
        "nonMainstream = pricePerUnit.loc[(pricePerUnit['PREMIUM_CUSTOMER'] != 'Mainstream') & ( (pricePerUnit['LIFESTAGE'] == 'YOUNG SINGLES/COUPLES') | (pricePerUnit['LIFESTAGE'] == 'MIDAGE SINGLES/COUPLES') ), 'PRICE']"
      ],
      "execution_count": null,
      "outputs": []
    },
    {
      "cell_type": "code",
      "metadata": {
        "id": "TvyE8LmUJUQP",
        "colab_type": "code",
        "colab": {
          "base_uri": "https://localhost:8080/",
          "height": 352
        },
        "outputId": "d0a21344-a569-42ae-cfd8-c928eb6c77e5"
      },
      "source": [
        "plt.figure(figsize = (10, 5))\n",
        "plt.hist(mainstream, label = 'Mainstream')\n",
        "plt.hist(nonMainstream, label = 'Premium & Budget')\n",
        "plt.legend()\n",
        "plt.xlabel('Price per Unit')"
      ],
      "execution_count": null,
      "outputs": [
        {
          "output_type": "execute_result",
          "data": {
            "text/plain": [
              "Text(0.5, 0, 'Price per Unit')"
            ]
          },
          "metadata": {
            "tags": []
          },
          "execution_count": 92
        },
        {
          "output_type": "display_data",
          "data": {
            "image/png": "[encoded data removed]",
            "text/plain": [
              "<Figure size 720x360 with 1 Axes>"
            ]
          },
          "metadata": {
            "tags": [],
            "needs_background": "light"
          }
        }
      ]
    },
    {
      "cell_type": "code",
      "metadata": {
        "id": "7g3qYBHhJYOw",
        "colab_type": "code",
        "colab": {
          "base_uri": "https://localhost:8080/",
          "height": 35
        },
        "outputId": "36bfe17e-236b-4334-8562-e16dfec94952"
      },
      "source": [
        "# Let's have a look at their means\n",
        "\n",
        "[np.mean(mainstream), np.mean(nonMainstream)]\n",
        "\n",
        "# Mainstream has a higher average price per unit"
      ],
      "execution_count": null,
      "outputs": [
        {
          "output_type": "execute_result",
          "data": {
            "text/plain": [
              "[4.039785893795137, 3.706491319963857]"
            ]
          },
          "metadata": {
            "tags": []
          },
          "execution_count": 93
        }
      ]
    },
    {
      "cell_type": "code",
      "metadata": {
        "id": "mv4jryEZJfdr",
        "colab_type": "code",
        "colab": {
          "base_uri": "https://localhost:8080/",
          "height": 35
        },
        "outputId": "8a47e0e1-bbd7-40a6-ee04-18167ceeeb5e"
      },
      "source": [
        "# Perform t-test \n",
        "\n",
        "ttest_ind(mainstream, nonMainstream)\n",
        "\n",
        "# Comment: Mainstream price per unit is significantly higher than non-mainstream "
      ],
      "execution_count": null,
      "outputs": [
        {
          "output_type": "execute_result",
          "data": {
            "text/plain": [
              "Ttest_indResult(statistic=37.83196107667825, pvalue=2.235645611540966e-309)"
            ]
          },
          "metadata": {
            "tags": []
          },
          "execution_count": 94
        }
      ]
    },
    {
      "cell_type": "code",
      "metadata": {
        "id": "RBrSG-4rJ3jk",
        "colab_type": "code",
        "colab": {
          "base_uri": "https://localhost:8080/",
          "height": 408
        },
        "outputId": "e7e36ad9-a823-4b03-e5e2-cba629f28c83"
      },
      "source": [
        "# Deep dive into specific customer segment for insights\n",
        "# We have found quite a few interesting insights that we can dive deeper into \n",
        "# For example, we might want to target customers segments that contribute the most to sales to retain them to further increase sales\n",
        "# Let's examine mainstream young singles/couples against the rest of the cutomer segments to see if they prefer any particular brand of chips\n",
        "\n",
        "target = newdata.loc[(newdata['LIFESTAGE'] == 'YOUNG SINGLES/COUPLES') & (newdata['PREMIUM_CUSTOMER'] == 'Mainstream'), :]\n",
        "nonTarget = newdata.loc[(newdata['LIFESTAGE'] != 'YOUNG SINGLES/COUPLES' ) & (newdata['PREMIUM_CUSTOMER'] != 'Mainstream'), :]\n",
        "target.head()"
      ],
      "execution_count": null,
      "outputs": [
        {
          "output_type": "execute_result",
          "data": {
            "text/html": [
              "<div>\n",
              "<style scoped>\n",
              "    .dataframe tbody tr th:only-of-type {\n",
              "        vertical-align: middle;\n",
              "    }\n",
              "\n",
              "    .dataframe tbody tr th {\n",
              "        vertical-align: top;\n",
              "    }\n",
              "\n",
              "    .dataframe thead th {\n",
              "        text-align: right;\n",
              "    }\n",
              "</style>\n",
              "<table border=\"1\" class=\"dataframe\">\n",
              "  <thead>\n",
              "    <tr style=\"text-align: right;\">\n",
              "      <th></th>\n",
              "      <th>DATE</th>\n",
              "      <th>STORE_NBR</th>\n",
              "      <th>LYLTY_CARD_NBR</th>\n",
              "      <th>TXN_ID</th>\n",
              "      <th>PROD_NBR</th>\n",
              "      <th>PROD_NAME</th>\n",
              "      <th>PROD_QTY</th>\n",
              "      <th>TOT_SALES</th>\n",
              "      <th>PACK_SIZE</th>\n",
              "      <th>BRAND</th>\n",
              "      <th>LIFESTAGE</th>\n",
              "      <th>PREMIUM_CUSTOMER</th>\n",
              "      <th>PRICE</th>\n",
              "    </tr>\n",
              "  </thead>\n",
              "  <tbody>\n",
              "    <tr>\n",
              "      <th>221345</th>\n",
              "      <td>2018-08-16</td>\n",
              "      <td>1</td>\n",
              "      <td>1020</td>\n",
              "      <td>26</td>\n",
              "      <td>19</td>\n",
              "      <td>Smiths Crinkle Cut  Snag Sauce</td>\n",
              "      <td>1</td>\n",
              "      <td>2.6</td>\n",
              "      <td>150</td>\n",
              "      <td>Smiths</td>\n",
              "      <td>YOUNG SINGLES/COUPLES</td>\n",
              "      <td>Mainstream</td>\n",
              "      <td>2.6</td>\n",
              "    </tr>\n",
              "    <tr>\n",
              "      <th>221346</th>\n",
              "      <td>2018-10-02</td>\n",
              "      <td>1</td>\n",
              "      <td>1020</td>\n",
              "      <td>27</td>\n",
              "      <td>7</td>\n",
              "      <td>Smiths Crinkle      Original</td>\n",
              "      <td>1</td>\n",
              "      <td>5.7</td>\n",
              "      <td>330</td>\n",
              "      <td>Smiths</td>\n",
              "      <td>YOUNG SINGLES/COUPLES</td>\n",
              "      <td>Mainstream</td>\n",
              "      <td>5.7</td>\n",
              "    </tr>\n",
              "    <tr>\n",
              "      <th>221347</th>\n",
              "      <td>2019-05-02</td>\n",
              "      <td>1</td>\n",
              "      <td>1020</td>\n",
              "      <td>28</td>\n",
              "      <td>84</td>\n",
              "      <td>Grnwves Plus Btroot   Chilli Jam</td>\n",
              "      <td>1</td>\n",
              "      <td>3.1</td>\n",
              "      <td>180</td>\n",
              "      <td>Grainwaves</td>\n",
              "      <td>YOUNG SINGLES/COUPLES</td>\n",
              "      <td>Mainstream</td>\n",
              "      <td>3.1</td>\n",
              "    </tr>\n",
              "    <tr>\n",
              "      <th>221348</th>\n",
              "      <td>2018-08-17</td>\n",
              "      <td>1</td>\n",
              "      <td>1163</td>\n",
              "      <td>188</td>\n",
              "      <td>46</td>\n",
              "      <td>Kettle Original</td>\n",
              "      <td>1</td>\n",
              "      <td>5.4</td>\n",
              "      <td>175</td>\n",
              "      <td>Kettle</td>\n",
              "      <td>YOUNG SINGLES/COUPLES</td>\n",
              "      <td>Mainstream</td>\n",
              "      <td>5.4</td>\n",
              "    </tr>\n",
              "    <tr>\n",
              "      <th>221349</th>\n",
              "      <td>2019-02-07</td>\n",
              "      <td>1</td>\n",
              "      <td>1163</td>\n",
              "      <td>189</td>\n",
              "      <td>12</td>\n",
              "      <td>Natural Chip Co     Tmato Hrb Spce</td>\n",
              "      <td>1</td>\n",
              "      <td>3.0</td>\n",
              "      <td>175</td>\n",
              "      <td>Natural</td>\n",
              "      <td>YOUNG SINGLES/COUPLES</td>\n",
              "      <td>Mainstream</td>\n",
              "      <td>3.0</td>\n",
              "    </tr>\n",
              "  </tbody>\n",
              "</table>\n",
              "</div>"
            ],
            "text/plain": [
              "             DATE  STORE_NBR  ...  PREMIUM_CUSTOMER  PRICE\n",
              "221345 2018-08-16          1  ...        Mainstream    2.6\n",
              "221346 2018-10-02          1  ...        Mainstream    5.7\n",
              "221347 2019-05-02          1  ...        Mainstream    3.1\n",
              "221348 2018-08-17          1  ...        Mainstream    5.4\n",
              "221349 2019-02-07          1  ...        Mainstream    3.0\n",
              "\n",
              "[5 rows x 13 columns]"
            ]
          },
          "metadata": {
            "tags": []
          },
          "execution_count": 96
        }
      ]
    },
    {
      "cell_type": "code",
      "metadata": {
        "id": "xuwrxma9KL3Q",
        "colab_type": "code",
        "colab": {}
      },
      "source": [
        "# Affinity to brand\n",
        "\n",
        "# Target Segment\n",
        "targetBrand = target.loc[:, ['BRAND', 'PROD_QTY']]\n",
        "targetSum = targetBrand['PROD_QTY'].sum()\n",
        "targetBrand['Target Brand Affinity'] = targetBrand['PROD_QTY'] / targetSum\n",
        "targetBrand = pd.DataFrame(targetBrand.groupby('BRAND')['Target Brand Affinity'].sum())\n",
        "\n",
        "# Non-target segment\n",
        "nonTargetBrand = nonTarget.loc[:, ['BRAND', 'PROD_QTY']]\n",
        "nonTargetSum = nonTargetBrand['PROD_QTY'].sum()\n",
        "nonTargetBrand['Non-Target Brand Affinity'] = nonTargetBrand['PROD_QTY'] / nonTargetSum\n",
        "nonTargetBrand = pd.DataFrame(nonTargetBrand.groupby('BRAND')['Non-Target Brand Affinity'].sum())"
      ],
      "execution_count": null,
      "outputs": []
    },
    {
      "cell_type": "code",
      "metadata": {
        "id": "1BtqVTJhKUBY",
        "colab_type": "code",
        "colab": {
          "base_uri": "https://localhost:8080/",
          "height": 228
        },
        "outputId": "1f49dcd8-928f-41b0-d877-d90072637dce"
      },
      "source": [
        "# Merge the two dataframes together\n",
        "\n",
        "brand_proportions = pd.merge(targetBrand, nonTargetBrand, left_index = True, right_index = True)\n",
        "brand_proportions.head()"
      ],
      "execution_count": null,
      "outputs": [
        {
          "output_type": "execute_result",
          "data": {
            "text/html": [
              "<div>\n",
              "<style scoped>\n",
              "    .dataframe tbody tr th:only-of-type {\n",
              "        vertical-align: middle;\n",
              "    }\n",
              "\n",
              "    .dataframe tbody tr th {\n",
              "        vertical-align: top;\n",
              "    }\n",
              "\n",
              "    .dataframe thead th {\n",
              "        text-align: right;\n",
              "    }\n",
              "</style>\n",
              "<table border=\"1\" class=\"dataframe\">\n",
              "  <thead>\n",
              "    <tr style=\"text-align: right;\">\n",
              "      <th></th>\n",
              "      <th>Target Brand Affinity</th>\n",
              "      <th>Non-Target Brand Affinity</th>\n",
              "    </tr>\n",
              "    <tr>\n",
              "      <th>BRAND</th>\n",
              "      <th></th>\n",
              "      <th></th>\n",
              "    </tr>\n",
              "  </thead>\n",
              "  <tbody>\n",
              "    <tr>\n",
              "      <th>Burger</th>\n",
              "      <td>0.002926</td>\n",
              "      <td>0.006538</td>\n",
              "    </tr>\n",
              "    <tr>\n",
              "      <th>CCS</th>\n",
              "      <td>0.011180</td>\n",
              "      <td>0.018445</td>\n",
              "    </tr>\n",
              "    <tr>\n",
              "      <th>Cheetos</th>\n",
              "      <td>0.008033</td>\n",
              "      <td>0.011759</td>\n",
              "    </tr>\n",
              "    <tr>\n",
              "      <th>Cheezels</th>\n",
              "      <td>0.017971</td>\n",
              "      <td>0.018904</td>\n",
              "    </tr>\n",
              "    <tr>\n",
              "      <th>Cobs</th>\n",
              "      <td>0.044638</td>\n",
              "      <td>0.038449</td>\n",
              "    </tr>\n",
              "  </tbody>\n",
              "</table>\n",
              "</div>"
            ],
            "text/plain": [
              "          Target Brand Affinity  Non-Target Brand Affinity\n",
              "BRAND                                                     \n",
              "Burger                 0.002926                   0.006538\n",
              "CCS                    0.011180                   0.018445\n",
              "Cheetos                0.008033                   0.011759\n",
              "Cheezels               0.017971                   0.018904\n",
              "Cobs                   0.044638                   0.038449"
            ]
          },
          "metadata": {
            "tags": []
          },
          "execution_count": 98
        }
      ]
    },
    {
      "cell_type": "code",
      "metadata": {
        "id": "VwCm3BMlKhcO",
        "colab_type": "code",
        "colab": {
          "base_uri": "https://localhost:8080/",
          "height": 678
        },
        "outputId": "7acf279e-65a0-4a81-badb-7539e59a9fc9"
      },
      "source": [
        "brand_proportions['Affinity to Brand'] = brand_proportions['Target Brand Affinity'] / brand_proportions['Non-Target Brand Affinity']\n",
        "brand_proportions.sort_values(by = 'Affinity to Brand', ascending = False)"
      ],
      "execution_count": null,
      "outputs": [
        {
          "output_type": "execute_result",
          "data": {
            "text/html": [
              "<div>\n",
              "<style scoped>\n",
              "    .dataframe tbody tr th:only-of-type {\n",
              "        vertical-align: middle;\n",
              "    }\n",
              "\n",
              "    .dataframe tbody tr th {\n",
              "        vertical-align: top;\n",
              "    }\n",
              "\n",
              "    .dataframe thead th {\n",
              "        text-align: right;\n",
              "    }\n",
              "</style>\n",
              "<table border=\"1\" class=\"dataframe\">\n",
              "  <thead>\n",
              "    <tr style=\"text-align: right;\">\n",
              "      <th></th>\n",
              "      <th>Target Brand Affinity</th>\n",
              "      <th>Non-Target Brand Affinity</th>\n",
              "      <th>Affinity to Brand</th>\n",
              "    </tr>\n",
              "    <tr>\n",
              "      <th>BRAND</th>\n",
              "      <th></th>\n",
              "      <th></th>\n",
              "      <th></th>\n",
              "    </tr>\n",
              "  </thead>\n",
              "  <tbody>\n",
              "    <tr>\n",
              "      <th>Tyrrells</th>\n",
              "      <td>0.031553</td>\n",
              "      <td>0.025715</td>\n",
              "      <td>1.227025</td>\n",
              "    </tr>\n",
              "    <tr>\n",
              "      <th>Twisties</th>\n",
              "      <td>0.046184</td>\n",
              "      <td>0.037933</td>\n",
              "      <td>1.217506</td>\n",
              "    </tr>\n",
              "    <tr>\n",
              "      <th>Doritos</th>\n",
              "      <td>0.122761</td>\n",
              "      <td>0.101171</td>\n",
              "      <td>1.213397</td>\n",
              "    </tr>\n",
              "    <tr>\n",
              "      <th>Kettle</th>\n",
              "      <td>0.197985</td>\n",
              "      <td>0.166560</td>\n",
              "      <td>1.188667</td>\n",
              "    </tr>\n",
              "    <tr>\n",
              "      <th>Tostitos</th>\n",
              "      <td>0.045411</td>\n",
              "      <td>0.038350</td>\n",
              "      <td>1.184100</td>\n",
              "    </tr>\n",
              "    <tr>\n",
              "      <th>Pringles</th>\n",
              "      <td>0.119420</td>\n",
              "      <td>0.101110</td>\n",
              "      <td>1.181090</td>\n",
              "    </tr>\n",
              "    <tr>\n",
              "      <th>Cobs</th>\n",
              "      <td>0.044638</td>\n",
              "      <td>0.038449</td>\n",
              "      <td>1.160959</td>\n",
              "    </tr>\n",
              "    <tr>\n",
              "      <th>Infuzions</th>\n",
              "      <td>0.064679</td>\n",
              "      <td>0.057410</td>\n",
              "      <td>1.126622</td>\n",
              "    </tr>\n",
              "    <tr>\n",
              "      <th>Thins</th>\n",
              "      <td>0.060373</td>\n",
              "      <td>0.057159</td>\n",
              "      <td>1.056217</td>\n",
              "    </tr>\n",
              "    <tr>\n",
              "      <th>Grainwaves</th>\n",
              "      <td>0.032712</td>\n",
              "      <td>0.031069</td>\n",
              "      <td>1.052895</td>\n",
              "    </tr>\n",
              "    <tr>\n",
              "      <th>Cheezels</th>\n",
              "      <td>0.017971</td>\n",
              "      <td>0.018904</td>\n",
              "      <td>0.950653</td>\n",
              "    </tr>\n",
              "    <tr>\n",
              "      <th>Smiths</th>\n",
              "      <td>0.096370</td>\n",
              "      <td>0.124218</td>\n",
              "      <td>0.775811</td>\n",
              "    </tr>\n",
              "    <tr>\n",
              "      <th>French</th>\n",
              "      <td>0.003948</td>\n",
              "      <td>0.005707</td>\n",
              "      <td>0.691724</td>\n",
              "    </tr>\n",
              "    <tr>\n",
              "      <th>Cheetos</th>\n",
              "      <td>0.008033</td>\n",
              "      <td>0.011759</td>\n",
              "      <td>0.683150</td>\n",
              "    </tr>\n",
              "    <tr>\n",
              "      <th>Red Rock Deli</th>\n",
              "      <td>0.043810</td>\n",
              "      <td>0.067184</td>\n",
              "      <td>0.652080</td>\n",
              "    </tr>\n",
              "    <tr>\n",
              "      <th>Natural</th>\n",
              "      <td>0.019600</td>\n",
              "      <td>0.030959</td>\n",
              "      <td>0.633091</td>\n",
              "    </tr>\n",
              "    <tr>\n",
              "      <th>CCS</th>\n",
              "      <td>0.011180</td>\n",
              "      <td>0.018445</td>\n",
              "      <td>0.606142</td>\n",
              "    </tr>\n",
              "    <tr>\n",
              "      <th>Sunbites</th>\n",
              "      <td>0.006349</td>\n",
              "      <td>0.012613</td>\n",
              "      <td>0.503398</td>\n",
              "    </tr>\n",
              "    <tr>\n",
              "      <th>Woolworths</th>\n",
              "      <td>0.024099</td>\n",
              "      <td>0.048747</td>\n",
              "      <td>0.494376</td>\n",
              "    </tr>\n",
              "    <tr>\n",
              "      <th>Burger</th>\n",
              "      <td>0.002926</td>\n",
              "      <td>0.006538</td>\n",
              "      <td>0.447574</td>\n",
              "    </tr>\n",
              "  </tbody>\n",
              "</table>\n",
              "</div>"
            ],
            "text/plain": [
              "               Target Brand Affinity  ...  Affinity to Brand\n",
              "BRAND                                 ...                   \n",
              "Tyrrells                    0.031553  ...           1.227025\n",
              "Twisties                    0.046184  ...           1.217506\n",
              "Doritos                     0.122761  ...           1.213397\n",
              "Kettle                      0.197985  ...           1.188667\n",
              "Tostitos                    0.045411  ...           1.184100\n",
              "Pringles                    0.119420  ...           1.181090\n",
              "Cobs                        0.044638  ...           1.160959\n",
              "Infuzions                   0.064679  ...           1.126622\n",
              "Thins                       0.060373  ...           1.056217\n",
              "Grainwaves                  0.032712  ...           1.052895\n",
              "Cheezels                    0.017971  ...           0.950653\n",
              "Smiths                      0.096370  ...           0.775811\n",
              "French                      0.003948  ...           0.691724\n",
              "Cheetos                     0.008033  ...           0.683150\n",
              "Red Rock Deli               0.043810  ...           0.652080\n",
              "Natural                     0.019600  ...           0.633091\n",
              "CCS                         0.011180  ...           0.606142\n",
              "Sunbites                    0.006349  ...           0.503398\n",
              "Woolworths                  0.024099  ...           0.494376\n",
              "Burger                      0.002926  ...           0.447574\n",
              "\n",
              "[20 rows x 3 columns]"
            ]
          },
          "metadata": {
            "tags": []
          },
          "execution_count": 99
        }
      ]
    },
    {
      "cell_type": "code",
      "metadata": {
        "id": "HTHTUTGlMG_J",
        "colab_type": "code",
        "colab": {}
      },
      "source": [
        "# Comment: Mainstream young singles/couples are more likely to purchase Tyrrells chips compared to other brands"
      ],
      "execution_count": null,
      "outputs": []
    },
    {
      "cell_type": "code",
      "metadata": {
        "id": "IdVZiW2aMHzT",
        "colab_type": "code",
        "colab": {}
      },
      "source": [
        "# Affinity to pack size\n",
        "\n",
        "# Target Segment\n",
        "targetSize = target.loc[:, ['PACK_SIZE', 'PROD_QTY']]\n",
        "targetSum = targetSize['PROD_QTY'].sum()\n",
        "targetSize['Target Pack Affinity'] = targetSize['PROD_QTY'] / targetSum\n",
        "targetSize = pd.DataFrame(targetSize.groupby('PACK_SIZE')['Target Pack Affinity'].sum())\n",
        "\n",
        "# Non-target segment\n",
        "nonTargetSize = nonTarget.loc[:, ['PACK_SIZE', 'PROD_QTY']]\n",
        "nonTargetSum = nonTargetSize['PROD_QTY'].sum()\n",
        "nonTargetSize['Non-Target Pack Affinity'] = nonTargetSize['PROD_QTY'] / nonTargetSum\n",
        "nonTargetSize = pd.DataFrame(nonTargetSize.groupby('PACK_SIZE')['Non-Target Pack Affinity'].sum())"
      ],
      "execution_count": null,
      "outputs": []
    },
    {
      "cell_type": "code",
      "metadata": {
        "id": "f0gS3TKvMpvX",
        "colab_type": "code",
        "colab": {
          "base_uri": "https://localhost:8080/",
          "height": 228
        },
        "outputId": "3c0e70df-eebf-403a-be2d-bb5c61edfe3e"
      },
      "source": [
        "# Merge the two dataframes together\n",
        "\n",
        "pack_proportions = pd.merge(targetSize, nonTargetSize, left_index = True, right_index = True)\n",
        "pack_proportions.head()"
      ],
      "execution_count": null,
      "outputs": [
        {
          "output_type": "execute_result",
          "data": {
            "text/html": [
              "<div>\n",
              "<style scoped>\n",
              "    .dataframe tbody tr th:only-of-type {\n",
              "        vertical-align: middle;\n",
              "    }\n",
              "\n",
              "    .dataframe tbody tr th {\n",
              "        vertical-align: top;\n",
              "    }\n",
              "\n",
              "    .dataframe thead th {\n",
              "        text-align: right;\n",
              "    }\n",
              "</style>\n",
              "<table border=\"1\" class=\"dataframe\">\n",
              "  <thead>\n",
              "    <tr style=\"text-align: right;\">\n",
              "      <th></th>\n",
              "      <th>Target Pack Affinity</th>\n",
              "      <th>Non-Target Pack Affinity</th>\n",
              "    </tr>\n",
              "    <tr>\n",
              "      <th>PACK_SIZE</th>\n",
              "      <th></th>\n",
              "      <th></th>\n",
              "    </tr>\n",
              "  </thead>\n",
              "  <tbody>\n",
              "    <tr>\n",
              "      <th>70</th>\n",
              "      <td>0.003037</td>\n",
              "      <td>0.006284</td>\n",
              "    </tr>\n",
              "    <tr>\n",
              "      <th>90</th>\n",
              "      <td>0.006349</td>\n",
              "      <td>0.012613</td>\n",
              "    </tr>\n",
              "    <tr>\n",
              "      <th>110</th>\n",
              "      <td>0.106280</td>\n",
              "      <td>0.089575</td>\n",
              "    </tr>\n",
              "    <tr>\n",
              "      <th>125</th>\n",
              "      <td>0.003009</td>\n",
              "      <td>0.005976</td>\n",
              "    </tr>\n",
              "    <tr>\n",
              "      <th>134</th>\n",
              "      <td>0.119420</td>\n",
              "      <td>0.101110</td>\n",
              "    </tr>\n",
              "  </tbody>\n",
              "</table>\n",
              "</div>"
            ],
            "text/plain": [
              "           Target Pack Affinity  Non-Target Pack Affinity\n",
              "PACK_SIZE                                                \n",
              "70                     0.003037                  0.006284\n",
              "90                     0.006349                  0.012613\n",
              "110                    0.106280                  0.089575\n",
              "125                    0.003009                  0.005976\n",
              "134                    0.119420                  0.101110"
            ]
          },
          "metadata": {
            "tags": []
          },
          "execution_count": 101
        }
      ]
    },
    {
      "cell_type": "code",
      "metadata": {
        "id": "L6rN-LNZMtef",
        "colab_type": "code",
        "colab": {
          "base_uri": "https://localhost:8080/",
          "height": 54
        },
        "outputId": "32eb244c-0319-4a1f-df52-e527d1b3b4c1"
      },
      "source": [
        "newdata['PACK_SIZE'].unique()"
      ],
      "execution_count": null,
      "outputs": [
        {
          "output_type": "execute_result",
          "data": {
            "text/plain": [
              "array([175, 160, 170, 150, 330, 165, 110, 210, 180, 200, 134, 270, 220,\n",
              "       125, 135, 380, 250,  90, 190,  70])"
            ]
          },
          "metadata": {
            "tags": []
          },
          "execution_count": 106
        }
      ]
    },
    {
      "cell_type": "code",
      "metadata": {
        "id": "Lh9D1nYfNw7Z",
        "colab_type": "code",
        "colab": {
          "base_uri": "https://localhost:8080/",
          "height": 678
        },
        "outputId": "3a338526-b16d-4989-c725-ab81e5aaadbf"
      },
      "source": [
        "pack_proportions['Affinity to Pack'] = pack_proportions['Target Pack Affinity'] / pack_proportions['Non-Target Pack Affinity']\n",
        "pack_proportions.sort_values(by = 'Affinity to Pack', ascending = False)"
      ],
      "execution_count": null,
      "outputs": [
        {
          "output_type": "execute_result",
          "data": {
            "text/html": [
              "<div>\n",
              "<style scoped>\n",
              "    .dataframe tbody tr th:only-of-type {\n",
              "        vertical-align: middle;\n",
              "    }\n",
              "\n",
              "    .dataframe tbody tr th {\n",
              "        vertical-align: top;\n",
              "    }\n",
              "\n",
              "    .dataframe thead th {\n",
              "        text-align: right;\n",
              "    }\n",
              "</style>\n",
              "<table border=\"1\" class=\"dataframe\">\n",
              "  <thead>\n",
              "    <tr style=\"text-align: right;\">\n",
              "      <th></th>\n",
              "      <th>Target Pack Affinity</th>\n",
              "      <th>Non-Target Pack Affinity</th>\n",
              "      <th>Affinity to Pack</th>\n",
              "    </tr>\n",
              "    <tr>\n",
              "      <th>PACK_SIZE</th>\n",
              "      <th></th>\n",
              "      <th></th>\n",
              "      <th></th>\n",
              "    </tr>\n",
              "  </thead>\n",
              "  <tbody>\n",
              "    <tr>\n",
              "      <th>270</th>\n",
              "      <td>0.031829</td>\n",
              "      <td>0.025070</td>\n",
              "      <td>1.269608</td>\n",
              "    </tr>\n",
              "    <tr>\n",
              "      <th>380</th>\n",
              "      <td>0.032160</td>\n",
              "      <td>0.025711</td>\n",
              "      <td>1.250827</td>\n",
              "    </tr>\n",
              "    <tr>\n",
              "      <th>330</th>\n",
              "      <td>0.061284</td>\n",
              "      <td>0.050974</td>\n",
              "      <td>1.202243</td>\n",
              "    </tr>\n",
              "    <tr>\n",
              "      <th>110</th>\n",
              "      <td>0.106280</td>\n",
              "      <td>0.089575</td>\n",
              "      <td>1.186492</td>\n",
              "    </tr>\n",
              "    <tr>\n",
              "      <th>134</th>\n",
              "      <td>0.119420</td>\n",
              "      <td>0.101110</td>\n",
              "      <td>1.181090</td>\n",
              "    </tr>\n",
              "    <tr>\n",
              "      <th>210</th>\n",
              "      <td>0.029124</td>\n",
              "      <td>0.024891</td>\n",
              "      <td>1.170020</td>\n",
              "    </tr>\n",
              "    <tr>\n",
              "      <th>135</th>\n",
              "      <td>0.014769</td>\n",
              "      <td>0.012931</td>\n",
              "      <td>1.142086</td>\n",
              "    </tr>\n",
              "    <tr>\n",
              "      <th>250</th>\n",
              "      <td>0.014355</td>\n",
              "      <td>0.012863</td>\n",
              "      <td>1.115959</td>\n",
              "    </tr>\n",
              "    <tr>\n",
              "      <th>170</th>\n",
              "      <td>0.080773</td>\n",
              "      <td>0.080347</td>\n",
              "      <td>1.005300</td>\n",
              "    </tr>\n",
              "    <tr>\n",
              "      <th>150</th>\n",
              "      <td>0.157598</td>\n",
              "      <td>0.163070</td>\n",
              "      <td>0.966449</td>\n",
              "    </tr>\n",
              "    <tr>\n",
              "      <th>175</th>\n",
              "      <td>0.254990</td>\n",
              "      <td>0.271458</td>\n",
              "      <td>0.939335</td>\n",
              "    </tr>\n",
              "    <tr>\n",
              "      <th>165</th>\n",
              "      <td>0.055652</td>\n",
              "      <td>0.061587</td>\n",
              "      <td>0.903629</td>\n",
              "    </tr>\n",
              "    <tr>\n",
              "      <th>190</th>\n",
              "      <td>0.007481</td>\n",
              "      <td>0.012131</td>\n",
              "      <td>0.616696</td>\n",
              "    </tr>\n",
              "    <tr>\n",
              "      <th>180</th>\n",
              "      <td>0.003589</td>\n",
              "      <td>0.006177</td>\n",
              "      <td>0.580943</td>\n",
              "    </tr>\n",
              "    <tr>\n",
              "      <th>160</th>\n",
              "      <td>0.006404</td>\n",
              "      <td>0.012222</td>\n",
              "      <td>0.524013</td>\n",
              "    </tr>\n",
              "    <tr>\n",
              "      <th>125</th>\n",
              "      <td>0.003009</td>\n",
              "      <td>0.005976</td>\n",
              "      <td>0.503490</td>\n",
              "    </tr>\n",
              "    <tr>\n",
              "      <th>90</th>\n",
              "      <td>0.006349</td>\n",
              "      <td>0.012613</td>\n",
              "      <td>0.503398</td>\n",
              "    </tr>\n",
              "    <tr>\n",
              "      <th>200</th>\n",
              "      <td>0.008972</td>\n",
              "      <td>0.018471</td>\n",
              "      <td>0.485711</td>\n",
              "    </tr>\n",
              "    <tr>\n",
              "      <th>70</th>\n",
              "      <td>0.003037</td>\n",
              "      <td>0.006284</td>\n",
              "      <td>0.483256</td>\n",
              "    </tr>\n",
              "    <tr>\n",
              "      <th>220</th>\n",
              "      <td>0.002926</td>\n",
              "      <td>0.006538</td>\n",
              "      <td>0.447574</td>\n",
              "    </tr>\n",
              "  </tbody>\n",
              "</table>\n",
              "</div>"
            ],
            "text/plain": [
              "           Target Pack Affinity  Non-Target Pack Affinity  Affinity to Pack\n",
              "PACK_SIZE                                                                  \n",
              "270                    0.031829                  0.025070          1.269608\n",
              "380                    0.032160                  0.025711          1.250827\n",
              "330                    0.061284                  0.050974          1.202243\n",
              "110                    0.106280                  0.089575          1.186492\n",
              "134                    0.119420                  0.101110          1.181090\n",
              "210                    0.029124                  0.024891          1.170020\n",
              "135                    0.014769                  0.012931          1.142086\n",
              "250                    0.014355                  0.012863          1.115959\n",
              "170                    0.080773                  0.080347          1.005300\n",
              "150                    0.157598                  0.163070          0.966449\n",
              "175                    0.254990                  0.271458          0.939335\n",
              "165                    0.055652                  0.061587          0.903629\n",
              "190                    0.007481                  0.012131          0.616696\n",
              "180                    0.003589                  0.006177          0.580943\n",
              "160                    0.006404                  0.012222          0.524013\n",
              "125                    0.003009                  0.005976          0.503490\n",
              "90                     0.006349                  0.012613          0.503398\n",
              "200                    0.008972                  0.018471          0.485711\n",
              "70                     0.003037                  0.006284          0.483256\n",
              "220                    0.002926                  0.006538          0.447574"
            ]
          },
          "metadata": {
            "tags": []
          },
          "execution_count": 107
        }
      ]
    },
    {
      "cell_type": "code",
      "metadata": {
        "id": "bu6uwbPvN9vI",
        "colab_type": "code",
        "colab": {}
      },
      "source": [
        "# Comment: It looks like mainstream singles/couples are more likely to purchase a 270g pack size compared to other pack sizes"
      ],
      "execution_count": null,
      "outputs": []
    },
    {
      "cell_type": "code",
      "metadata": {
        "id": "21YFemYXOHCl",
        "colab_type": "code",
        "colab": {
          "base_uri": "https://localhost:8080/",
          "height": 541
        },
        "outputId": "722c90a9-4f30-420b-a2fd-a6cb5d019fcb"
      },
      "source": [
        "# Which brand offers 270g pack size\n",
        "\n",
        "newdata.loc[newdata['PACK_SIZE'] == 270, :].head(10)"
      ],
      "execution_count": null,
      "outputs": [
        {
          "output_type": "execute_result",
          "data": {
            "text/html": [
              "<div>\n",
              "<style scoped>\n",
              "    .dataframe tbody tr th:only-of-type {\n",
              "        vertical-align: middle;\n",
              "    }\n",
              "\n",
              "    .dataframe tbody tr th {\n",
              "        vertical-align: top;\n",
              "    }\n",
              "\n",
              "    .dataframe thead th {\n",
              "        text-align: right;\n",
              "    }\n",
              "</style>\n",
              "<table border=\"1\" class=\"dataframe\">\n",
              "  <thead>\n",
              "    <tr style=\"text-align: right;\">\n",
              "      <th></th>\n",
              "      <th>DATE</th>\n",
              "      <th>STORE_NBR</th>\n",
              "      <th>LYLTY_CARD_NBR</th>\n",
              "      <th>TXN_ID</th>\n",
              "      <th>PROD_NBR</th>\n",
              "      <th>PROD_NAME</th>\n",
              "      <th>PROD_QTY</th>\n",
              "      <th>TOT_SALES</th>\n",
              "      <th>PACK_SIZE</th>\n",
              "      <th>BRAND</th>\n",
              "      <th>LIFESTAGE</th>\n",
              "      <th>PREMIUM_CUSTOMER</th>\n",
              "      <th>PRICE</th>\n",
              "    </tr>\n",
              "  </thead>\n",
              "  <tbody>\n",
              "    <tr>\n",
              "      <th>34</th>\n",
              "      <td>2019-05-18</td>\n",
              "      <td>9</td>\n",
              "      <td>9208</td>\n",
              "      <td>8634</td>\n",
              "      <td>15</td>\n",
              "      <td>Twisties Cheese</td>\n",
              "      <td>2</td>\n",
              "      <td>9.2</td>\n",
              "      <td>270</td>\n",
              "      <td>Twisties</td>\n",
              "      <td>MIDAGE SINGLES/COUPLES</td>\n",
              "      <td>Budget</td>\n",
              "      <td>4.6</td>\n",
              "    </tr>\n",
              "    <tr>\n",
              "      <th>79</th>\n",
              "      <td>2018-08-24</td>\n",
              "      <td>39</td>\n",
              "      <td>39167</td>\n",
              "      <td>35639</td>\n",
              "      <td>113</td>\n",
              "      <td>Twisties Chicken</td>\n",
              "      <td>2</td>\n",
              "      <td>9.2</td>\n",
              "      <td>270</td>\n",
              "      <td>Twisties</td>\n",
              "      <td>MIDAGE SINGLES/COUPLES</td>\n",
              "      <td>Budget</td>\n",
              "      <td>4.6</td>\n",
              "    </tr>\n",
              "    <tr>\n",
              "      <th>125</th>\n",
              "      <td>2019-05-06</td>\n",
              "      <td>54</td>\n",
              "      <td>54305</td>\n",
              "      <td>48304</td>\n",
              "      <td>15</td>\n",
              "      <td>Twisties Cheese</td>\n",
              "      <td>2</td>\n",
              "      <td>9.2</td>\n",
              "      <td>270</td>\n",
              "      <td>Twisties</td>\n",
              "      <td>MIDAGE SINGLES/COUPLES</td>\n",
              "      <td>Budget</td>\n",
              "      <td>4.6</td>\n",
              "    </tr>\n",
              "    <tr>\n",
              "      <th>132</th>\n",
              "      <td>2019-05-20</td>\n",
              "      <td>55</td>\n",
              "      <td>55073</td>\n",
              "      <td>48887</td>\n",
              "      <td>113</td>\n",
              "      <td>Twisties Chicken</td>\n",
              "      <td>1</td>\n",
              "      <td>4.6</td>\n",
              "      <td>270</td>\n",
              "      <td>Twisties</td>\n",
              "      <td>MIDAGE SINGLES/COUPLES</td>\n",
              "      <td>Budget</td>\n",
              "      <td>4.6</td>\n",
              "    </tr>\n",
              "    <tr>\n",
              "      <th>209</th>\n",
              "      <td>2019-01-01</td>\n",
              "      <td>80</td>\n",
              "      <td>80182</td>\n",
              "      <td>78980</td>\n",
              "      <td>15</td>\n",
              "      <td>Twisties Cheese</td>\n",
              "      <td>2</td>\n",
              "      <td>9.2</td>\n",
              "      <td>270</td>\n",
              "      <td>Twisties</td>\n",
              "      <td>MIDAGE SINGLES/COUPLES</td>\n",
              "      <td>Budget</td>\n",
              "      <td>4.6</td>\n",
              "    </tr>\n",
              "    <tr>\n",
              "      <th>252</th>\n",
              "      <td>2018-11-18</td>\n",
              "      <td>84</td>\n",
              "      <td>84096</td>\n",
              "      <td>83672</td>\n",
              "      <td>113</td>\n",
              "      <td>Twisties Chicken</td>\n",
              "      <td>2</td>\n",
              "      <td>9.2</td>\n",
              "      <td>270</td>\n",
              "      <td>Twisties</td>\n",
              "      <td>MIDAGE SINGLES/COUPLES</td>\n",
              "      <td>Budget</td>\n",
              "      <td>4.6</td>\n",
              "    </tr>\n",
              "    <tr>\n",
              "      <th>253</th>\n",
              "      <td>2019-05-20</td>\n",
              "      <td>88</td>\n",
              "      <td>88320</td>\n",
              "      <td>87811</td>\n",
              "      <td>113</td>\n",
              "      <td>Twisties Chicken</td>\n",
              "      <td>2</td>\n",
              "      <td>9.2</td>\n",
              "      <td>270</td>\n",
              "      <td>Twisties</td>\n",
              "      <td>MIDAGE SINGLES/COUPLES</td>\n",
              "      <td>Budget</td>\n",
              "      <td>4.6</td>\n",
              "    </tr>\n",
              "    <tr>\n",
              "      <th>278</th>\n",
              "      <td>2018-07-11</td>\n",
              "      <td>102</td>\n",
              "      <td>102115</td>\n",
              "      <td>102207</td>\n",
              "      <td>15</td>\n",
              "      <td>Twisties Cheese</td>\n",
              "      <td>2</td>\n",
              "      <td>9.2</td>\n",
              "      <td>270</td>\n",
              "      <td>Twisties</td>\n",
              "      <td>MIDAGE SINGLES/COUPLES</td>\n",
              "      <td>Budget</td>\n",
              "      <td>4.6</td>\n",
              "    </tr>\n",
              "    <tr>\n",
              "      <th>347</th>\n",
              "      <td>2019-04-05</td>\n",
              "      <td>118</td>\n",
              "      <td>118007</td>\n",
              "      <td>120735</td>\n",
              "      <td>113</td>\n",
              "      <td>Twisties Chicken</td>\n",
              "      <td>2</td>\n",
              "      <td>9.2</td>\n",
              "      <td>270</td>\n",
              "      <td>Twisties</td>\n",
              "      <td>MIDAGE SINGLES/COUPLES</td>\n",
              "      <td>Budget</td>\n",
              "      <td>4.6</td>\n",
              "    </tr>\n",
              "    <tr>\n",
              "      <th>350</th>\n",
              "      <td>2018-07-01</td>\n",
              "      <td>119</td>\n",
              "      <td>119051</td>\n",
              "      <td>122360</td>\n",
              "      <td>113</td>\n",
              "      <td>Twisties Chicken</td>\n",
              "      <td>2</td>\n",
              "      <td>9.2</td>\n",
              "      <td>270</td>\n",
              "      <td>Twisties</td>\n",
              "      <td>MIDAGE SINGLES/COUPLES</td>\n",
              "      <td>Budget</td>\n",
              "      <td>4.6</td>\n",
              "    </tr>\n",
              "  </tbody>\n",
              "</table>\n",
              "</div>"
            ],
            "text/plain": [
              "          DATE  STORE_NBR  ...  PREMIUM_CUSTOMER  PRICE\n",
              "34  2019-05-18          9  ...            Budget    4.6\n",
              "79  2018-08-24         39  ...            Budget    4.6\n",
              "125 2019-05-06         54  ...            Budget    4.6\n",
              "132 2019-05-20         55  ...            Budget    4.6\n",
              "209 2019-01-01         80  ...            Budget    4.6\n",
              "252 2018-11-18         84  ...            Budget    4.6\n",
              "253 2019-05-20         88  ...            Budget    4.6\n",
              "278 2018-07-11        102  ...            Budget    4.6\n",
              "347 2019-04-05        118  ...            Budget    4.6\n",
              "350 2018-07-01        119  ...            Budget    4.6\n",
              "\n",
              "[10 rows x 13 columns]"
            ]
          },
          "metadata": {
            "tags": []
          },
          "execution_count": 108
        }
      ]
    },
    {
      "cell_type": "code",
      "metadata": {
        "id": "JoHJ4OpAOfCF",
        "colab_type": "code",
        "colab": {
          "base_uri": "https://localhost:8080/",
          "height": 35
        },
        "outputId": "2e23466a-f6e7-4e5b-d3c0-31b9dff48c1b"
      },
      "source": [
        "# Is Twisties the only brand who sells 270g pack size\n",
        "\n",
        "newdata.loc[newdata['PACK_SIZE'] == 270, 'BRAND'].unique()\n",
        "\n",
        "# Twisties is the only brand that offers 270g pack size "
      ],
      "execution_count": null,
      "outputs": [
        {
          "output_type": "execute_result",
          "data": {
            "text/plain": [
              "array(['Twisties'], dtype=object)"
            ]
          },
          "metadata": {
            "tags": []
          },
          "execution_count": 110
        }
      ]
    },
    {
      "cell_type": "markdown",
      "metadata": {
        "id": "4IE9szcSPP8z",
        "colab_type": "text"
      },
      "source": [
        "# conclusion\n",
        "\n",
        "*   Sales are highest for (Budget, OLDER FAMILIES), (Mainstream, YOUNG SINGLES/COUPLES) and (Mainstream, RETIREES)\n",
        "*   We found that (Mainstream, YOUNG SINGLES/COUPLES) and (Mainstream, RETIREES) are mainly due to the fact that there are more customers in these segments\n",
        "\n",
        "\n",
        "*   (Mainstream, YOUNG SINGLES/COUPLES) are more likely to pay more per packet of chips than their premium and budget counterparts\n",
        "*   They are also more likely to purchase 'Tyrrells' and '270g' pack sizes than the rest of the population\n",
        "\n",
        "\n"
      ]
    },
    {
      "cell_type": "markdown",
      "metadata": {
        "id": "LpHkGfPjP9BR",
        "colab_type": "text"
      },
      "source": [
        "# Recomendations\n",
        "The category manager may consider off-locating 'Tyrrells' chips in discretionary space near segments where young singles and couples frequent to increase the visibility and impulse behaviour\n"
      ]
    }
  ]
}